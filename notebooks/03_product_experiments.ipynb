{
 "cells": [
  {
   "cell_type": "markdown",
   "metadata": {},
   "source": [
    "## product_experiments    \n",
    "A/B testing and feature validation"
   ]
  },
  {
   "cell_type": "code",
   "execution_count": 1,
   "metadata": {},
   "outputs": [],
   "source": [
    "import pandas as pd\n",
    "import numpy as np\n",
    "import matplotlib.pyplot as plt\n",
    "import seaborn as sns\n",
    "from scipy import stats\n",
    "from scipy.stats import chi2_contingency, mannwhitneyu, ttest_ind, normaltest\n",
    "import plotly.express as px\n",
    "import plotly.graph_objects as go\n",
    "from plotly.subplots import make_subplots\n",
    "from datetime import datetime, timedelta\n",
    "import warnings\n",
    "warnings.filterwarnings('ignore')\n",
    "\n",
    "#import custom modules\n",
    "import sys\n",
    "import os\n",
    "sys.path.append(os.path.abspath(\"..\"))\n",
    "from src.experimentation import ExperimentAnalyzer\n",
    "\n",
    "# Set style\n",
    "plt.style.use('default')\n",
    "sns.set_palette(\"husl\")"
   ]
  },
  {
   "cell_type": "markdown",
   "metadata": {},
   "source": [
    "### 1. DATA LOADING AND PREPARATION"
   ]
  },
  {
   "cell_type": "code",
   "execution_count": 13,
   "metadata": {},
   "outputs": [
    {
     "name": "stdout",
     "output_type": "stream",
     "text": [
      "Dataset Overview:\n",
      "Shape: (9994, 19)\n",
      "Columns: ['Row ID', 'Order ID', 'Order Date', 'Date Key', 'Contact Name', 'Country', 'City', 'Region', 'Subregion', 'Customer', 'Customer ID', 'Industry', 'Segment', 'Product', 'License', 'Sales', 'Quantity', 'Discount', 'Profit']\n",
      "\n",
      "First few rows:\n",
      "   Row ID          Order ID  Order Date  Date Key    Contact Name  \\\n",
      "0       1  EMEA-2022-152156   11/9/2022  20221109     Nathan Bell   \n",
      "1       2  EMEA-2022-152156   11/9/2022  20221109     Nathan Bell   \n",
      "2       3  AMER-2022-138688   6/13/2022  20220613  Deirdre Bailey   \n",
      "3       4  EMEA-2021-108966  10/11/2021  20211011      Zoe Hodges   \n",
      "4       5  EMEA-2021-108966  10/11/2021  20211011      Zoe Hodges   \n",
      "\n",
      "         Country           City Region Subregion           Customer  \\\n",
      "0        Ireland         Dublin   EMEA      UKIR            Chevron   \n",
      "1        Ireland         Dublin   EMEA      UKIR            Chevron   \n",
      "2  United States  New York City   AMER     NAMER        Phillips 66   \n",
      "3        Germany      Stuttgart   EMEA   EU-WEST  Royal Dutch Shell   \n",
      "4        Germany      Stuttgart   EMEA   EU-WEST  Royal Dutch Shell   \n",
      "\n",
      "   Customer ID Industry    Segment                 Product     License  \\\n",
      "0         1017   Energy        SMB         Marketing Suite  16GRM07R1K   \n",
      "1         1017   Energy        SMB              FinanceHub  QLIW57KZUV   \n",
      "2         1056   Energy  Strategic              FinanceHub  JI6BVL70HQ   \n",
      "3         1031   Energy        SMB          ContactMatcher  DE9GJKGD44   \n",
      "4         1031   Energy        SMB  Marketing Suite - Gold  OIF7NY23WD   \n",
      "\n",
      "      Sales  Quantity  Discount    Profit  \n",
      "0  261.9600         2      0.00   41.9136  \n",
      "1  731.9400         3      0.00  219.5820  \n",
      "2   14.6200         2      0.00    6.8714  \n",
      "3  957.5775         5      0.45 -383.0310  \n",
      "4   22.3680         2      0.20    2.5164  \n",
      "\n",
      "Data Types:\n",
      "Row ID            int64\n",
      "Order ID         object\n",
      "Order Date       object\n",
      "Date Key          int64\n",
      "Contact Name     object\n",
      "Country          object\n",
      "City             object\n",
      "Region           object\n",
      "Subregion        object\n",
      "Customer         object\n",
      "Customer ID       int64\n",
      "Industry         object\n",
      "Segment          object\n",
      "Product          object\n",
      "License          object\n",
      "Sales           float64\n",
      "Quantity          int64\n",
      "Discount        float64\n",
      "Profit          float64\n",
      "dtype: object\n",
      "\n",
      "Missing Values:\n",
      "Row ID          0\n",
      "Order ID        0\n",
      "Order Date      0\n",
      "Date Key        0\n",
      "Contact Name    0\n",
      "Country         0\n",
      "City            0\n",
      "Region          0\n",
      "Subregion       0\n",
      "Customer        0\n",
      "Customer ID     0\n",
      "Industry        0\n",
      "Segment         0\n",
      "Product         0\n",
      "License         0\n",
      "Sales           0\n",
      "Quantity        0\n",
      "Discount        0\n",
      "Profit          0\n",
      "dtype: int64\n"
     ]
    }
   ],
   "source": [
    "# Load the AWS SaaS dataset\n",
    "df = pd.read_csv('../data/raw/saas_sales.csv')\n",
    "\n",
    "print(\"Dataset Overview:\")\n",
    "print(f\"Shape: {df.shape}\")\n",
    "print(f\"Columns: {df.columns.tolist()}\")\n",
    "print(\"\\nFirst few rows:\")\n",
    "print(df.head())\n",
    "\n",
    "# Basic data info\n",
    "print(\"\\nData Types:\")\n",
    "print(df.dtypes)\n",
    "print(\"\\nMissing Values:\")\n",
    "print(df.isnull().sum())"
   ]
  },
  {
   "cell_type": "markdown",
   "metadata": {},
   "source": [
    "### 2. EXPERIMENT SETUP AND SYNTHETIC A/B TEST CREATION"
   ]
  },
  {
   "cell_type": "code",
   "execution_count": 3,
   "metadata": {},
   "outputs": [
    {
     "name": "stdout",
     "output_type": "stream",
     "text": [
      "\n",
      "Experiment Setup Complete!\n",
      "Created experiments:\n",
      "- Pricing Strategy Test (Control vs Treatment)\n",
      "- UI/UX Test (Control vs Treatment)\n",
      "- Feature Test (Control vs Treatment)\n",
      "\n",
      "Experiment distributions:\n",
      "pricing_experiment: {'Control': 5130, 'Treatment': 4864}\n",
      "ui_experiment: {'Control': 5037, 'Treatment': 4957}\n",
      "feature_experiment: {'Treatment': 6172, 'Control': 3822}\n"
     ]
    }
   ],
   "source": [
    "# Since the AWS dataset might not have explicit experiment data,\n",
    "# we'll create synthetic A/B tests based on existing features\n",
    "def create_synthetic_experiments(df):\n",
    "    \"\"\"Create synthetic A/B test scenarios from existing data\"\"\"\n",
    "    \n",
    "    # Get key columns\n",
    "    customer_col = [col for col in df.columns if 'customer' in col.lower() or 'user' in col.lower()]\n",
    "    date_col = [col for col in df.columns if 'date' in col.lower() or 'time' in col.lower()]\n",
    "    revenue_col = [col for col in df.columns if 'sales' in col.lower() or 'revenue' in col.lower() or 'amount' in col.lower()]\n",
    "    \n",
    "    if customer_col:\n",
    "        customer_col = customer_col[0]\n",
    "    if date_col:\n",
    "        date_col = date_col[0]\n",
    "        df[date_col] = pd.to_datetime(df[date_col], errors='coerce')\n",
    "    if revenue_col:\n",
    "        revenue_col = revenue_col[0]\n",
    "    \n",
    "    # Create experiment scenarios\n",
    "    np.random.seed(42)\n",
    "    \n",
    "    # Experiment 1: Pricing Strategy Test\n",
    "    # Split customers into control (current pricing) and treatment (new pricing)\n",
    "    unique_customers = df[customer_col].unique() if customer_col else range(len(df))\n",
    "    \n",
    "    experiment_assignments = pd.DataFrame({\n",
    "        'customer_id': unique_customers,\n",
    "        'pricing_experiment': np.random.choice(['Control', 'Treatment'], \n",
    "                                             size=len(unique_customers), \n",
    "                                             p=[0.5, 0.5]),\n",
    "        'ui_experiment': np.random.choice(['Control', 'Treatment'], \n",
    "                                        size=len(unique_customers), \n",
    "                                        p=[0.5, 0.5]),\n",
    "        'feature_experiment': np.random.choice(['Control', 'Treatment'], \n",
    "                                             size=len(unique_customers), \n",
    "                                             p=[0.5, 0.5])\n",
    "    })\n",
    "    \n",
    "    # Merge with main dataset\n",
    "    if customer_col:\n",
    "        df = df.merge(experiment_assignments.rename(columns={'customer_id': customer_col}), \n",
    "                     on=customer_col, how='left')\n",
    "    else:\n",
    "        # If no customer column, assign randomly\n",
    "        df['pricing_experiment'] = np.random.choice(['Control', 'Treatment'], \n",
    "                                                  size=len(df), p=[0.5, 0.5])\n",
    "        df['ui_experiment'] = np.random.choice(['Control', 'Treatment'], \n",
    "                                             size=len(df), p=[0.5, 0.5])\n",
    "        df['feature_experiment'] = np.random.choice(['Control', 'Treatment'], \n",
    "                                                  size=len(df), p=[0.5, 0.5])\n",
    "    \n",
    "    # Add synthetic effects to make experiments realistic\n",
    "    if revenue_col:\n",
    "        # Pricing experiment: Treatment group has 15% higher revenue\n",
    "        df.loc[df['pricing_experiment'] == 'Treatment', revenue_col] *= 1.15\n",
    "        \n",
    "        # UI experiment: Treatment group has 8% higher revenue\n",
    "        df.loc[df['ui_experiment'] == 'Treatment', revenue_col] *= 1.08\n",
    "    \n",
    "    # Create conversion metrics\n",
    "    df['converted'] = np.random.choice([0, 1], size=len(df), p=[0.7, 0.3])\n",
    "    \n",
    "    # Treatment groups have higher conversion rates\n",
    "    df.loc[df['pricing_experiment'] == 'Treatment', 'converted'] = np.random.choice(\n",
    "        [0, 1], size=sum(df['pricing_experiment'] == 'Treatment'), p=[0.6, 0.4]\n",
    "    )\n",
    "    \n",
    "    df.loc[df['ui_experiment'] == 'Treatment', 'converted'] = np.random.choice(\n",
    "        [0, 1], size=sum(df['ui_experiment'] == 'Treatment'), p=[0.65, 0.35]\n",
    "    )\n",
    "    \n",
    "    # Add engagement metrics\n",
    "    df['page_views'] = np.random.poisson(lam=5, size=len(df))\n",
    "    df['session_duration'] = np.random.exponential(scale=10, size=len(df))\n",
    "    df['clicks'] = np.random.poisson(lam=3, size=len(df))\n",
    "    \n",
    "    # Treatment effects on engagement\n",
    "    df.loc[df['ui_experiment'] == 'Treatment', 'page_views'] *= 1.2\n",
    "    df.loc[df['ui_experiment'] == 'Treatment', 'session_duration'] *= 1.3\n",
    "    df.loc[df['feature_experiment'] == 'Treatment', 'clicks'] *= 1.25\n",
    "    \n",
    "    return df\n",
    "\n",
    "# Create synthetic experiments\n",
    "df = create_synthetic_experiments(df)\n",
    "\n",
    "print(\"\\nExperiment Setup Complete!\")\n",
    "print(\"Created experiments:\")\n",
    "print(\"- Pricing Strategy Test (Control vs Treatment)\")\n",
    "print(\"- UI/UX Test (Control vs Treatment)\")\n",
    "print(\"- Feature Test (Control vs Treatment)\")\n",
    "print(\"\\nExperiment distributions:\")\n",
    "for exp in ['pricing_experiment', 'ui_experiment', 'feature_experiment']:\n",
    "    print(f\"{exp}: {df[exp].value_counts().to_dict()}\")"
   ]
  },
  {
   "cell_type": "markdown",
   "metadata": {},
   "source": [
    "### 3. EXPERIMENT ANALYSIS FRAMEWORK"
   ]
  },
  {
   "cell_type": "code",
   "execution_count": 4,
   "metadata": {},
   "outputs": [],
   "source": [
    "# Initialize analyzer\n",
    "analyzer = ExperimentAnalyzer(df)\n",
    "\n",
    "# Define metrics to analyze\n",
    "continuous_metrics = ['page_views', 'session_duration', 'clicks']\n",
    "if 'sales' in df.columns:\n",
    "    continuous_metrics.append('sales')\n",
    "if 'revenue' in df.columns:\n",
    "    continuous_metrics.append('revenue')\n",
    "\n",
    "binary_metrics = ['converted']\n",
    "\n",
    "all_metrics = continuous_metrics + binary_metrics"
   ]
  },
  {
   "cell_type": "markdown",
   "metadata": {},
   "source": [
    "### 4. PRICING EXPERIMENT ANALYSIS"
   ]
  },
  {
   "cell_type": "code",
   "execution_count": 5,
   "metadata": {},
   "outputs": [
    {
     "name": "stdout",
     "output_type": "stream",
     "text": [
      "\n",
      "================================================================================\n",
      "PRICING EXPERIMENT ANALYSIS\n",
      "================================================================================\n",
      "\n",
      "📊 PRICING EXPERIMENT RESULTS:\n",
      "------------------------------------------------------------\n",
      "\n",
      "🎯 PAGE_VIEWS:\n",
      "   Control Mean: 5.50\n",
      "   Treatment Mean: 5.51\n",
      "   Lift: 0.30%\n",
      "   P-value: 0.7928\n",
      "   Significant: ❌ NO\n",
      "   Sample Sizes: Control=5130, Treatment=4864\n",
      "   Effect Size: 0.007 (Small)\n",
      "\n",
      "🎯 SESSION_DURATION:\n",
      "   Control Mean: 11.56\n",
      "   Treatment Mean: 11.52\n",
      "   Lift: -0.36%\n",
      "   P-value: 0.5901\n",
      "   Significant: ❌ NO\n",
      "   Sample Sizes: Control=5130, Treatment=4864\n",
      "   Effect Size: -0.004 (Small)\n",
      "\n",
      "🎯 CLICKS:\n",
      "   Control Mean: 3.48\n",
      "   Treatment Mean: 3.39\n",
      "   Lift: -2.65%\n",
      "   P-value: 0.0500\n",
      "   Significant: ❌ NO\n",
      "   Sample Sizes: Control=5130, Treatment=4864\n",
      "   Effect Size: -0.046 (Small)\n",
      "\n",
      "🎯 CONVERTED:\n",
      "   Control Rate: 0.316 (31.6%)\n",
      "   Treatment Rate: 0.375 (37.5%)\n",
      "   Lift: 18.95%\n",
      "   P-value: 0.0000\n",
      "   Significant: ✅ YES\n",
      "   Sample Sizes: Control=5130, Treatment=4864\n"
     ]
    },
    {
     "data": {
      "image/png": "[encoded data removed]",
      "text/plain": [
       "<Figure size 1080x720 with 4 Axes>"
      ]
     },
     "metadata": {
      "needs_background": "light"
     },
     "output_type": "display_data"
    }
   ],
   "source": [
    "print(\"\\n\" + \"=\"*80)\n",
    "print(\"PRICING EXPERIMENT ANALYSIS\")\n",
    "print(\"=\"*80)\n",
    "\n",
    "pricing_results = analyzer.run_experiment_analysis('pricing_experiment', all_metrics)\n",
    "\n",
    "def print_experiment_results(results, experiment_name):\n",
    "    \"\"\"Print formatted experiment results\"\"\"\n",
    "    \n",
    "    print(f\"\\n📊 {experiment_name.upper()} RESULTS:\")\n",
    "    print(\"-\" * 60)\n",
    "    \n",
    "    for metric, result in results.items():\n",
    "        print(f\"\\n🎯 {metric.upper()}:\")\n",
    "        \n",
    "        if 'control_rate' in result:\n",
    "            # Binary metric\n",
    "            print(f\"   Control Rate: {result['control_rate']:.3f} ({result['control_rate']*100:.1f}%)\")\n",
    "            print(f\"   Treatment Rate: {result['treatment_rate']:.3f} ({result['treatment_rate']*100:.1f}%)\")\n",
    "        else:\n",
    "            # Continuous metric\n",
    "            print(f\"   Control Mean: {result['control_mean']:.2f}\")\n",
    "            print(f\"   Treatment Mean: {result['treatment_mean']:.2f}\")\n",
    "        \n",
    "        print(f\"   Lift: {result['lift']:.2f}%\")\n",
    "        print(f\"   P-value: {result['p_value']:.4f}\")\n",
    "        print(f\"   Significant: {'✅ YES' if result['significant'] else '❌ NO'}\")\n",
    "        print(f\"   Sample Sizes: Control={result['control_n']}, Treatment={result['treatment_n']}\")\n",
    "        \n",
    "        if 'cohens_d' in result:\n",
    "            effect_size = \"Small\" if abs(result['cohens_d']) < 0.5 else \"Medium\" if abs(result['cohens_d']) < 0.8 else \"Large\"\n",
    "            print(f\"   Effect Size: {result['cohens_d']:.3f} ({effect_size})\")\n",
    "\n",
    "print_experiment_results(pricing_results, \"Pricing Experiment\")\n",
    "\n",
    "# Visualize pricing experiment results\n",
    "fig, axes = plt.subplots(2, 2, figsize=(15, 10))\n",
    "fig.suptitle('Pricing Experiment Results', fontsize=16)\n",
    "\n",
    "# Conversion rate comparison\n",
    "conversion_data = df.groupby('pricing_experiment')['converted'].agg(['mean', 'count']).reset_index()\n",
    "conversion_data['mean'].plot(kind='bar', ax=axes[0,0], color=['lightblue', 'lightcoral'])\n",
    "axes[0,0].set_title('Conversion Rate by Group')\n",
    "axes[0,0].set_ylabel('Conversion Rate')\n",
    "axes[0,0].set_xlabel('Experiment Group')\n",
    "axes[0,0].tick_params(axis='x', rotation=0)\n",
    "\n",
    "# Revenue comparison (if available)\n",
    "if 'sales' in df.columns:\n",
    "    df.boxplot(column='sales', by='pricing_experiment', ax=axes[0,1])\n",
    "    axes[0,1].set_title('Revenue Distribution by Group')\n",
    "    axes[0,1].set_ylabel('Revenue')\n",
    "\n",
    "# Page views comparison\n",
    "df.boxplot(column='page_views', by='pricing_experiment', ax=axes[1,0])\n",
    "axes[1,0].set_title('Page Views by Group')\n",
    "axes[1,0].set_ylabel('Page Views')\n",
    "\n",
    "# Session duration comparison\n",
    "df.boxplot(column='session_duration', by='pricing_experiment', ax=axes[1,1])\n",
    "axes[1,1].set_title('Session Duration by Group')\n",
    "axes[1,1].set_ylabel('Session Duration (minutes)')\n",
    "\n",
    "plt.tight_layout()\n",
    "plt.show()"
   ]
  },
  {
   "cell_type": "markdown",
   "metadata": {},
   "source": [
    "### 5. UI/UX EXPERIMENT ANALYSIS"
   ]
  },
  {
   "cell_type": "code",
   "execution_count": 6,
   "metadata": {},
   "outputs": [
    {
     "name": "stdout",
     "output_type": "stream",
     "text": [
      "\n",
      "================================================================================\n",
      "UI/UX EXPERIMENT ANALYSIS\n",
      "================================================================================\n",
      "\n",
      "📊 UI/UX EXPERIMENT RESULTS:\n",
      "------------------------------------------------------------\n",
      "\n",
      "🎯 PAGE_VIEWS:\n",
      "   Control Mean: 5.06\n",
      "   Treatment Mean: 5.96\n",
      "   Lift: 17.90%\n",
      "   P-value: 0.0000\n",
      "   Significant: ✅ YES\n",
      "   Sample Sizes: Control=5037, Treatment=4957\n",
      "   Effect Size: 0.369 (Small)\n",
      "\n",
      "🎯 SESSION_DURATION:\n",
      "   Control Mean: 10.09\n",
      "   Treatment Mean: 13.02\n",
      "   Lift: 28.97%\n",
      "   P-value: 0.0000\n",
      "   Significant: ✅ YES\n",
      "   Sample Sizes: Control=5037, Treatment=4957\n",
      "   Effect Size: 0.252 (Small)\n",
      "\n",
      "🎯 CLICKS:\n",
      "   Control Mean: 3.46\n",
      "   Treatment Mean: 3.41\n",
      "   Lift: -1.46%\n",
      "   P-value: 0.0963\n",
      "   Significant: ❌ NO\n",
      "   Sample Sizes: Control=5037, Treatment=4957\n",
      "   Effect Size: -0.025 (Small)\n",
      "\n",
      "🎯 CONVERTED:\n",
      "   Control Rate: 0.329 (32.9%)\n",
      "   Treatment Rate: 0.361 (36.1%)\n",
      "   Lift: 9.52%\n",
      "   P-value: 0.0011\n",
      "   Significant: ✅ YES\n",
      "   Sample Sizes: Control=5037, Treatment=4957\n"
     ]
    },
    {
     "data": {
      "image/png": "[encoded data removed]",
      "text/plain": [
       "<Figure size 1080x720 with 5 Axes>"
      ]
     },
     "metadata": {
      "needs_background": "light"
     },
     "output_type": "display_data"
    }
   ],
   "source": [
    "print(\"\\n\" + \"=\"*80)\n",
    "print(\"UI/UX EXPERIMENT ANALYSIS\")\n",
    "print(\"=\"*80)\n",
    "\n",
    "ui_results = analyzer.run_experiment_analysis('ui_experiment', all_metrics)\n",
    "print_experiment_results(ui_results, \"UI/UX Experiment\")\n",
    "\n",
    "# Visualize UI experiment results\n",
    "fig, axes = plt.subplots(2, 2, figsize=(15, 10))\n",
    "fig.suptitle('UI/UX Experiment Results', fontsize=16)\n",
    "\n",
    "# Engagement metrics heatmap\n",
    "engagement_by_group = df.groupby('ui_experiment')[['page_views', 'session_duration', 'clicks']].mean()\n",
    "sns.heatmap(engagement_by_group.T, annot=True, fmt='.2f', cmap='YlOrRd', ax=axes[0,0])\n",
    "axes[0,0].set_title('Engagement Metrics by Group')\n",
    "\n",
    "# Conversion funnel\n",
    "conversion_funnel = df.groupby('ui_experiment').agg({\n",
    "    'page_views': 'sum',\n",
    "    'clicks': 'sum',\n",
    "    'converted': 'sum'\n",
    "}).reset_index()\n",
    "\n",
    "conversion_funnel['click_rate'] = conversion_funnel['clicks'] / conversion_funnel['page_views']\n",
    "conversion_funnel['conversion_rate'] = conversion_funnel['converted'] / conversion_funnel['clicks']\n",
    "\n",
    "x = np.arange(len(conversion_funnel))\n",
    "width = 0.35\n",
    "\n",
    "axes[0,1].bar(x - width/2, conversion_funnel['click_rate'], width, label='Click Rate', alpha=0.7)\n",
    "axes[0,1].bar(x + width/2, conversion_funnel['conversion_rate'], width, label='Conversion Rate', alpha=0.7)\n",
    "axes[0,1].set_title('Conversion Funnel by Group')\n",
    "axes[0,1].set_ylabel('Rate')\n",
    "axes[0,1].set_xticks(x)\n",
    "axes[0,1].set_xticklabels(conversion_funnel['ui_experiment'])\n",
    "axes[0,1].legend()\n",
    "\n",
    "# Statistical significance visualization\n",
    "metrics_to_plot = ['page_views', 'session_duration']\n",
    "for i, metric in enumerate(metrics_to_plot):\n",
    "    control_data = df[df['ui_experiment'] == 'Control'][metric]\n",
    "    treatment_data = df[df['ui_experiment'] == 'Treatment'][metric]\n",
    "    \n",
    "    axes[1,i].hist(control_data, alpha=0.7, label='Control', bins=20)\n",
    "    axes[1,i].hist(treatment_data, alpha=0.7, label='Treatment', bins=20)\n",
    "    axes[1,i].set_title(f'{metric.title()} Distribution')\n",
    "    axes[1,i].set_xlabel(metric.title())\n",
    "    axes[1,i].set_ylabel('Frequency')\n",
    "    axes[1,i].legend()\n",
    "\n",
    "plt.tight_layout()\n",
    "plt.show()"
   ]
  },
  {
   "cell_type": "markdown",
   "metadata": {},
   "source": [
    "### 6. FEATURE EXPERIMENT ANALYSIS"
   ]
  },
  {
   "cell_type": "code",
   "execution_count": 7,
   "metadata": {},
   "outputs": [
    {
     "name": "stdout",
     "output_type": "stream",
     "text": [
      "\n",
      "================================================================================\n",
      "FEATURE EXPERIMENT ANALYSIS\n",
      "================================================================================\n",
      "\n",
      "📊 FEATURE EXPERIMENT RESULTS:\n",
      "------------------------------------------------------------\n",
      "\n",
      "🎯 PAGE_VIEWS:\n",
      "   Control Mean: 5.43\n",
      "   Treatment Mean: 5.56\n",
      "   Lift: 2.35%\n",
      "   P-value: 0.0247\n",
      "   Significant: ✅ YES\n",
      "   Sample Sizes: Control=3822, Treatment=6172\n",
      "   Effect Size: 0.051 (Small)\n",
      "\n",
      "🎯 SESSION_DURATION:\n",
      "   Control Mean: 11.46\n",
      "   Treatment Mean: 11.60\n",
      "   Lift: 1.22%\n",
      "   P-value: 0.8327\n",
      "   Significant: ❌ NO\n",
      "   Sample Sizes: Control=3822, Treatment=6172\n",
      "   Effect Size: 0.012 (Small)\n",
      "\n",
      "🎯 CLICKS:\n",
      "   Control Mean: 2.95\n",
      "   Treatment Mean: 3.73\n",
      "   Lift: 26.22%\n",
      "   P-value: 0.0000\n",
      "   Significant: ✅ YES\n",
      "   Sample Sizes: Control=3822, Treatment=6172\n",
      "   Effect Size: 0.390 (Small)\n",
      "\n",
      "🎯 CONVERTED:\n",
      "   Control Rate: 0.330 (33.0%)\n",
      "   Treatment Rate: 0.354 (35.4%)\n",
      "   Lift: 6.98%\n",
      "   P-value: 0.0194\n",
      "   Significant: ✅ YES\n",
      "   Sample Sizes: Control=3822, Treatment=6172\n"
     ]
    }
   ],
   "source": [
    "print(\"\\n\" + \"=\"*80)\n",
    "print(\"FEATURE EXPERIMENT ANALYSIS\")\n",
    "print(\"=\"*80)\n",
    "\n",
    "feature_results = analyzer.run_experiment_analysis('feature_experiment', all_metrics)\n",
    "print_experiment_results(feature_results, \"Feature Experiment\")"
   ]
  },
  {
   "cell_type": "markdown",
   "metadata": {},
   "source": [
    "### 7. MULTI-VARIATE ANALYSIS"
   ]
  },
  {
   "cell_type": "code",
   "execution_count": 8,
   "metadata": {},
   "outputs": [
    {
     "name": "stdout",
     "output_type": "stream",
     "text": [
      "\n",
      "================================================================================\n",
      "MULTI-VARIATE EXPERIMENT ANALYSIS\n",
      "================================================================================\n",
      "\n",
      "Interaction Effects Analysis:\n",
      "Top 3 performing combinations:\n",
      "   Treatment-Control-Treatment: 0.389 conversion rate\n",
      "   Treatment-Control-Control: 0.384 conversion rate\n",
      "   Treatment-Treatment-Treatment: 0.378 conversion rate\n"
     ]
    },
    {
     "data": {
      "application/vnd.plotly.v1+json": {
       "config": {
        "plotlyServerURL": "https://plot.ly"
       },
       "data": [
        {
         "domain": {
          "x": [
           0,
           1
          ],
          "y": [
           0,
           1
          ]
         },
         "line": {
          "color": [
           0.265625,
           0.2769342010122921,
           0.3456973293768546,
           0.36283185840707965,
           0.3839611178614824,
           0.38892197736748063,
           0.34782608695652173,
           0.3776282590412111
          ],
          "coloraxis": "coloraxis"
         },
         "name": "",
         "type": "parcoords"
        }
       ],
       "layout": {
        "coloraxis": {
         "colorbar": {
          "title": {
           "text": "converted"
          }
         },
         "colorscale": [
          [
           0,
           "#440154"
          ],
          [
           0.1111111111111111,
           "#482878"
          ],
          [
           0.2222222222222222,
           "#3e4989"
          ],
          [
           0.3333333333333333,
           "#31688e"
          ],
          [
           0.4444444444444444,
           "#26828e"
          ],
          [
           0.5555555555555556,
           "#1f9e89"
          ],
          [
           0.6666666666666666,
           "#35b779"
          ],
          [
           0.7777777777777778,
           "#6ece58"
          ],
          [
           0.8888888888888888,
           "#b5de2b"
          ],
          [
           1,
           "#fde725"
          ]
         ]
        },
        "legend": {
         "tracegroupgap": 0
        },
        "template": {
         "data": {
          "bar": [
           {
            "error_x": {
             "color": "#2a3f5f"
            },
            "error_y": {
             "color": "#2a3f5f"
            },
            "marker": {
             "line": {
              "color": "#E5ECF6",
              "width": 0.5
             },
             "pattern": {
              "fillmode": "overlay",
              "size": 10,
              "solidity": 0.2
             }
            },
            "type": "bar"
           }
          ],
          "barpolar": [
           {
            "marker": {
             "line": {
              "color": "#E5ECF6",
              "width": 0.5
             },
             "pattern": {
              "fillmode": "overlay",
              "size": 10,
              "solidity": 0.2
             }
            },
            "type": "barpolar"
           }
          ],
          "carpet": [
           {
            "aaxis": {
             "endlinecolor": "#2a3f5f",
             "gridcolor": "white",
             "linecolor": "white",
             "minorgridcolor": "white",
             "startlinecolor": "#2a3f5f"
            },
            "baxis": {
             "endlinecolor": "#2a3f5f",
             "gridcolor": "white",
             "linecolor": "white",
             "minorgridcolor": "white",
             "startlinecolor": "#2a3f5f"
            },
            "type": "carpet"
           }
          ],
          "choropleth": [
           {
            "colorbar": {
             "outlinewidth": 0,
             "ticks": ""
            },
            "type": "choropleth"
           }
          ],
          "contour": [
           {
            "colorbar": {
             "outlinewidth": 0,
             "ticks": ""
            },
            "colorscale": [
             [
              0,
              "#0d0887"
             ],
             [
              0.1111111111111111,
              "#46039f"
             ],
             [
              0.2222222222222222,
              "#7201a8"
             ],
             [
              0.3333333333333333,
              "#9c179e"
             ],
             [
              0.4444444444444444,
              "#bd3786"
             ],
             [
              0.5555555555555556,
              "#d8576b"
             ],
             [
              0.6666666666666666,
              "#ed7953"
             ],
             [
              0.7777777777777778,
              "#fb9f3a"
             ],
             [
              0.8888888888888888,
              "#fdca26"
             ],
             [
              1,
              "#f0f921"
             ]
            ],
            "type": "contour"
           }
          ],
          "contourcarpet": [
           {
            "colorbar": {
             "outlinewidth": 0,
             "ticks": ""
            },
            "type": "contourcarpet"
           }
          ],
          "heatmap": [
           {
            "colorbar": {
             "outlinewidth": 0,
             "ticks": ""
            },
            "colorscale": [
             [
              0,
              "#0d0887"
             ],
             [
              0.1111111111111111,
              "#46039f"
             ],
             [
              0.2222222222222222,
              "#7201a8"
             ],
             [
              0.3333333333333333,
              "#9c179e"
             ],
             [
              0.4444444444444444,
              "#bd3786"
             ],
             [
              0.5555555555555556,
              "#d8576b"
             ],
             [
              0.6666666666666666,
              "#ed7953"
             ],
             [
              0.7777777777777778,
              "#fb9f3a"
             ],
             [
              0.8888888888888888,
              "#fdca26"
             ],
             [
              1,
              "#f0f921"
             ]
            ],
            "type": "heatmap"
           }
          ],
          "heatmapgl": [
           {
            "colorbar": {
             "outlinewidth": 0,
             "ticks": ""
            },
            "colorscale": [
             [
              0,
              "#0d0887"
             ],
             [
              0.1111111111111111,
              "#46039f"
             ],
             [
              0.2222222222222222,
              "#7201a8"
             ],
             [
              0.3333333333333333,
              "#9c179e"
             ],
             [
              0.4444444444444444,
              "#bd3786"
             ],
             [
              0.5555555555555556,
              "#d8576b"
             ],
             [
              0.6666666666666666,
              "#ed7953"
             ],
             [
              0.7777777777777778,
              "#fb9f3a"
             ],
             [
              0.8888888888888888,
              "#fdca26"
             ],
             [
              1,
              "#f0f921"
             ]
            ],
            "type": "heatmapgl"
           }
          ],
          "histogram": [
           {
            "marker": {
             "pattern": {
              "fillmode": "overlay",
              "size": 10,
              "solidity": 0.2
             }
            },
            "type": "histogram"
           }
          ],
          "histogram2d": [
           {
            "colorbar": {
             "outlinewidth": 0,
             "ticks": ""
            },
            "colorscale": [
             [
              0,
              "#0d0887"
             ],
             [
              0.1111111111111111,
              "#46039f"
             ],
             [
              0.2222222222222222,
              "#7201a8"
             ],
             [
              0.3333333333333333,
              "#9c179e"
             ],
             [
              0.4444444444444444,
              "#bd3786"
             ],
             [
              0.5555555555555556,
              "#d8576b"
             ],
             [
              0.6666666666666666,
              "#ed7953"
             ],
             [
              0.7777777777777778,
              "#fb9f3a"
             ],
             [
              0.8888888888888888,
              "#fdca26"
             ],
             [
              1,
              "#f0f921"
             ]
            ],
            "type": "histogram2d"
           }
          ],
          "histogram2dcontour": [
           {
            "colorbar": {
             "outlinewidth": 0,
             "ticks": ""
            },
            "colorscale": [
             [
              0,
              "#0d0887"
             ],
             [
              0.1111111111111111,
              "#46039f"
             ],
             [
              0.2222222222222222,
              "#7201a8"
             ],
             [
              0.3333333333333333,
              "#9c179e"
             ],
             [
              0.4444444444444444,
              "#bd3786"
             ],
             [
              0.5555555555555556,
              "#d8576b"
             ],
             [
              0.6666666666666666,
              "#ed7953"
             ],
             [
              0.7777777777777778,
              "#fb9f3a"
             ],
             [
              0.8888888888888888,
              "#fdca26"
             ],
             [
              1,
              "#f0f921"
             ]
            ],
            "type": "histogram2dcontour"
           }
          ],
          "mesh3d": [
           {
            "colorbar": {
             "outlinewidth": 0,
             "ticks": ""
            },
            "type": "mesh3d"
           }
          ],
          "parcoords": [
           {
            "line": {
             "colorbar": {
              "outlinewidth": 0,
              "ticks": ""
             }
            },
            "type": "parcoords"
           }
          ],
          "pie": [
           {
            "automargin": true,
            "type": "pie"
           }
          ],
          "scatter": [
           {
            "marker": {
             "colorbar": {
              "outlinewidth": 0,
              "ticks": ""
             }
            },
            "type": "scatter"
           }
          ],
          "scatter3d": [
           {
            "line": {
             "colorbar": {
              "outlinewidth": 0,
              "ticks": ""
             }
            },
            "marker": {
             "colorbar": {
              "outlinewidth": 0,
              "ticks": ""
             }
            },
            "type": "scatter3d"
           }
          ],
          "scattercarpet": [
           {
            "marker": {
             "colorbar": {
              "outlinewidth": 0,
              "ticks": ""
             }
            },
            "type": "scattercarpet"
           }
          ],
          "scattergeo": [
           {
            "marker": {
             "colorbar": {
              "outlinewidth": 0,
              "ticks": ""
             }
            },
            "type": "scattergeo"
           }
          ],
          "scattergl": [
           {
            "marker": {
             "colorbar": {
              "outlinewidth": 0,
              "ticks": ""
             }
            },
            "type": "scattergl"
           }
          ],
          "scattermapbox": [
           {
            "marker": {
             "colorbar": {
              "outlinewidth": 0,
              "ticks": ""
             }
            },
            "type": "scattermapbox"
           }
          ],
          "scatterpolar": [
           {
            "marker": {
             "colorbar": {
              "outlinewidth": 0,
              "ticks": ""
             }
            },
            "type": "scatterpolar"
           }
          ],
          "scatterpolargl": [
           {
            "marker": {
             "colorbar": {
              "outlinewidth": 0,
              "ticks": ""
             }
            },
            "type": "scatterpolargl"
           }
          ],
          "scatterternary": [
           {
            "marker": {
             "colorbar": {
              "outlinewidth": 0,
              "ticks": ""
             }
            },
            "type": "scatterternary"
           }
          ],
          "surface": [
           {
            "colorbar": {
             "outlinewidth": 0,
             "ticks": ""
            },
            "colorscale": [
             [
              0,
              "#0d0887"
             ],
             [
              0.1111111111111111,
              "#46039f"
             ],
             [
              0.2222222222222222,
              "#7201a8"
             ],
             [
              0.3333333333333333,
              "#9c179e"
             ],
             [
              0.4444444444444444,
              "#bd3786"
             ],
             [
              0.5555555555555556,
              "#d8576b"
             ],
             [
              0.6666666666666666,
              "#ed7953"
             ],
             [
              0.7777777777777778,
              "#fb9f3a"
             ],
             [
              0.8888888888888888,
              "#fdca26"
             ],
             [
              1,
              "#f0f921"
             ]
            ],
            "type": "surface"
           }
          ],
          "table": [
           {
            "cells": {
             "fill": {
              "color": "#EBF0F8"
             },
             "line": {
              "color": "white"
             }
            },
            "header": {
             "fill": {
              "color": "#C8D4E3"
             },
             "line": {
              "color": "white"
             }
            },
            "type": "table"
           }
          ]
         },
         "layout": {
          "annotationdefaults": {
           "arrowcolor": "#2a3f5f",
           "arrowhead": 0,
           "arrowwidth": 1
          },
          "autotypenumbers": "strict",
          "coloraxis": {
           "colorbar": {
            "outlinewidth": 0,
            "ticks": ""
           }
          },
          "colorscale": {
           "diverging": [
            [
             0,
             "#8e0152"
            ],
            [
             0.1,
             "#c51b7d"
            ],
            [
             0.2,
             "#de77ae"
            ],
            [
             0.3,
             "#f1b6da"
            ],
            [
             0.4,
             "#fde0ef"
            ],
            [
             0.5,
             "#f7f7f7"
            ],
            [
             0.6,
             "#e6f5d0"
            ],
            [
             0.7,
             "#b8e186"
            ],
            [
             0.8,
             "#7fbc41"
            ],
            [
             0.9,
             "#4d9221"
            ],
            [
             1,
             "#276419"
            ]
           ],
           "sequential": [
            [
             0,
             "#0d0887"
            ],
            [
             0.1111111111111111,
             "#46039f"
            ],
            [
             0.2222222222222222,
             "#7201a8"
            ],
            [
             0.3333333333333333,
             "#9c179e"
            ],
            [
             0.4444444444444444,
             "#bd3786"
            ],
            [
             0.5555555555555556,
             "#d8576b"
            ],
            [
             0.6666666666666666,
             "#ed7953"
            ],
            [
             0.7777777777777778,
             "#fb9f3a"
            ],
            [
             0.8888888888888888,
             "#fdca26"
            ],
            [
             1,
             "#f0f921"
            ]
           ],
           "sequentialminus": [
            [
             0,
             "#0d0887"
            ],
            [
             0.1111111111111111,
             "#46039f"
            ],
            [
             0.2222222222222222,
             "#7201a8"
            ],
            [
             0.3333333333333333,
             "#9c179e"
            ],
            [
             0.4444444444444444,
             "#bd3786"
            ],
            [
             0.5555555555555556,
             "#d8576b"
            ],
            [
             0.6666666666666666,
             "#ed7953"
            ],
            [
             0.7777777777777778,
             "#fb9f3a"
            ],
            [
             0.8888888888888888,
             "#fdca26"
            ],
            [
             1,
             "#f0f921"
            ]
           ]
          },
          "colorway": [
           "#636efa",
           "#EF553B",
           "#00cc96",
           "#ab63fa",
           "#FFA15A",
           "#19d3f3",
           "#FF6692",
           "#B6E880",
           "#FF97FF",
           "#FECB52"
          ],
          "font": {
           "color": "#2a3f5f"
          },
          "geo": {
           "bgcolor": "white",
           "lakecolor": "white",
           "landcolor": "#E5ECF6",
           "showlakes": true,
           "showland": true,
           "subunitcolor": "white"
          },
          "hoverlabel": {
           "align": "left"
          },
          "hovermode": "closest",
          "mapbox": {
           "style": "light"
          },
          "paper_bgcolor": "white",
          "plot_bgcolor": "#E5ECF6",
          "polar": {
           "angularaxis": {
            "gridcolor": "white",
            "linecolor": "white",
            "ticks": ""
           },
           "bgcolor": "#E5ECF6",
           "radialaxis": {
            "gridcolor": "white",
            "linecolor": "white",
            "ticks": ""
           }
          },
          "scene": {
           "xaxis": {
            "backgroundcolor": "#E5ECF6",
            "gridcolor": "white",
            "gridwidth": 2,
            "linecolor": "white",
            "showbackground": true,
            "ticks": "",
            "zerolinecolor": "white"
           },
           "yaxis": {
            "backgroundcolor": "#E5ECF6",
            "gridcolor": "white",
            "gridwidth": 2,
            "linecolor": "white",
            "showbackground": true,
            "ticks": "",
            "zerolinecolor": "white"
           },
           "zaxis": {
            "backgroundcolor": "#E5ECF6",
            "gridcolor": "white",
            "gridwidth": 2,
            "linecolor": "white",
            "showbackground": true,
            "ticks": "",
            "zerolinecolor": "white"
           }
          },
          "shapedefaults": {
           "line": {
            "color": "#2a3f5f"
           }
          },
          "ternary": {
           "aaxis": {
            "gridcolor": "white",
            "linecolor": "white",
            "ticks": ""
           },
           "baxis": {
            "gridcolor": "white",
            "linecolor": "white",
            "ticks": ""
           },
           "bgcolor": "#E5ECF6",
           "caxis": {
            "gridcolor": "white",
            "linecolor": "white",
            "ticks": ""
           }
          },
          "title": {
           "x": 0.05
          },
          "xaxis": {
           "automargin": true,
           "gridcolor": "white",
           "linecolor": "white",
           "ticks": "",
           "title": {
            "standoff": 15
           },
           "zerolinecolor": "white",
           "zerolinewidth": 2
          },
          "yaxis": {
           "automargin": true,
           "gridcolor": "white",
           "linecolor": "white",
           "ticks": "",
           "title": {
            "standoff": 15
           },
           "zerolinecolor": "white",
           "zerolinewidth": 2
          }
         }
        },
        "title": {
         "text": "Multi-variate Experiment Interaction Effects"
        }
       }
      }
     },
     "metadata": {},
     "output_type": "display_data"
    }
   ],
   "source": [
    "print(\"\\n\" + \"=\"*80)\n",
    "print(\"MULTI-VARIATE EXPERIMENT ANALYSIS\")\n",
    "print(\"=\"*80)\n",
    "\n",
    "# Analyze interaction effects between experiments\n",
    "interaction_analysis = df.groupby(['pricing_experiment', 'ui_experiment', 'feature_experiment']).agg({\n",
    "    'converted': 'mean',\n",
    "    'page_views': 'mean',\n",
    "    'session_duration': 'mean',\n",
    "    'clicks': 'mean'\n",
    "}).reset_index()\n",
    "\n",
    "print(\"\\nInteraction Effects Analysis:\")\n",
    "print(\"Top 3 performing combinations:\")\n",
    "top_combinations = interaction_analysis.nlargest(3, 'converted')\n",
    "for idx, row in top_combinations.iterrows():\n",
    "    print(f\"   {row['pricing_experiment']}-{row['ui_experiment']}-{row['feature_experiment']}: \"\n",
    "          f\"{row['converted']:.3f} conversion rate\")\n",
    "\n",
    "# Visualize interaction effects\n",
    "fig = px.parallel_coordinates(\n",
    "    interaction_analysis,\n",
    "    dimensions=['pricing_experiment', 'ui_experiment', 'feature_experiment'],\n",
    "    color='converted',\n",
    "    color_continuous_scale='Viridis',\n",
    "    title='Multi-variate Experiment Interaction Effects'\n",
    ")\n",
    "fig.show()\n"
   ]
  },
  {
   "cell_type": "markdown",
   "metadata": {},
   "source": [
    "### 8. STATISTICAL POWER ANALYSIS"
   ]
  },
  {
   "cell_type": "code",
   "execution_count": 9,
   "metadata": {},
   "outputs": [
    {
     "name": "stdout",
     "output_type": "stream",
     "text": [
      "\n",
      "================================================================================\n",
      "STATISTICAL POWER ANALYSIS\n",
      "================================================================================\n",
      "\n",
      "Current baseline conversion rate: 0.316\n",
      "Current sample size per group: 5130\n",
      "\n",
      "Required sample sizes for different effect sizes:\n",
      "   5% lift: 13,796 samples per group\n",
      "   10% lift: 3,491 samples per group\n",
      "   15% lift: 1,570 samples per group\n",
      "   20% lift: 892 samples per group\n"
     ]
    }
   ],
   "source": [
    "def calculate_sample_size(baseline_rate, minimum_detectable_effect, alpha=0.05, power=0.8):\n",
    "    \"\"\"Calculate required sample size for A/B test\"\"\"\n",
    "    \n",
    "    from scipy.stats import norm\n",
    "    \n",
    "    # Effect size\n",
    "    p1 = baseline_rate\n",
    "    p2 = p1 * (1 + minimum_detectable_effect)\n",
    "    \n",
    "    # Pooled probability\n",
    "    p_pool = (p1 + p2) / 2\n",
    "    \n",
    "    # Calculate sample size\n",
    "    z_alpha = norm.ppf(1 - alpha/2)\n",
    "    z_beta = norm.ppf(power)\n",
    "    \n",
    "    n = (z_alpha * np.sqrt(2 * p_pool * (1 - p_pool)) + \n",
    "         z_beta * np.sqrt(p1 * (1 - p1) + p2 * (1 - p2)))**2 / (p2 - p1)**2\n",
    "    \n",
    "    return int(np.ceil(n))\n",
    "\n",
    "print(\"\\n\" + \"=\"*80)\n",
    "print(\"STATISTICAL POWER ANALYSIS\")\n",
    "print(\"=\"*80)\n",
    "\n",
    "# Calculate power for current experiments\n",
    "baseline_conversion = df[df['pricing_experiment'] == 'Control']['converted'].mean()\n",
    "current_sample_size = len(df[df['pricing_experiment'] == 'Control'])\n",
    "\n",
    "print(f\"\\nCurrent baseline conversion rate: {baseline_conversion:.3f}\")\n",
    "print(f\"Current sample size per group: {current_sample_size}\")\n",
    "\n",
    "print(\"\\nRequired sample sizes for different effect sizes:\")\n",
    "for effect_size in [0.05, 0.10, 0.15, 0.20]:\n",
    "    required_n = calculate_sample_size(baseline_conversion, effect_size)\n",
    "    print(f\"   {effect_size*100:.0f}% lift: {required_n:,} samples per group\")"
   ]
  },
  {
   "cell_type": "markdown",
   "metadata": {},
   "source": [
    "### 9. EXPERIMENT MONITORING DASHBOARD"
   ]
  },
  {
   "cell_type": "code",
   "execution_count": 10,
   "metadata": {},
   "outputs": [],
   "source": [
    "def create_experiment_dashboard(df, experiment_col):\n",
    "    \"\"\"Create monitoring dashboard for experiment\"\"\"\n",
    "    \n",
    "    # Calculate key metrics over time\n",
    "    if 'date' in df.columns:\n",
    "        df['date'] = pd.to_datetime(df['date'])\n",
    "        daily_metrics = df.groupby([df['date'].dt.date, experiment_col]).agg({\n",
    "            'converted': 'mean',\n",
    "            'page_views': 'mean',\n",
    "            'session_duration': 'mean'\n",
    "        }).reset_index()\n",
    "        \n",
    "        # Create time series plot\n",
    "        fig = make_subplots(\n",
    "            rows=3, cols=1,\n",
    "            subplot_titles=['Conversion Rate', 'Page Views', 'Session Duration'],\n",
    "            vertical_spacing=0.1\n",
    "        )\n",
    "        \n",
    "        for group in ['Control', 'Treatment']:\n",
    "            group_data = daily_metrics[daily_metrics[experiment_col] == group]\n",
    "            \n",
    "            fig.add_trace(\n",
    "                go.Scatter(x=group_data['date'], y=group_data['converted'],\n",
    "                          mode='lines+markers', name=f'{group} - Conversion'),\n",
    "                row=1, col=1\n",
    "            )\n",
    "            \n",
    "            fig.add_trace(\n",
    "                go.Scatter(x=group_data['date'], y=group_data['page_views'],\n",
    "                          mode='lines+markers', name=f'{group} - Page Views'),\n",
    "                row=2, col=1\n",
    "            )\n",
    "            \n",
    "            fig.add_trace(\n",
    "                go.Scatter(x=group_data['date'], y=group_data['session_duration'],\n",
    "                          mode='lines+markers', name=f'{group} - Session Duration'),\n",
    "                row=3, col=1\n",
    "            )\n",
    "        \n",
    "        fig.update_layout(height=800, title_text=f\"{experiment_col} Monitoring Dashboard\")\n",
    "        return fig\n",
    "    \n",
    "    return None\n",
    "\n",
    "# Create dashboard for pricing experiment\n",
    "if 'date' in df.columns:\n",
    "    dashboard = create_experiment_dashboard(df, 'pricing_experiment')\n",
    "    if dashboard:\n",
    "        dashboard.show()"
   ]
  },
  {
   "cell_type": "markdown",
   "metadata": {},
   "source": [
    "### 10. EXPERIMENT RECOMMENDATIONS"
   ]
  },
  {
   "cell_type": "code",
   "execution_count": 11,
   "metadata": {},
   "outputs": [
    {
     "name": "stdout",
     "output_type": "stream",
     "text": [
      "\n",
      "================================================================================\n",
      "EXPERIMENT RECOMMENDATIONS\n",
      "================================================================================\n",
      "🤔 Pricing Experiment: INVESTIGATE - Mixed results, needs deeper analysis\n",
      "   💡 Converted shows strong 19.0% improvement\n",
      "🚀 Ui Experiment: IMPLEMENT - Shows significant positive impact\n",
      "   💡 Page_Views shows strong 17.9% improvement\n",
      "   💡 Session_Duration shows strong 29.0% improvement\n",
      "🚀 Feature Experiment: IMPLEMENT - Shows significant positive impact\n",
      "   💡 Clicks shows strong 26.2% improvement\n"
     ]
    }
   ],
   "source": [
    "def generate_experiment_recommendations(results):\n",
    "    \"\"\"Generate actionable recommendations based on experiment results\"\"\"\n",
    "    \n",
    "    recommendations = []\n",
    "    \n",
    "    for experiment, metrics in results.items():\n",
    "        experiment_name = experiment.replace('_', ' ').title()\n",
    "        \n",
    "        # Check overall performance\n",
    "        significant_wins = sum(1 for m in metrics.values() if m['significant'] and m['lift'] > 0)\n",
    "        total_metrics = len(metrics)\n",
    "        \n",
    "        if significant_wins >= total_metrics * 0.5:\n",
    "            recommendations.append(f\"🚀 {experiment_name}: IMPLEMENT - Shows significant positive impact\")\n",
    "        elif significant_wins > 0:\n",
    "            recommendations.append(f\"🤔 {experiment_name}: INVESTIGATE - Mixed results, needs deeper analysis\")\n",
    "        else:\n",
    "            recommendations.append(f\"❌ {experiment_name}: HALT - No significant positive impact\")\n",
    "        \n",
    "        # Specific metric recommendations\n",
    "        for metric, result in metrics.items():\n",
    "            if result['significant'] and result['lift'] > 10:\n",
    "                recommendations.append(f\"   💡 {metric.title()} shows strong {result['lift']:.1f}% improvement\")\n",
    "            elif result['significant'] and result['lift'] < -5:\n",
    "                recommendations.append(f\"   ⚠️ {metric.title()} shows concerning {result['lift']:.1f}% decrease\")\n",
    "    \n",
    "    return recommendations\n",
    "\n",
    "print(\"\\n\" + \"=\"*80)\n",
    "print(\"EXPERIMENT RECOMMENDATIONS\")\n",
    "print(\"=\"*80)\n",
    "\n",
    "recommendations = generate_experiment_recommendations(analyzer.results)\n",
    "for rec in recommendations:\n",
    "    print(rec)"
   ]
  },
  {
   "cell_type": "markdown",
   "metadata": {},
   "source": [
    "### 11. EXPERIMENT SUMMARY REPORT"
   ]
  },
  {
   "cell_type": "code",
   "execution_count": 12,
   "metadata": {},
   "outputs": [
    {
     "name": "stdout",
     "output_type": "stream",
     "text": [
      "\n",
      "================================================================================\n",
      "EXPERIMENT SUMMARY REPORT\n",
      "================================================================================\n",
      "\n",
      "EXPERIMENT RESULTS SUMMARY:\n",
      "        Experiment           Metric Control Treatment Lift (%) P-value Significant\n",
      "Pricing Experiment       Page_Views   5.498     5.515     0.3%  0.7928           ❌\n",
      "Pricing Experiment Session_Duration  11.564    11.522    -0.4%  0.5901           ❌\n",
      "Pricing Experiment           Clicks   3.478     3.386    -2.6%  0.0500           ❌\n",
      "Pricing Experiment        Converted   0.316     0.375    19.0%  0.0000           ✅\n",
      "     Ui Experiment       Page_Views   5.057     5.963    17.9%  0.0000           ✅\n",
      "     Ui Experiment Session_Duration  10.093    13.017    29.0%  0.0000           ✅\n",
      "     Ui Experiment           Clicks   3.459     3.408    -1.5%  0.0963           ❌\n",
      "     Ui Experiment        Converted   0.329     0.361     9.5%  0.0011           ✅\n",
      "Feature Experiment       Page_Views   5.428     5.555     2.4%  0.0247           ✅\n",
      "Feature Experiment Session_Duration  11.457    11.597     1.2%  0.8327           ❌\n",
      "Feature Experiment           Clicks   2.955     3.730    26.2%  0.0000           ✅\n",
      "Feature Experiment        Converted   0.330     0.354     7.0%  0.0194           ✅\n",
      "\n",
      "📊 OVERALL EXPERIMENT PERFORMANCE:\n",
      "   • Total Tests Run: 12\n",
      "   • Successful Tests: 7\n",
      "   • Success Rate: 58.3%\n",
      "\n",
      "⚠️ RISK ASSESSMENT:\n",
      "   • 3 metrics show negative impact\n",
      "   • Consider rollback if core metrics are affected\n",
      "\n",
      "================================================================================\n",
      "EXPERIMENT ANALYSIS COMPLETE!\n",
      "================================================================================\n",
      "Use these insights to make data-driven product decisions.\n",
      "Remember to validate results with additional testing before full rollout.\n",
      "================================================================================\n"
     ]
    }
   ],
   "source": [
    "\n",
    "print(\"\\n\" + \"=\"*80)\n",
    "print(\"EXPERIMENT SUMMARY REPORT\")\n",
    "print(\"=\"*80)\n",
    "\n",
    "# Create summary table\n",
    "summary_data = []\n",
    "for experiment, metrics in analyzer.results.items():\n",
    "    for metric, result in metrics.items():\n",
    "        summary_data.append({\n",
    "            'Experiment': experiment.replace('_', ' ').title(),\n",
    "            'Metric': metric.title(),\n",
    "            'Control': f\"{result.get('control_mean', result.get('control_rate', 0)):.3f}\",\n",
    "            'Treatment': f\"{result.get('treatment_mean', result.get('treatment_rate', 0)):.3f}\",\n",
    "            'Lift (%)': f\"{result['lift']:.1f}%\",\n",
    "            'P-value': f\"{result['p_value']:.4f}\",\n",
    "            'Significant': '✅' if result['significant'] else '❌'\n",
    "        })\n",
    "\n",
    "summary_df = pd.DataFrame(summary_data)\n",
    "print(\"\\nEXPERIMENT RESULTS SUMMARY:\")\n",
    "print(summary_df.to_string(index=False))\n",
    "\n",
    "# Calculate experiment success rate\n",
    "total_tests = len(summary_df)\n",
    "successful_tests = sum(summary_df['Significant'] == '✅')\n",
    "success_rate = (successful_tests / total_tests) * 100\n",
    "\n",
    "print(f\"\\n📊 OVERALL EXPERIMENT PERFORMANCE:\")\n",
    "print(f\"   • Total Tests Run: {total_tests}\")\n",
    "print(f\"   • Successful Tests: {successful_tests}\")\n",
    "print(f\"   • Success Rate: {success_rate:.1f}%\")\n",
    "\n",
    "# Risk assessment\n",
    "print(f\"\\n⚠️ RISK ASSESSMENT:\")\n",
    "negative_lifts = sum(1 for _, row in summary_df.iterrows() if float(row['Lift (%)'].strip('%')) < 0)\n",
    "if negative_lifts > 0:\n",
    "    print(f\"   • {negative_lifts} metrics show negative impact\")\n",
    "    print(\"   • Consider rollback if core metrics are affected\")\n",
    "else:\n",
    "    print(\"   • No negative impacts detected\")\n",
    "    print(\"   • Safe to proceed with implementation\")\n",
    "\n",
    "print(\"\\n\" + \"=\"*80)\n",
    "print(\"EXPERIMENT ANALYSIS COMPLETE!\")\n",
    "print(\"=\"*80)\n",
    "print(\"Use these insights to make data-driven product decisions.\")\n",
    "print(\"Remember to validate results with additional testing before full rollout.\")\n",
    "print(\"=\"*80)"
   ]
  }
 ],
 "metadata": {
  "kernelspec": {
   "display_name": "base",
   "language": "python",
   "name": "python3"
  },
  "language_info": {
   "codemirror_mode": {
    "name": "ipython",
    "version": 3
   },
   "file_extension": ".py",
   "mimetype": "text/x-python",
   "name": "python",
   "nbconvert_exporter": "python",
   "pygments_lexer": "ipython3",
   "version": "3.8.8"
  }
 },
 "nbformat": 4,
 "nbformat_minor": 2
}
