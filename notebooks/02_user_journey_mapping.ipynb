{
 "cells": [
  {
   "cell_type": "markdown",
   "metadata": {},
   "source": [
    "# User Journey Mapping"
   ]
  },
  {
   "cell_type": "markdown",
   "metadata": {},
   "source": [
    "Exploring customer behavior patterns and journey flows"
   ]
  },
  {
   "cell_type": "code",
   "execution_count": 2,
   "metadata": {},
   "outputs": [],
   "source": [
    "import pandas as pd\n",
    "import numpy as np\n",
    "import matplotlib.pyplot as plt\n",
    "import seaborn as sns\n",
    "from datetime import datetime, timedelta\n",
    "import plotly.express as px\n",
    "import plotly.graph_objects as go\n",
    "from plotly.subplots import make_subplots\n",
    "import warnings\n",
    "warnings.filterwarnings('ignore')\n",
    "\n",
    "# Set style\n",
    "plt.style.use('default')\n",
    "sns.set_palette(\"husl\")"
   ]
  },
  {
   "cell_type": "markdown",
   "metadata": {},
   "source": [
    "### 1. DATA LOADING AND PREPARATION"
   ]
  },
  {
   "cell_type": "code",
   "execution_count": 4,
   "metadata": {},
   "outputs": [
    {
     "name": "stdout",
     "output_type": "stream",
     "text": [
      "Dataset Overview:\n",
      "Shape: (9994, 19)\n",
      "Columns: ['Row ID', 'Order ID', 'Order Date', 'Date Key', 'Contact Name', 'Country', 'City', 'Region', 'Subregion', 'Customer', 'Customer ID', 'Industry', 'Segment', 'Product', 'License', 'Sales', 'Quantity', 'Discount', 'Profit']\n",
      "\n",
      "First few rows:\n",
      "   Row ID          Order ID  Order Date  Date Key    Contact Name  \\\n",
      "0       1  EMEA-2022-152156   11/9/2022  20221109     Nathan Bell   \n",
      "1       2  EMEA-2022-152156   11/9/2022  20221109     Nathan Bell   \n",
      "2       3  AMER-2022-138688   6/13/2022  20220613  Deirdre Bailey   \n",
      "3       4  EMEA-2021-108966  10/11/2021  20211011      Zoe Hodges   \n",
      "4       5  EMEA-2021-108966  10/11/2021  20211011      Zoe Hodges   \n",
      "\n",
      "         Country           City Region Subregion           Customer  \\\n",
      "0        Ireland         Dublin   EMEA      UKIR            Chevron   \n",
      "1        Ireland         Dublin   EMEA      UKIR            Chevron   \n",
      "2  United States  New York City   AMER     NAMER        Phillips 66   \n",
      "3        Germany      Stuttgart   EMEA   EU-WEST  Royal Dutch Shell   \n",
      "4        Germany      Stuttgart   EMEA   EU-WEST  Royal Dutch Shell   \n",
      "\n",
      "   Customer ID Industry    Segment                 Product     License  \\\n",
      "0         1017   Energy        SMB         Marketing Suite  16GRM07R1K   \n",
      "1         1017   Energy        SMB              FinanceHub  QLIW57KZUV   \n",
      "2         1056   Energy  Strategic              FinanceHub  JI6BVL70HQ   \n",
      "3         1031   Energy        SMB          ContactMatcher  DE9GJKGD44   \n",
      "4         1031   Energy        SMB  Marketing Suite - Gold  OIF7NY23WD   \n",
      "\n",
      "      Sales  Quantity  Discount    Profit  \n",
      "0  261.9600         2      0.00   41.9136  \n",
      "1  731.9400         3      0.00  219.5820  \n",
      "2   14.6200         2      0.00    6.8714  \n",
      "3  957.5775         5      0.45 -383.0310  \n",
      "4   22.3680         2      0.20    2.5164  \n",
      "\n",
      "Data Types:\n",
      "Row ID            int64\n",
      "Order ID         object\n",
      "Order Date       object\n",
      "Date Key          int64\n",
      "Contact Name     object\n",
      "Country          object\n",
      "City             object\n",
      "Region           object\n",
      "Subregion        object\n",
      "Customer         object\n",
      "Customer ID       int64\n",
      "Industry         object\n",
      "Segment          object\n",
      "Product          object\n",
      "License          object\n",
      "Sales           float64\n",
      "Quantity          int64\n",
      "Discount        float64\n",
      "Profit          float64\n",
      "dtype: object\n",
      "\n",
      "Missing Values:\n",
      "Row ID          0\n",
      "Order ID        0\n",
      "Order Date      0\n",
      "Date Key        0\n",
      "Contact Name    0\n",
      "Country         0\n",
      "City            0\n",
      "Region          0\n",
      "Subregion       0\n",
      "Customer        0\n",
      "Customer ID     0\n",
      "Industry        0\n",
      "Segment         0\n",
      "Product         0\n",
      "License         0\n",
      "Sales           0\n",
      "Quantity        0\n",
      "Discount        0\n",
      "Profit          0\n",
      "dtype: int64\n"
     ]
    }
   ],
   "source": [
    "df = pd.read_csv('../data/raw/saas_sales.csv')\n",
    "\n",
    "print(\"Dataset Overview:\")\n",
    "print(f\"Shape: {df.shape}\")\n",
    "print(f\"Columns: {df.columns.tolist()}\")\n",
    "print(\"\\nFirst few rows:\")\n",
    "print(df.head())\n",
    "\n",
    "# Basic data info\n",
    "print(\"\\nData Types:\")\n",
    "print(df.dtypes)\n",
    "print(\"\\nMissing Values:\")\n",
    "print(df.isnull().sum())"
   ]
  },
  {
   "cell_type": "markdown",
   "metadata": {},
   "source": [
    "### 2. DATA PREPROCESSING FOR JOURNEY ANALYSIS"
   ]
  },
  {
   "cell_type": "code",
   "execution_count": 5,
   "metadata": {},
   "outputs": [
    {
     "name": "stdout",
     "output_type": "stream",
     "text": [
      "\n",
      "Journey Features Created:\n",
      "      customer_journey_day  interaction_sequence lifecycle_stage\n",
      "8299                     0                     1             New\n",
      "1890                     3                     2             New\n",
      "1891                     3                     3             New\n",
      "1560                    24                     4             New\n",
      "7019                   165                     5          Mature\n",
      "7020                   165                     6          Mature\n",
      "7021                   165                     7          Mature\n",
      "7022                   165                     8          Mature\n",
      "7023                   165                     9          Mature\n",
      "7024                   165                    10          Mature\n"
     ]
    }
   ],
   "source": [
    "# Convert date columns to datetime (adjust column names based on actual dataset)\n",
    "date_columns = [col for col in df.columns if 'date' in col.lower() or 'time' in col.lower()]\n",
    "for col in date_columns:\n",
    "    df[col] = pd.to_datetime(df[col], errors='coerce')\n",
    "\n",
    "# Create journey-specific features\n",
    "def create_journey_features(df):\n",
    "    \"\"\"Create features for user journey analysis\"\"\"\n",
    "    \n",
    "    # Assuming we have customer_id and date columns\n",
    "    customer_col = [col for col in df.columns if 'customer' in col.lower() or 'user' in col.lower()][0]\n",
    "    date_col = [col for col in df.columns if 'date' in col.lower() or 'time' in col.lower()][0]\n",
    "    \n",
    "    # Sort by customer and date\n",
    "    df = df.sort_values([customer_col, date_col])\n",
    "    \n",
    "    # Create journey features\n",
    "    df['customer_journey_day'] = df.groupby(customer_col)[date_col].transform(\n",
    "        lambda x: (x - x.min()).dt.days\n",
    "    )\n",
    "    \n",
    "    df['interaction_sequence'] = df.groupby(customer_col).cumcount() + 1\n",
    "    \n",
    "    # Time between interactions\n",
    "    df['time_since_last_interaction'] = df.groupby(customer_col)[date_col].diff().dt.days\n",
    "    \n",
    "    # Customer lifecycle stage\n",
    "    df['customer_age_days'] = (df[date_col] - df.groupby(customer_col)[date_col].transform('min')).dt.days\n",
    "    \n",
    "    def lifecycle_stage(days):\n",
    "        if days <= 30:\n",
    "            return 'New'\n",
    "        elif days <= 90:\n",
    "            return 'Growing'\n",
    "        elif days <= 180:\n",
    "            return 'Mature'\n",
    "        else:\n",
    "            return 'Loyal'\n",
    "    \n",
    "    df['lifecycle_stage'] = df['customer_age_days'].apply(lifecycle_stage)\n",
    "    \n",
    "    return df\n",
    "\n",
    "# Apply journey feature creation\n",
    "df = create_journey_features(df)\n",
    "\n",
    "print(\"\\nJourney Features Created:\")\n",
    "print(df[['customer_journey_day', 'interaction_sequence', 'lifecycle_stage']].head(10))"
   ]
  },
  {
   "cell_type": "markdown",
   "metadata": {},
   "source": [
    "### 3. CUSTOMER JOURNEY OVERVIEW"
   ]
  },
  {
   "cell_type": "code",
   "execution_count": 6,
   "metadata": {},
   "outputs": [
    {
     "name": "stdout",
     "output_type": "stream",
     "text": [
      "\n",
      "Customer Journey Summary:\n",
      "                     total_interactions  journey_length_days  \\\n",
      "Customer                                                       \n",
      "AT&T                                151                 1381   \n",
      "Abbott Laboratories                  67                 1343   \n",
      "Aetna                               153                 1349   \n",
      "Airbus                              123                 1423   \n",
      "Allianz                             192                 1383   \n",
      "Allstate                            105                 1410   \n",
      "Alphabet                             44                 1309   \n",
      "Amazon                              134                 1434   \n",
      "American Express                    137                 1393   \n",
      "AmerisourceBergen                   149                 1403   \n",
      "\n",
      "                    first_interaction last_interaction current_stage  \n",
      "Customer                                                              \n",
      "AT&T                       2020-03-11       2023-12-22         Loyal  \n",
      "Abbott Laboratories        2020-04-15       2023-12-19         Loyal  \n",
      "Aetna                      2020-03-31       2023-12-10         Loyal  \n",
      "Airbus                     2020-01-11       2023-12-04         Loyal  \n",
      "Allianz                    2020-03-17       2023-12-30         Loyal  \n",
      "Allstate                   2020-02-19       2023-12-30         Loyal  \n",
      "Alphabet                   2020-05-25       2023-12-25         Loyal  \n",
      "Amazon                     2020-01-14       2023-12-18         Loyal  \n",
      "American Express           2020-03-01       2023-12-24         Loyal  \n",
      "AmerisourceBergen          2020-02-24       2023-12-28         Loyal  \n"
     ]
    },
    {
     "data": {
      "image/png": "[encoded data removed]",
      "text/plain": [
       "<Figure size 1080x360 with 3 Axes>"
      ]
     },
     "metadata": {
      "needs_background": "light"
     },
     "output_type": "display_data"
    }
   ],
   "source": [
    "# Get customer and date column names\n",
    "customer_col = [col for col in df.columns if 'customer' in col.lower() or 'user' in col.lower()][0]\n",
    "date_col = [col for col in df.columns if 'date' in col.lower() or 'time' in col.lower()][0]\n",
    "\n",
    "# Customer journey summary\n",
    "journey_summary = df.groupby(customer_col).agg({\n",
    "    'interaction_sequence': 'max',\n",
    "    'customer_journey_day': 'max',\n",
    "    date_col: ['min', 'max'],\n",
    "    'lifecycle_stage': 'last'\n",
    "}).round(2)\n",
    "\n",
    "journey_summary.columns = ['total_interactions', 'journey_length_days', 'first_interaction', \n",
    "                          'last_interaction', 'current_stage']\n",
    "\n",
    "print(\"\\nCustomer Journey Summary:\")\n",
    "print(journey_summary.head(10))\n",
    "\n",
    "# Journey length distribution\n",
    "plt.figure(figsize=(15, 5))\n",
    "\n",
    "plt.subplot(1, 3, 1)\n",
    "journey_summary['journey_length_days'].hist(bins=30, alpha=0.7)\n",
    "plt.title('Distribution of Journey Length (Days)')\n",
    "plt.xlabel('Days')\n",
    "plt.ylabel('Number of Customers')\n",
    "\n",
    "plt.subplot(1, 3, 2)\n",
    "journey_summary['total_interactions'].hist(bins=30, alpha=0.7)\n",
    "plt.title('Distribution of Total Interactions')\n",
    "plt.xlabel('Number of Interactions')\n",
    "plt.ylabel('Number of Customers')\n",
    "\n",
    "plt.subplot(1, 3, 3)\n",
    "journey_summary['current_stage'].value_counts().plot(kind='bar')\n",
    "plt.title('Customer Lifecycle Stage Distribution')\n",
    "plt.xlabel('Lifecycle Stage')\n",
    "plt.ylabel('Number of Customers')\n",
    "plt.xticks(rotation=45)\n",
    "\n",
    "plt.tight_layout()\n",
    "plt.show()"
   ]
  },
  {
   "cell_type": "markdown",
   "metadata": {},
   "source": [
    "### 4. INTERACTION PATTERNS ANALYSIS"
   ]
  },
  {
   "cell_type": "code",
   "execution_count": 7,
   "metadata": {},
   "outputs": [
    {
     "data": {
      "image/png": "[encoded data removed]",
      "text/plain": [
       "<Figure size 864x432 with 1 Axes>"
      ]
     },
     "metadata": {
      "needs_background": "light"
     },
     "output_type": "display_data"
    },
    {
     "data": {
      "image/png": "[encoded data removed]",
      "text/plain": [
       "<Figure size 1080x360 with 3 Axes>"
      ]
     },
     "metadata": {
      "needs_background": "light"
     },
     "output_type": "display_data"
    }
   ],
   "source": [
    "# Interaction frequency by lifecycle stage\n",
    "interaction_by_stage = df.groupby(['lifecycle_stage', 'interaction_sequence']).size().reset_index(name='count')\n",
    "\n",
    "plt.figure(figsize=(12, 6))\n",
    "for stage in df['lifecycle_stage'].unique():\n",
    "    stage_data = interaction_by_stage[interaction_by_stage['lifecycle_stage'] == stage]\n",
    "    plt.plot(stage_data['interaction_sequence'], stage_data['count'], \n",
    "             marker='o', label=stage, linewidth=2)\n",
    "\n",
    "plt.title('Interaction Patterns by Lifecycle Stage')\n",
    "plt.xlabel('Interaction Sequence')\n",
    "plt.ylabel('Number of Interactions')\n",
    "plt.legend()\n",
    "plt.grid(True, alpha=0.3)\n",
    "plt.show()\n",
    "\n",
    "# Time between interactions analysis\n",
    "time_between_interactions = df[df['time_since_last_interaction'].notna()]\n",
    "\n",
    "plt.figure(figsize=(15, 5))\n",
    "\n",
    "plt.subplot(1, 3, 1)\n",
    "time_between_interactions['time_since_last_interaction'].hist(bins=30, alpha=0.7)\n",
    "plt.title('Distribution of Time Between Interactions')\n",
    "plt.xlabel('Days')\n",
    "plt.ylabel('Frequency')\n",
    "\n",
    "plt.subplot(1, 3, 2)\n",
    "time_by_stage = time_between_interactions.groupby('lifecycle_stage')['time_since_last_interaction'].mean()\n",
    "time_by_stage.plot(kind='bar')\n",
    "plt.title('Average Time Between Interactions by Stage')\n",
    "plt.xlabel('Lifecycle Stage')\n",
    "plt.ylabel('Average Days')\n",
    "plt.xticks(rotation=45)\n",
    "\n",
    "plt.subplot(1, 3, 3)\n",
    "sns.boxplot(data=time_between_interactions, x='lifecycle_stage', y='time_since_last_interaction')\n",
    "plt.title('Time Between Interactions by Lifecycle Stage')\n",
    "plt.xlabel('Lifecycle Stage')\n",
    "plt.ylabel('Days Between Interactions')\n",
    "plt.xticks(rotation=45)\n",
    "\n",
    "plt.tight_layout()\n",
    "plt.show()"
   ]
  },
  {
   "cell_type": "markdown",
   "metadata": {},
   "source": [
    "### 5. JOURNEY FLOW ANALYSIS"
   ]
  },
  {
   "cell_type": "code",
   "execution_count": 8,
   "metadata": {},
   "outputs": [
    {
     "data": {
      "image/png": "[encoded data removed]",
      "text/plain": [
       "<Figure size 720x576 with 2 Axes>"
      ]
     },
     "metadata": {
      "needs_background": "light"
     },
     "output_type": "display_data"
    }
   ],
   "source": [
    "# Create journey flow data\n",
    "def create_journey_flow(df, customer_col, max_steps=10):\n",
    "    \"\"\"Create journey flow analysis\"\"\"\n",
    "    \n",
    "    # Get journey paths for each customer\n",
    "    journey_paths = df.groupby(customer_col).apply(\n",
    "        lambda x: x.sort_values('interaction_sequence').head(max_steps)\n",
    "    ).reset_index(drop=True)\n",
    "    \n",
    "    # Create step-by-step flow\n",
    "    flows = []\n",
    "    for customer in df[customer_col].unique():\n",
    "        customer_data = df[df[customer_col] == customer].sort_values('interaction_sequence')\n",
    "        \n",
    "        # Get features for each step (adjust based on your actual columns)\n",
    "        feature_cols = [col for col in df.columns if col not in [customer_col, date_col, 'interaction_sequence']]\n",
    "        \n",
    "        for i in range(len(customer_data) - 1):\n",
    "            current_step = customer_data.iloc[i]\n",
    "            next_step = customer_data.iloc[i + 1]\n",
    "            \n",
    "            flows.append({\n",
    "                'customer': customer,\n",
    "                'step': i + 1,\n",
    "                'current_stage': current_step['lifecycle_stage'],\n",
    "                'next_stage': next_step['lifecycle_stage'],\n",
    "                'time_to_next': (next_step[date_col] - current_step[date_col]).days\n",
    "            })\n",
    "    \n",
    "    return pd.DataFrame(flows)\n",
    "\n",
    "# Create journey flow\n",
    "journey_flow = create_journey_flow(df, customer_col)\n",
    "\n",
    "# Stage transition matrix\n",
    "transition_matrix = pd.crosstab(journey_flow['current_stage'], \n",
    "                               journey_flow['next_stage'], \n",
    "                               normalize='index') * 100\n",
    "\n",
    "plt.figure(figsize=(10, 8))\n",
    "sns.heatmap(transition_matrix, annot=True, fmt='.1f', cmap='Blues', \n",
    "            square=True, linewidths=0.5)\n",
    "plt.title('Customer Lifecycle Stage Transition Matrix (%)')\n",
    "plt.xlabel('Next Stage')\n",
    "plt.ylabel('Current Stage')\n",
    "plt.show()\n"
   ]
  },
  {
   "cell_type": "markdown",
   "metadata": {},
   "source": [
    "### 6. CUSTOMER JOURNEY COHORT ANALYSIS"
   ]
  },
  {
   "cell_type": "code",
   "execution_count": 9,
   "metadata": {},
   "outputs": [
    {
     "data": {
      "image/png": "[encoded data removed]",
      "text/plain": [
       "<Figure size 1080x576 with 2 Axes>"
      ]
     },
     "metadata": {
      "needs_background": "light"
     },
     "output_type": "display_data"
    }
   ],
   "source": [
    "# Create cohort analysis based on first interaction month\n",
    "def create_cohort_analysis(df, customer_col, date_col):\n",
    "    \"\"\"Create cohort analysis for customer journeys\"\"\"\n",
    "    \n",
    "    # Get first interaction date for each customer\n",
    "    customer_first_interaction = df.groupby(customer_col)[date_col].min().reset_index()\n",
    "    customer_first_interaction['cohort_month'] = customer_first_interaction[date_col].dt.to_period('M')\n",
    "    \n",
    "    # Merge back with main dataframe\n",
    "    df_cohort = df.merge(customer_first_interaction[[customer_col, 'cohort_month']], on=customer_col)\n",
    "    \n",
    "    # Calculate period number\n",
    "    df_cohort['interaction_period'] = df_cohort[date_col].dt.to_period('M')\n",
    "    df_cohort['period_number'] = (df_cohort['interaction_period'] - df_cohort['cohort_month']).apply(attrgetter('n'))\n",
    "    \n",
    "    # Create cohort table\n",
    "    cohort_table = df_cohort.groupby(['cohort_month', 'period_number'])[customer_col].nunique().reset_index()\n",
    "    cohort_table = cohort_table.pivot(index='cohort_month', columns='period_number', values=customer_col)\n",
    "    \n",
    "    # Calculate retention rates\n",
    "    cohort_sizes = df_cohort.groupby('cohort_month')[customer_col].nunique()\n",
    "    cohort_retention = cohort_table.divide(cohort_sizes, axis=0)\n",
    "    \n",
    "    return cohort_retention\n",
    "\n",
    "from operator import attrgetter\n",
    "\n",
    "# Create cohort analysis\n",
    "cohort_retention = create_cohort_analysis(df, customer_col, date_col)\n",
    "\n",
    "# Plot cohort retention heatmap\n",
    "plt.figure(figsize=(15, 8))\n",
    "sns.heatmap(cohort_retention.iloc[:, :12], annot=True, fmt='.2f', cmap='YlOrRd', \n",
    "            square=False, linewidths=0.5, cbar_kws={'label': 'Retention Rate'})\n",
    "plt.title('Customer Journey Cohort Retention Analysis')\n",
    "plt.xlabel('Period Number (Months)')\n",
    "plt.ylabel('Cohort Month')\n",
    "plt.show()"
   ]
  },
  {
   "cell_type": "markdown",
   "metadata": {},
   "source": [
    "### 7. JOURNEY SEGMENTATION"
   ]
  },
  {
   "cell_type": "code",
   "execution_count": 10,
   "metadata": {},
   "outputs": [
    {
     "name": "stdout",
     "output_type": "stream",
     "text": [
      "\n",
      "Journey Segment Analysis:\n",
      "                 customer_count  avg_interactions  avg_journey_length  \\\n",
      "journey_segment                                                         \n",
      "Long Journey                 99            100.95             1367.52   \n",
      "\n",
      "                 avg_interaction_frequency  \n",
      "journey_segment                             \n",
      "Long Journey                          0.07  \n"
     ]
    },
    {
     "data": {
      "image/png": "[encoded data removed]",
      "text/plain": [
       "<Figure size 1080x720 with 4 Axes>"
      ]
     },
     "metadata": {
      "needs_background": "light"
     },
     "output_type": "display_data"
    }
   ],
   "source": [
    "# Create customer journey segments\n",
    "def create_journey_segments(journey_summary):\n",
    "    \"\"\"Segment customers based on journey characteristics\"\"\"\n",
    "    \n",
    "    # Calculate journey metrics\n",
    "    journey_summary['interaction_frequency'] = journey_summary['total_interactions'] / (journey_summary['journey_length_days'] + 1)\n",
    "    journey_summary['avg_days_between_interactions'] = journey_summary['journey_length_days'] / (journey_summary['total_interactions'] + 1)\n",
    "    \n",
    "    # Create segments based on interaction patterns\n",
    "    def segment_customer(row):\n",
    "        freq = row['interaction_frequency']\n",
    "        length = row['journey_length_days']\n",
    "        interactions = row['total_interactions']\n",
    "        \n",
    "        if freq > 0.5 and interactions > 10:\n",
    "            return 'High Engagement'\n",
    "        elif freq > 0.2 and interactions > 5:\n",
    "            return 'Medium Engagement'\n",
    "        elif length > 90:\n",
    "            return 'Long Journey'\n",
    "        elif interactions <= 3:\n",
    "            return 'Quick Exit'\n",
    "        else:\n",
    "            return 'Low Engagement'\n",
    "    \n",
    "    journey_summary['journey_segment'] = journey_summary.apply(segment_customer, axis=1)\n",
    "    \n",
    "    return journey_summary\n",
    "\n",
    "# Apply journey segmentation\n",
    "journey_segments = create_journey_segments(journey_summary.copy())\n",
    "\n",
    "# Journey segment analysis\n",
    "segment_analysis = journey_segments.groupby('journey_segment').agg({\n",
    "    'total_interactions': ['count', 'mean'],\n",
    "    'journey_length_days': 'mean',\n",
    "    'interaction_frequency': 'mean'\n",
    "}).round(2)\n",
    "\n",
    "segment_analysis.columns = ['customer_count', 'avg_interactions', 'avg_journey_length', 'avg_interaction_frequency']\n",
    "\n",
    "print(\"\\nJourney Segment Analysis:\")\n",
    "print(segment_analysis)\n",
    "\n",
    "# Visualize journey segments\n",
    "fig, axes = plt.subplots(2, 2, figsize=(15, 10))\n",
    "\n",
    "# Segment distribution\n",
    "journey_segments['journey_segment'].value_counts().plot(kind='bar', ax=axes[0,0])\n",
    "axes[0,0].set_title('Journey Segment Distribution')\n",
    "axes[0,0].set_ylabel('Number of Customers')\n",
    "axes[0,0].tick_params(axis='x', rotation=45)\n",
    "\n",
    "# Interaction frequency by segment\n",
    "journey_segments.boxplot(column='interaction_frequency', by='journey_segment', ax=axes[0,1])\n",
    "axes[0,1].set_title('Interaction Frequency by Segment')\n",
    "axes[0,1].set_ylabel('Interactions per Day')\n",
    "\n",
    "# Journey length by segment\n",
    "journey_segments.boxplot(column='journey_length_days', by='journey_segment', ax=axes[1,0])\n",
    "axes[1,0].set_title('Journey Length by Segment')\n",
    "axes[1,0].set_ylabel('Journey Length (Days)')\n",
    "\n",
    "# Total interactions by segment\n",
    "journey_segments.boxplot(column='total_interactions', by='journey_segment', ax=axes[1,1])\n",
    "axes[1,1].set_title('Total Interactions by Segment')\n",
    "axes[1,1].set_ylabel('Total Interactions')\n",
    "\n",
    "plt.tight_layout()\n",
    "plt.show()"
   ]
  },
  {
   "cell_type": "markdown",
   "metadata": {},
   "source": [
    "### 8. INTERACTIVE JOURNEY VISUALIZATION"
   ]
  },
  {
   "cell_type": "code",
   "execution_count": 12,
   "metadata": {},
   "outputs": [
    {
     "data": {
      "application/vnd.plotly.v1+json": {
       "config": {
        "plotlyServerURL": "https://plot.ly"
       },
       "data": [
        {
         "customdata": [
          [
           0,
           1
          ],
          [
           3,
           2
          ],
          [
           3,
           3
          ],
          [
           24,
           4
          ],
          [
           0,
           1
          ],
          [
           0,
           2
          ],
          [
           7,
           3
          ],
          [
           7,
           4
          ],
          [
           28,
           5
          ],
          [
           28,
           6
          ],
          [
           0,
           1
          ],
          [
           0,
           2
          ],
          [
           18,
           3
          ],
          [
           18,
           4
          ],
          [
           18,
           5
          ],
          [
           18,
           6
          ],
          [
           29,
           7
          ],
          [
           0,
           1
          ],
          [
           0,
           2
          ],
          [
           3,
           3
          ],
          [
           0,
           1
          ],
          [
           0,
           2
          ],
          [
           0,
           3
          ],
          [
           5,
           4
          ],
          [
           5,
           5
          ],
          [
           5,
           6
          ],
          [
           8,
           7
          ],
          [
           26,
           8
          ],
          [
           0,
           1
          ],
          [
           17,
           2
          ],
          [
           17,
           3
          ],
          [
           17,
           4
          ],
          [
           21,
           5
          ],
          [
           27,
           6
          ],
          [
           27,
           7
          ],
          [
           27,
           8
          ],
          [
           27,
           9
          ],
          [
           27,
           10
          ],
          [
           0,
           1
          ],
          [
           0,
           1
          ],
          [
           0,
           2
          ],
          [
           0,
           3
          ],
          [
           0,
           1
          ],
          [
           10,
           2
          ],
          [
           10,
           3
          ],
          [
           10,
           4
          ],
          [
           10,
           5
          ],
          [
           0,
           1
          ],
          [
           0,
           2
          ]
         ],
         "hovertemplate": "lifecycle_stage=New<br>Order Date=%{x}<br>Customer=%{y}<br>Interaction #=%{customdata[1]}<br>customer_journey_day=%{customdata[0]}<extra></extra>",
         "legendgroup": "New",
         "marker": {
          "color": "#636efa",
          "size": [
           1,
           2,
           3,
           4,
           1,
           2,
           3,
           4,
           5,
           6,
           1,
           2,
           3,
           4,
           5,
           6,
           7,
           1,
           2,
           3,
           1,
           2,
           3,
           4,
           5,
           6,
           7,
           8,
           1,
           2,
           3,
           4,
           5,
           6,
           7,
           8,
           9,
           10,
           1,
           1,
           2,
           3,
           1,
           2,
           3,
           4,
           5,
           1,
           2
          ],
          "sizemode": "area",
          "sizeref": 0.48,
          "symbol": "circle"
         },
         "mode": "markers",
         "name": "New",
         "showlegend": true,
         "type": "scattergl",
         "x": [
          "2020-03-11T00:00:00",
          "2020-03-14T00:00:00",
          "2020-03-14T00:00:00",
          "2020-04-04T00:00:00",
          "2020-04-15T00:00:00",
          "2020-04-15T00:00:00",
          "2020-04-22T00:00:00",
          "2020-04-22T00:00:00",
          "2020-05-13T00:00:00",
          "2020-05-13T00:00:00",
          "2020-03-31T00:00:00",
          "2020-03-31T00:00:00",
          "2020-04-18T00:00:00",
          "2020-04-18T00:00:00",
          "2020-04-18T00:00:00",
          "2020-04-18T00:00:00",
          "2020-04-29T00:00:00",
          "2020-01-11T00:00:00",
          "2020-01-11T00:00:00",
          "2020-01-14T00:00:00",
          "2020-03-17T00:00:00",
          "2020-03-17T00:00:00",
          "2020-03-17T00:00:00",
          "2020-03-22T00:00:00",
          "2020-03-22T00:00:00",
          "2020-03-22T00:00:00",
          "2020-03-25T00:00:00",
          "2020-04-12T00:00:00",
          "2020-02-19T00:00:00",
          "2020-03-07T00:00:00",
          "2020-03-07T00:00:00",
          "2020-03-07T00:00:00",
          "2020-03-11T00:00:00",
          "2020-03-17T00:00:00",
          "2020-03-17T00:00:00",
          "2020-03-17T00:00:00",
          "2020-03-17T00:00:00",
          "2020-03-17T00:00:00",
          "2020-05-25T00:00:00",
          "2020-01-14T00:00:00",
          "2020-01-14T00:00:00",
          "2020-01-14T00:00:00",
          "2020-03-01T00:00:00",
          "2020-03-11T00:00:00",
          "2020-03-11T00:00:00",
          "2020-03-11T00:00:00",
          "2020-03-11T00:00:00",
          "2020-02-24T00:00:00",
          "2020-02-24T00:00:00"
         ],
         "xaxis": "x",
         "y": [
          "AT&T",
          "AT&T",
          "AT&T",
          "AT&T",
          "Abbott Laboratories",
          "Abbott Laboratories",
          "Abbott Laboratories",
          "Abbott Laboratories",
          "Abbott Laboratories",
          "Abbott Laboratories",
          "Aetna",
          "Aetna",
          "Aetna",
          "Aetna",
          "Aetna",
          "Aetna",
          "Aetna",
          "Airbus",
          "Airbus",
          "Airbus",
          "Allianz",
          "Allianz",
          "Allianz",
          "Allianz",
          "Allianz",
          "Allianz",
          "Allianz",
          "Allianz",
          "Allstate",
          "Allstate",
          "Allstate",
          "Allstate",
          "Allstate",
          "Allstate",
          "Allstate",
          "Allstate",
          "Allstate",
          "Allstate",
          "Alphabet",
          "Amazon",
          "Amazon",
          "Amazon",
          "American Express",
          "American Express",
          "American Express",
          "American Express",
          "American Express",
          "AmerisourceBergen",
          "AmerisourceBergen"
         ],
         "yaxis": "y"
        },
        {
         "customdata": [
          [
           165,
           5
          ],
          [
           165,
           6
          ],
          [
           165,
           7
          ],
          [
           165,
           8
          ],
          [
           165,
           9
          ],
          [
           165,
           10
          ],
          [
           168,
           11
          ],
          [
           110,
           7
          ],
          [
           110,
           8
          ],
          [
           110,
           9
          ],
          [
           98,
           11
          ],
          [
           98,
           12
          ],
          [
           111,
           13
          ],
          [
           111,
           14
          ],
          [
           111,
           15
          ],
          [
           111,
           16
          ],
          [
           134,
           17
          ],
          [
           134,
           18
          ],
          [
           134,
           19
          ],
          [
           172,
           20
          ],
          [
           172,
           21
          ],
          [
           114,
           6
          ],
          [
           114,
           7
          ],
          [
           142,
           8
          ],
          [
           142,
           9
          ],
          [
           142,
           10
          ],
          [
           142,
           11
          ],
          [
           142,
           12
          ],
          [
           125,
           10
          ],
          [
           125,
           11
          ],
          [
           137,
           12
          ],
          [
           179,
           13
          ],
          [
           137,
           14
          ],
          [
           137,
           15
          ],
          [
           137,
           16
          ],
          [
           164,
           7
          ],
          [
           162,
           6
          ],
          [
           104,
           7
          ],
          [
           112,
           8
          ],
          [
           112,
           9
          ],
          [
           121,
           10
          ],
          [
           135,
           11
          ],
          [
           96,
           3
          ],
          [
           149,
           4
          ]
         ],
         "hovertemplate": "lifecycle_stage=Mature<br>Order Date=%{x}<br>Customer=%{y}<br>Interaction #=%{customdata[1]}<br>customer_journey_day=%{customdata[0]}<extra></extra>",
         "legendgroup": "Mature",
         "marker": {
          "color": "#EF553B",
          "size": [
           5,
           6,
           7,
           8,
           9,
           10,
           11,
           7,
           8,
           9,
           11,
           12,
           13,
           14,
           15,
           16,
           17,
           18,
           19,
           20,
           21,
           6,
           7,
           8,
           9,
           10,
           11,
           12,
           10,
           11,
           12,
           13,
           14,
           15,
           16,
           7,
           6,
           7,
           8,
           9,
           10,
           11,
           3,
           4
          ],
          "sizemode": "area",
          "sizeref": 0.48,
          "symbol": "circle"
         },
         "mode": "markers",
         "name": "Mature",
         "showlegend": true,
         "type": "scattergl",
         "x": [
          "2020-08-23T00:00:00",
          "2020-08-23T00:00:00",
          "2020-08-23T00:00:00",
          "2020-08-23T00:00:00",
          "2020-08-23T00:00:00",
          "2020-08-23T00:00:00",
          "2020-08-26T00:00:00",
          "2020-08-03T00:00:00",
          "2020-08-03T00:00:00",
          "2020-08-03T00:00:00",
          "2020-07-07T00:00:00",
          "2020-07-07T00:00:00",
          "2020-07-20T00:00:00",
          "2020-07-20T00:00:00",
          "2020-07-20T00:00:00",
          "2020-07-20T00:00:00",
          "2020-08-12T00:00:00",
          "2020-08-12T00:00:00",
          "2020-08-12T00:00:00",
          "2020-09-19T00:00:00",
          "2020-09-19T00:00:00",
          "2020-05-04T00:00:00",
          "2020-05-04T00:00:00",
          "2020-06-01T00:00:00",
          "2020-06-01T00:00:00",
          "2020-06-01T00:00:00",
          "2020-06-01T00:00:00",
          "2020-06-01T00:00:00",
          "2020-07-20T00:00:00",
          "2020-07-20T00:00:00",
          "2020-08-01T00:00:00",
          "2020-09-12T00:00:00",
          "2020-07-05T00:00:00",
          "2020-07-05T00:00:00",
          "2020-07-05T00:00:00",
          "2020-11-05T00:00:00",
          "2020-06-24T00:00:00",
          "2020-06-13T00:00:00",
          "2020-06-21T00:00:00",
          "2020-06-21T00:00:00",
          "2020-06-30T00:00:00",
          "2020-07-14T00:00:00",
          "2020-05-30T00:00:00",
          "2020-07-22T00:00:00"
         ],
         "xaxis": "x",
         "y": [
          "AT&T",
          "AT&T",
          "AT&T",
          "AT&T",
          "AT&T",
          "AT&T",
          "AT&T",
          "Abbott Laboratories",
          "Abbott Laboratories",
          "Abbott Laboratories",
          "Aetna",
          "Aetna",
          "Aetna",
          "Aetna",
          "Aetna",
          "Aetna",
          "Aetna",
          "Aetna",
          "Aetna",
          "Aetna",
          "Aetna",
          "Airbus",
          "Airbus",
          "Airbus",
          "Airbus",
          "Airbus",
          "Airbus",
          "Airbus",
          "Allianz",
          "Allianz",
          "Allianz",
          "Allianz",
          "Allstate",
          "Allstate",
          "Allstate",
          "Alphabet",
          "Amazon",
          "American Express",
          "American Express",
          "American Express",
          "American Express",
          "American Express",
          "AmerisourceBergen",
          "AmerisourceBergen"
         ],
         "yaxis": "y"
        },
        {
         "customdata": [
          [
           201,
           12
          ],
          [
           201,
           13
          ],
          [
           202,
           14
          ],
          [
           202,
           15
          ],
          [
           202,
           16
          ],
          [
           202,
           17
          ],
          [
           202,
           18
          ],
          [
           203,
           19
          ],
          [
           208,
           20
          ],
          [
           213,
           21
          ],
          [
           213,
           22
          ],
          [
           227,
           23
          ],
          [
           245,
           24
          ],
          [
           245,
           25
          ],
          [
           258,
           26
          ],
          [
           259,
           27
          ],
          [
           259,
           28
          ],
          [
           259,
           29
          ],
          [
           279,
           30
          ],
          [
           292,
           31
          ],
          [
           342,
           32
          ],
          [
           383,
           33
          ],
          [
           383,
           34
          ],
          [
           383,
           35
          ],
          [
           383,
           36
          ],
          [
           392,
           37
          ],
          [
           403,
           38
          ],
          [
           478,
           39
          ],
          [
           514,
           40
          ],
          [
           514,
           41
          ],
          [
           523,
           42
          ],
          [
           523,
           43
          ],
          [
           523,
           44
          ],
          [
           523,
           45
          ],
          [
           523,
           46
          ],
          [
           523,
           47
          ],
          [
           523,
           48
          ],
          [
           543,
           49
          ],
          [
           543,
           50
          ],
          [
           607,
           51
          ],
          [
           607,
           52
          ],
          [
           607,
           53
          ],
          [
           607,
           54
          ],
          [
           607,
           55
          ],
          [
           614,
           56
          ],
          [
           614,
           57
          ],
          [
           614,
           58
          ],
          [
           619,
           59
          ],
          [
           630,
           60
          ],
          [
           630,
           61
          ],
          [
           632,
           62
          ],
          [
           632,
           63
          ],
          [
           634,
           64
          ],
          [
           634,
           65
          ],
          [
           634,
           66
          ],
          [
           639,
           67
          ],
          [
           639,
           68
          ],
          [
           639,
           69
          ],
          [
           639,
           70
          ],
          [
           643,
           71
          ],
          [
           643,
           72
          ],
          [
           656,
           73
          ],
          [
           656,
           74
          ],
          [
           656,
           75
          ],
          [
           656,
           76
          ],
          [
           656,
           77
          ],
          [
           732,
           78
          ],
          [
           732,
           79
          ],
          [
           732,
           80
          ],
          [
           732,
           81
          ],
          [
           767,
           82
          ],
          [
           819,
           83
          ],
          [
           819,
           84
          ],
          [
           845,
           85
          ],
          [
           905,
           86
          ],
          [
           905,
           87
          ],
          [
           905,
           88
          ],
          [
           907,
           89
          ],
          [
           907,
           90
          ],
          [
           920,
           91
          ],
          [
           920,
           92
          ],
          [
           968,
           93
          ],
          [
           968,
           94
          ],
          [
           968,
           95
          ],
          [
           968,
           96
          ],
          [
           968,
           97
          ],
          [
           978,
           98
          ],
          [
           989,
           99
          ],
          [
           989,
           100
          ],
          [
           989,
           101
          ],
          [
           991,
           102
          ],
          [
           997,
           103
          ],
          [
           997,
           104
          ],
          [
           997,
           105
          ],
          [
           997,
           106
          ],
          [
           1005,
           107
          ],
          [
           1005,
           108
          ],
          [
           1005,
           109
          ],
          [
           1005,
           110
          ],
          [
           1005,
           111
          ],
          [
           1011,
           112
          ],
          [
           1018,
           113
          ],
          [
           1018,
           114
          ],
          [
           1025,
           115
          ],
          [
           1050,
           116
          ],
          [
           1050,
           117
          ],
          [
           1050,
           118
          ],
          [
           1089,
           119
          ],
          [
           1089,
           120
          ],
          [
           1143,
           121
          ],
          [
           1143,
           122
          ],
          [
           1143,
           123
          ],
          [
           1206,
           124
          ],
          [
           1210,
           125
          ],
          [
           1210,
           126
          ],
          [
           1251,
           127
          ],
          [
           1272,
           128
          ],
          [
           1278,
           129
          ],
          [
           1292,
           130
          ],
          [
           1292,
           131
          ],
          [
           1297,
           132
          ],
          [
           1311,
           133
          ],
          [
           1334,
           134
          ],
          [
           1334,
           135
          ],
          [
           1334,
           136
          ],
          [
           1334,
           137
          ],
          [
           1336,
           138
          ],
          [
           1336,
           139
          ],
          [
           1336,
           140
          ],
          [
           1336,
           141
          ],
          [
           1336,
           142
          ],
          [
           1349,
           143
          ],
          [
           1354,
           144
          ],
          [
           1354,
           145
          ],
          [
           1371,
           146
          ],
          [
           1371,
           147
          ],
          [
           1371,
           148
          ],
          [
           1380,
           149
          ],
          [
           1380,
           150
          ],
          [
           1381,
           151
          ],
          [
           193,
           10
          ],
          [
           235,
           11
          ],
          [
           235,
           12
          ],
          [
           235,
           13
          ],
          [
           235,
           14
          ],
          [
           235,
           15
          ],
          [
           235,
           16
          ],
          [
           260,
           17
          ],
          [
           260,
           18
          ],
          [
           294,
           19
          ],
          [
           338,
           20
          ],
          [
           338,
           21
          ],
          [
           338,
           22
          ],
          [
           338,
           23
          ],
          [
           380,
           24
          ],
          [
           391,
           25
          ],
          [
           436,
           26
          ],
          [
           436,
           27
          ],
          [
           522,
           28
          ],
          [
           529,
           29
          ],
          [
           529,
           30
          ],
          [
           529,
           31
          ],
          [
           529,
           32
          ],
          [
           529,
           33
          ],
          [
           529,
           34
          ],
          [
           529,
           35
          ],
          [
           563,
           36
          ],
          [
           594,
           37
          ],
          [
           594,
           38
          ],
          [
           621,
           39
          ],
          [
           621,
           40
          ],
          [
           664,
           41
          ],
          [
           705,
           42
          ],
          [
           755,
           43
          ],
          [
           941,
           44
          ],
          [
           1071,
           45
          ],
          [
           1071,
           46
          ],
          [
           1071,
           47
          ],
          [
           1071,
           48
          ],
          [
           1118,
           49
          ],
          [
           1118,
           50
          ],
          [
           1118,
           51
          ],
          [
           1118,
           52
          ],
          [
           1220,
           53
          ],
          [
           1220,
           54
          ],
          [
           1220,
           55
          ],
          [
           1220,
           56
          ],
          [
           1220,
           57
          ],
          [
           1220,
           58
          ],
          [
           1220,
           59
          ],
          [
           1232,
           60
          ],
          [
           1235,
           61
          ],
          [
           1235,
           62
          ],
          [
           1256,
           63
          ],
          [
           1268,
           64
          ],
          [
           1278,
           65
          ],
          [
           1286,
           66
          ],
          [
           1343,
           67
          ],
          [
           183,
           22
          ],
          [
           208,
           23
          ],
          [
           208,
           24
          ],
          [
           221,
           25
          ],
          [
           221,
           26
          ],
          [
           221,
           27
          ],
          [
           236,
           28
          ],
          [
           252,
           29
          ],
          [
           252,
           30
          ],
          [
           252,
           31
          ],
          [
           252,
           32
          ],
          [
           252,
           33
          ],
          [
           252,
           34
          ],
          [
           252,
           35
          ],
          [
           252,
           36
          ],
          [
           253,
           37
          ],
          [
           274,
           38
          ],
          [
           305,
           39
          ],
          [
           305,
           40
          ],
          [
           315,
           41
          ],
          [
           375,
           42
          ],
          [
           381,
           43
          ],
          [
           381,
           44
          ],
          [
           381,
           45
          ],
          [
           381,
           46
          ],
          [
           430,
           47
          ],
          [
           430,
           48
          ],
          [
           455,
           49
          ],
          [
           462,
           50
          ],
          [
           504,
           51
          ],
          [
           504,
           52
          ],
          [
           504,
           53
          ],
          [
           504,
           54
          ],
          [
           525,
           55
          ],
          [
           528,
           56
          ],
          [
           529,
           57
          ],
          [
           529,
           58
          ],
          [
           539,
           59
          ],
          [
           539,
           60
          ],
          [
           544,
           61
          ],
          [
           544,
           62
          ],
          [
           550,
           63
          ],
          [
           550,
           64
          ],
          [
           550,
           65
          ],
          [
           557,
           66
          ],
          [
           557,
           67
          ],
          [
           614,
           68
          ],
          [
           626,
           69
          ],
          [
           626,
           70
          ],
          [
           626,
           71
          ],
          [
           626,
           72
          ],
          [
           626,
           73
          ],
          [
           670,
           74
          ],
          [
           670,
           75
          ],
          [
           670,
           76
          ],
          [
           670,
           77
          ],
          [
           670,
           78
          ],
          [
           721,
           79
          ],
          [
           721,
           80
          ],
          [
           735,
           81
          ],
          [
           748,
           82
          ],
          [
           761,
           83
          ],
          [
           804,
           84
          ],
          [
           804,
           85
          ],
          [
           804,
           86
          ],
          [
           804,
           87
          ],
          [
           804,
           88
          ],
          [
           861,
           89
          ],
          [
           875,
           90
          ],
          [
           879,
           91
          ],
          [
           902,
           92
          ],
          [
           910,
           93
          ],
          [
           913,
           94
          ],
          [
           914,
           95
          ],
          [
           921,
           96
          ],
          [
           959,
           97
          ],
          [
           1005,
           98
          ],
          [
           1007,
           99
          ],
          [
           1021,
           100
          ],
          [
           1021,
           101
          ],
          [
           1021,
           102
          ],
          [
           1021,
           103
          ],
          [
           1039,
           104
          ],
          [
           1039,
           105
          ],
          [
           1039,
           106
          ],
          [
           1054,
           107
          ],
          [
           1086,
           108
          ],
          [
           1086,
           109
          ],
          [
           1086,
           110
          ],
          [
           1090,
           111
          ],
          [
           1102,
           112
          ],
          [
           1107,
           113
          ],
          [
           1107,
           114
          ],
          [
           1116,
           115
          ],
          [
           1116,
           116
          ],
          [
           1116,
           117
          ],
          [
           1121,
           118
          ],
          [
           1121,
           119
          ],
          [
           1123,
           120
          ],
          [
           1128,
           121
          ],
          [
           1128,
           122
          ],
          [
           1128,
           123
          ],
          [
           1138,
           124
          ],
          [
           1138,
           125
          ],
          [
           1138,
           126
          ],
          [
           1138,
           127
          ],
          [
           1183,
           128
          ],
          [
           1201,
           129
          ],
          [
           1201,
           130
          ],
          [
           1201,
           131
          ],
          [
           1201,
           132
          ],
          [
           1201,
           133
          ],
          [
           1201,
           134
          ],
          [
           1212,
           135
          ],
          [
           1217,
           136
          ],
          [
           1217,
           137
          ],
          [
           1234,
           138
          ],
          [
           1234,
           139
          ],
          [
           1256,
           140
          ],
          [
           1264,
           141
          ],
          [
           1265,
           142
          ],
          [
           1329,
           143
          ],
          [
           1334,
           144
          ],
          [
           1341,
           145
          ],
          [
           1341,
           146
          ],
          [
           1349,
           147
          ],
          [
           1349,
           148
          ],
          [
           1349,
           149
          ],
          [
           1349,
           150
          ],
          [
           1349,
           151
          ],
          [
           1349,
           152
          ],
          [
           1349,
           153
          ],
          [
           294,
           13
          ],
          [
           295,
           14
          ],
          [
           295,
           15
          ],
          [
           350,
           16
          ],
          [
           350,
           17
          ],
          [
           352,
           18
          ],
          [
           352,
           19
          ],
          [
           352,
           20
          ],
          [
           449,
           21
          ],
          [
           449,
           22
          ],
          [
           449,
           23
          ],
          [
           449,
           24
          ],
          [
           449,
           25
          ],
          [
           493,
           26
          ],
          [
           507,
           27
          ],
          [
           507,
           28
          ],
          [
           507,
           29
          ],
          [
           507,
           30
          ],
          [
           507,
           31
          ],
          [
           547,
           32
          ],
          [
           547,
           33
          ],
          [
           547,
           34
          ],
          [
           547,
           35
          ],
          [
           547,
           36
          ],
          [
           547,
           37
          ],
          [
           549,
           38
          ],
          [
           549,
           39
          ],
          [
           549,
           40
          ],
          [
           580,
           41
          ],
          [
           616,
           42
          ],
          [
           687,
           43
          ],
          [
           703,
           44
          ],
          [
           727,
           45
          ],
          [
           792,
           46
          ],
          [
           793,
           47
          ],
          [
           793,
           48
          ],
          [
           793,
           49
          ],
          [
           819,
           50
          ],
          [
           846,
           51
          ],
          [
           878,
           52
          ],
          [
           878,
           53
          ],
          [
           878,
           54
          ],
          [
           878,
           55
          ],
          [
           878,
           56
          ],
          [
           878,
           57
          ],
          [
           878,
           58
          ],
          [
           892,
           59
          ],
          [
           892,
           60
          ],
          [
           892,
           61
          ],
          [
           892,
           62
          ],
          [
           953,
           63
          ],
          [
           962,
           64
          ],
          [
           965,
           65
          ],
          [
           965,
           66
          ],
          [
           965,
           67
          ],
          [
           965,
           68
          ],
          [
           965,
           69
          ],
          [
           974,
           70
          ],
          [
           983,
           71
          ],
          [
           1018,
           72
          ],
          [
           1037,
           73
          ],
          [
           1037,
           74
          ],
          [
           1043,
           75
          ],
          [
           1044,
           76
          ],
          [
           1044,
           77
          ],
          [
           1049,
           78
          ],
          [
           1049,
           79
          ],
          [
           1049,
           80
          ],
          [
           1049,
           81
          ],
          [
           1053,
           82
          ],
          [
           1115,
           83
          ],
          [
           1140,
           84
          ],
          [
           1164,
           85
          ],
          [
           1164,
           86
          ],
          [
           1164,
           87
          ],
          [
           1164,
           88
          ],
          [
           1164,
           89
          ],
          [
           1192,
           90
          ],
          [
           1192,
           91
          ],
          [
           1192,
           92
          ],
          [
           1213,
           93
          ],
          [
           1220,
           94
          ],
          [
           1220,
           95
          ],
          [
           1220,
           96
          ],
          [
           1220,
           97
          ],
          [
           1220,
           98
          ],
          [
           1220,
           99
          ],
          [
           1226,
           100
          ],
          [
           1226,
           101
          ],
          [
           1226,
           102
          ],
          [
           1226,
           103
          ],
          [
           1226,
           104
          ],
          [
           1233,
           105
          ],
          [
           1233,
           106
          ],
          [
           1329,
           107
          ],
          [
           1345,
           108
          ],
          [
           1365,
           109
          ],
          [
           1375,
           110
          ],
          [
           1380,
           111
          ],
          [
           1395,
           112
          ],
          [
           1395,
           113
          ],
          [
           1395,
           114
          ],
          [
           1396,
           115
          ],
          [
           1396,
           116
          ],
          [
           1396,
           117
          ],
          [
           1401,
           118
          ],
          [
           1404,
           119
          ],
          [
           1404,
           120
          ],
          [
           1407,
           121
          ],
          [
           1407,
           122
          ],
          [
           1423,
           123
          ],
          [
           215,
           14
          ],
          [
           215,
           15
          ],
          [
           215,
           16
          ],
          [
           215,
           17
          ],
          [
           215,
           18
          ],
          [
           263,
           19
          ],
          [
           263,
           20
          ],
          [
           265,
           21
          ],
          [
           267,
           22
          ],
          [
           267,
           23
          ],
          [
           326,
           24
          ],
          [
           326,
           25
          ],
          [
           326,
           26
          ],
          [
           330,
           27
          ],
          [
           372,
           28
          ],
          [
           388,
           29
          ],
          [
           392,
           30
          ],
          [
           392,
           31
          ],
          [
           392,
           32
          ],
          [
           395,
           33
          ],
          [
           395,
           34
          ],
          [
           395,
           35
          ],
          [
           395,
           36
          ],
          [
           395,
           37
          ],
          [
           395,
           38
          ],
          [
           399,
           39
          ],
          [
           399,
           40
          ],
          [
           399,
           41
          ],
          [
           401,
           42
          ],
          [
           401,
           43
          ],
          [
           421,
           44
          ],
          [
           452,
           45
          ],
          [
           529,
           46
          ],
          [
           529,
           47
          ],
          [
           542,
           48
          ],
          [
           542,
           49
          ],
          [
           542,
           50
          ],
          [
           545,
           51
          ],
          [
           545,
           52
          ],
          [
           550,
           53
          ],
          [
           567,
           54
          ],
          [
           579,
           55
          ],
          [
           591,
           56
          ],
          [
           591,
           57
          ],
          [
           595,
           58
          ],
          [
           602,
           59
          ],
          [
           628,
           60
          ],
          [
           628,
           61
          ],
          [
           629,
           62
          ],
          [
           629,
           63
          ],
          [
           629,
           64
          ],
          [
           658,
           65
          ],
          [
           658,
           66
          ],
          [
           676,
           67
          ],
          [
           676,
           68
          ],
          [
           690,
           69
          ],
          [
           690,
           70
          ],
          [
           690,
           71
          ],
          [
           690,
           72
          ],
          [
           717,
           73
          ],
          [
           717,
           74
          ],
          [
           726,
           75
          ],
          [
           727,
           76
          ],
          [
           727,
           77
          ],
          [
           731,
           78
          ],
          [
           731,
           79
          ],
          [
           746,
           80
          ],
          [
           746,
           81
          ],
          [
           746,
           82
          ],
          [
           773,
           83
          ],
          [
           773,
           84
          ],
          [
           777,
           85
          ],
          [
           777,
           86
          ],
          [
           777,
           87
          ],
          [
           777,
           88
          ],
          [
           787,
           89
          ],
          [
           787,
           90
          ],
          [
           792,
           91
          ],
          [
           792,
           92
          ],
          [
           792,
           93
          ],
          [
           792,
           94
          ],
          [
           796,
           95
          ],
          [
           796,
           96
          ],
          [
           803,
           97
          ],
          [
           808,
           98
          ],
          [
           808,
           99
          ],
          [
           808,
           100
          ],
          [
           820,
           101
          ],
          [
           820,
           102
          ],
          [
           823,
           103
          ],
          [
           831,
           104
          ],
          [
           831,
           105
          ],
          [
           831,
           106
          ],
          [
           859,
           107
          ],
          [
           880,
           108
          ],
          [
           880,
           109
          ],
          [
           902,
           110
          ],
          [
           902,
           111
          ],
          [
           910,
           112
          ],
          [
           910,
           113
          ],
          [
           910,
           114
          ],
          [
           910,
           115
          ],
          [
           915,
           116
          ],
          [
           916,
           117
          ],
          [
           917,
           118
          ],
          [
           922,
           119
          ],
          [
           922,
           120
          ],
          [
           934,
           121
          ],
          [
           944,
           122
          ],
          [
           956,
           123
          ],
          [
           956,
           124
          ],
          [
           956,
           125
          ],
          [
           956,
           126
          ],
          [
           958,
           127
          ],
          [
           958,
           128
          ],
          [
           963,
           129
          ],
          [
           964,
           130
          ],
          [
           966,
           131
          ],
          [
           966,
           132
          ],
          [
           966,
           133
          ],
          [
           966,
           134
          ],
          [
           966,
           135
          ],
          [
           970,
           136
          ],
          [
           1012,
           137
          ],
          [
           1012,
           138
          ],
          [
           1012,
           139
          ],
          [
           1012,
           140
          ],
          [
           1012,
           141
          ],
          [
           1012,
           142
          ],
          [
           1012,
           143
          ],
          [
           1012,
           144
          ],
          [
           1015,
           145
          ],
          [
           1042,
           146
          ],
          [
           1042,
           147
          ],
          [
           1076,
           148
          ],
          [
           1076,
           149
          ],
          [
           1121,
           150
          ],
          [
           1121,
           151
          ],
          [
           1152,
           152
          ],
          [
           1168,
           153
          ],
          [
           1211,
           154
          ],
          [
           1224,
           155
          ],
          [
           1235,
           156
          ],
          [
           1242,
           157
          ],
          [
           1242,
           158
          ],
          [
           1242,
           159
          ],
          [
           1249,
           160
          ],
          [
           1249,
           161
          ],
          [
           1259,
           162
          ],
          [
           1259,
           163
          ],
          [
           1265,
           164
          ],
          [
           1267,
           165
          ],
          [
           1303,
           166
          ],
          [
           1313,
           167
          ],
          [
           1313,
           168
          ],
          [
           1313,
           169
          ],
          [
           1320,
           170
          ],
          [
           1320,
           171
          ],
          [
           1320,
           172
          ],
          [
           1327,
           173
          ],
          [
           1331,
           174
          ],
          [
           1340,
           175
          ],
          [
           1342,
           176
          ],
          [
           1342,
           177
          ],
          [
           1342,
           178
          ],
          [
           1342,
           179
          ],
          [
           1343,
           180
          ],
          [
           1361,
           181
          ],
          [
           1363,
           182
          ],
          [
           1364,
           183
          ],
          [
           1364,
           184
          ],
          [
           1364,
           185
          ],
          [
           1364,
           186
          ],
          [
           1364,
           187
          ],
          [
           1365,
           188
          ],
          [
           1365,
           189
          ],
          [
           1376,
           190
          ],
          [
           1376,
           191
          ],
          [
           1383,
           192
          ],
          [
           220,
           17
          ],
          [
           220,
           18
          ],
          [
           255,
           19
          ],
          [
           266,
           20
          ],
          [
           266,
           21
          ],
          [
           266,
           22
          ],
          [
           305,
           23
          ],
          [
           305,
           24
          ],
          [
           305,
           25
          ],
          [
           305,
           26
          ],
          [
           350,
           27
          ],
          [
           367,
           28
          ],
          [
           448,
           29
          ],
          [
           448,
           30
          ],
          [
           482,
           31
          ],
          [
           592,
           32
          ],
          [
           601,
           33
          ],
          [
           601,
           34
          ],
          [
           620,
           35
          ],
          [
           627,
           36
          ],
          [
           627,
           37
          ],
          [
           628,
           38
          ],
          [
           628,
           39
          ],
          [
           751,
           40
          ],
          [
           751,
           41
          ],
          [
           823,
           42
          ],
          [
           836,
           43
          ],
          [
           844,
           44
          ],
          [
           844,
           45
          ],
          [
           844,
           46
          ],
          [
           850,
           47
          ],
          [
           850,
           48
          ],
          [
           850,
           49
          ],
          [
           916,
           50
          ],
          [
           942,
           51
          ],
          [
           947,
           52
          ],
          [
           947,
           53
          ],
          [
           969,
           54
          ],
          [
           969,
           55
          ],
          [
           969,
           56
          ],
          [
           993,
           57
          ],
          [
           993,
           58
          ],
          [
           996,
           59
          ],
          [
           996,
           60
          ],
          [
           999,
           61
          ],
          [
           1010,
           62
          ],
          [
           1011,
           63
          ],
          [
           1011,
           64
          ],
          [
           1011,
           65
          ],
          [
           1018,
           66
          ],
          [
           1030,
           67
          ],
          [
           1040,
           68
          ],
          [
           1045,
           69
          ],
          [
           1119,
           70
          ],
          [
           1127,
           71
          ],
          [
           1129,
           72
          ],
          [
           1145,
           73
          ],
          [
           1145,
           74
          ],
          [
           1161,
           75
          ],
          [
           1197,
           76
          ],
          [
           1225,
           77
          ],
          [
           1225,
           78
          ],
          [
           1225,
           79
          ],
          [
           1229,
           80
          ],
          [
           1229,
           81
          ],
          [
           1229,
           82
          ],
          [
           1251,
           83
          ],
          [
           1264,
           84
          ],
          [
           1301,
           85
          ],
          [
           1301,
           86
          ],
          [
           1301,
           87
          ],
          [
           1314,
           88
          ],
          [
           1314,
           89
          ],
          [
           1314,
           90
          ],
          [
           1314,
           91
          ],
          [
           1314,
           92
          ],
          [
           1323,
           93
          ],
          [
           1353,
           94
          ],
          [
           1361,
           95
          ],
          [
           1361,
           96
          ],
          [
           1365,
           97
          ],
          [
           1371,
           98
          ],
          [
           1375,
           99
          ],
          [
           1375,
           100
          ],
          [
           1375,
           101
          ],
          [
           1375,
           102
          ],
          [
           1391,
           103
          ],
          [
           1400,
           104
          ],
          [
           1410,
           105
          ],
          [
           184,
           8
          ],
          [
           300,
           9
          ],
          [
           300,
           10
          ],
          [
           300,
           11
          ],
          [
           321,
           12
          ],
          [
           321,
           13
          ],
          [
           328,
           14
          ],
          [
           328,
           15
          ],
          [
           443,
           16
          ],
          [
           487,
           17
          ],
          [
           487,
           18
          ],
          [
           546,
           19
          ],
          [
           554,
           20
          ],
          [
           554,
           21
          ],
          [
           554,
           22
          ],
          [
           564,
           23
          ],
          [
           588,
           24
          ],
          [
           596,
           25
          ],
          [
           596,
           26
          ],
          [
           596,
           27
          ],
          [
           715,
           28
          ],
          [
           715,
           29
          ],
          [
           831,
           30
          ],
          [
           831,
           31
          ],
          [
           831,
           32
          ],
          [
           831,
           33
          ],
          [
           831,
           34
          ],
          [
           831,
           35
          ],
          [
           854,
           36
          ],
          [
           858,
           37
          ],
          [
           931,
           38
          ],
          [
           967,
           39
          ],
          [
           967,
           40
          ],
          [
           967,
           41
          ],
          [
           1103,
           42
          ],
          [
           1289,
           43
          ],
          [
           1309,
           44
          ],
          [
           187,
           7
          ],
          [
           187,
           8
          ],
          [
           187,
           9
          ],
          [
           187,
           10
          ],
          [
           195,
           11
          ],
          [
           214,
           12
          ],
          [
           214,
           13
          ],
          [
           214,
           14
          ],
          [
           214,
           15
          ],
          [
           214,
           16
          ],
          [
           214,
           17
          ],
          [
           224,
           18
          ],
          [
           224,
           19
          ],
          [
           224,
           20
          ],
          [
           224,
           21
          ],
          [
           258,
           22
          ],
          [
           265,
           23
          ],
          [
           309,
           24
          ],
          [
           327,
           25
          ],
          [
           327,
           26
          ],
          [
           341,
           27
          ],
          [
           364,
           28
          ],
          [
           364,
           29
          ],
          [
           364,
           30
          ],
          [
           364,
           31
          ],
          [
           364,
           32
          ],
          [
           455,
           33
          ],
          [
           514,
           34
          ],
          [
           514,
           35
          ],
          [
           514,
           36
          ],
          [
           514,
           37
          ],
          [
           514,
           38
          ],
          [
           521,
           39
          ],
          [
           521,
           40
          ],
          [
           521,
           41
          ],
          [
           521,
           42
          ],
          [
           521,
           43
          ],
          [
           552,
           44
          ],
          [
           614,
           45
          ],
          [
           669,
           46
          ],
          [
           669,
           47
          ],
          [
           669,
           48
          ],
          [
           685,
           49
          ],
          [
           685,
           50
          ],
          [
           704,
           51
          ],
          [
           712,
           52
          ],
          [
           720,
           53
          ],
          [
           720,
           54
          ],
          [
           720,
           55
          ],
          [
           764,
           56
          ],
          [
           764,
           57
          ],
          [
           820,
           58
          ],
          [
           820,
           59
          ],
          [
           820,
           60
          ],
          [
           826,
           61
          ],
          [
           826,
           62
          ],
          [
           852,
           63
          ],
          [
           852,
           64
          ],
          [
           852,
           65
          ],
          [
           852,
           66
          ],
          [
           852,
           67
          ],
          [
           852,
           68
          ],
          [
           852,
           69
          ],
          [
           895,
           70
          ],
          [
           942,
           71
          ],
          [
           972,
           72
          ],
          [
           983,
           73
          ],
          [
           983,
           74
          ],
          [
           985,
           75
          ],
          [
           1012,
           76
          ],
          [
           1012,
           77
          ],
          [
           1012,
           78
          ],
          [
           1012,
           79
          ],
          [
           1012,
           80
          ],
          [
           1023,
           81
          ],
          [
           1025,
           82
          ],
          [
           1025,
           83
          ],
          [
           1025,
           84
          ],
          [
           1025,
           85
          ],
          [
           1033,
           86
          ],
          [
           1033,
           87
          ],
          [
           1033,
           88
          ],
          [
           1036,
           89
          ],
          [
           1081,
           90
          ],
          [
           1082,
           91
          ],
          [
           1090,
           92
          ],
          [
           1161,
           93
          ],
          [
           1214,
           94
          ],
          [
           1214,
           95
          ],
          [
           1214,
           96
          ],
          [
           1244,
           97
          ],
          [
           1250,
           98
          ],
          [
           1290,
           99
          ],
          [
           1290,
           100
          ],
          [
           1293,
           101
          ],
          [
           1308,
           102
          ],
          [
           1328,
           103
          ],
          [
           1328,
           104
          ],
          [
           1328,
           105
          ],
          [
           1328,
           106
          ],
          [
           1333,
           107
          ],
          [
           1333,
           108
          ],
          [
           1333,
           109
          ],
          [
           1337,
           110
          ],
          [
           1350,
           111
          ],
          [
           1350,
           112
          ],
          [
           1384,
           113
          ],
          [
           1384,
           114
          ],
          [
           1384,
           115
          ],
          [
           1407,
           116
          ],
          [
           1407,
           117
          ],
          [
           1419,
           118
          ],
          [
           1419,
           119
          ],
          [
           1425,
           120
          ],
          [
           1425,
           121
          ],
          [
           1425,
           122
          ],
          [
           1425,
           123
          ],
          [
           1425,
           124
          ],
          [
           1425,
           125
          ],
          [
           1425,
           126
          ],
          [
           1425,
           127
          ],
          [
           1425,
           128
          ],
          [
           1426,
           129
          ],
          [
           1426,
           130
          ],
          [
           1427,
           131
          ],
          [
           1427,
           132
          ],
          [
           1434,
           133
          ],
          [
           1434,
           134
          ],
          [
           196,
           12
          ],
          [
           196,
           13
          ],
          [
           227,
           14
          ],
          [
           227,
           15
          ],
          [
           267,
           16
          ],
          [
           267,
           17
          ],
          [
           267,
           18
          ],
          [
           273,
           19
          ],
          [
           274,
           20
          ],
          [
           274,
           21
          ],
          [
           286,
           22
          ],
          [
           318,
           23
          ],
          [
           318,
           24
          ],
          [
           318,
           25
          ],
          [
           412,
           26
          ],
          [
           412,
           27
          ],
          [
           412,
           28
          ],
          [
           461,
           29
          ],
          [
           467,
           30
          ],
          [
           467,
           31
          ],
          [
           467,
           32
          ],
          [
           467,
           33
          ],
          [
           467,
           34
          ],
          [
           467,
           35
          ],
          [
           467,
           36
          ],
          [
           467,
           37
          ],
          [
           472,
           38
          ],
          [
           503,
           39
          ],
          [
           506,
           40
          ],
          [
           506,
           41
          ],
          [
           506,
           42
          ],
          [
           506,
           43
          ],
          [
           506,
           44
          ],
          [
           506,
           45
          ],
          [
           575,
           46
          ],
          [
           590,
           47
          ],
          [
           617,
           48
          ],
          [
           622,
           49
          ],
          [
           630,
           50
          ],
          [
           630,
           51
          ],
          [
           630,
           52
          ],
          [
           630,
           53
          ],
          [
           651,
           54
          ],
          [
           651,
           55
          ],
          [
           660,
           56
          ],
          [
           660,
           57
          ],
          [
           713,
           58
          ],
          [
           713,
           59
          ],
          [
           744,
           60
          ],
          [
           744,
           61
          ],
          [
           744,
           62
          ],
          [
           748,
           63
          ],
          [
           771,
           64
          ],
          [
           771,
           65
          ],
          [
           775,
           66
          ],
          [
           778,
           67
          ],
          [
           803,
           68
          ],
          [
           813,
           69
          ],
          [
           828,
           70
          ],
          [
           855,
           71
          ],
          [
           866,
           72
          ],
          [
           917,
           73
          ],
          [
           934,
           74
          ],
          [
           934,
           75
          ],
          [
           934,
           76
          ],
          [
           986,
           77
          ],
          [
           986,
           78
          ],
          [
           1000,
           79
          ],
          [
           1000,
           80
          ],
          [
           1000,
           81
          ],
          [
           1029,
           82
          ],
          [
           1030,
           83
          ],
          [
           1031,
           84
          ],
          [
           1031,
           85
          ],
          [
           1093,
           86
          ],
          [
           1093,
           87
          ],
          [
           1093,
           88
          ],
          [
           1120,
           89
          ],
          [
           1126,
           90
          ],
          [
           1126,
           91
          ],
          [
           1126,
           92
          ],
          [
           1155,
           93
          ],
          [
           1156,
           94
          ],
          [
           1156,
           95
          ],
          [
           1190,
           96
          ],
          [
           1190,
           97
          ],
          [
           1190,
           98
          ],
          [
           1260,
           99
          ],
          [
           1260,
           100
          ],
          [
           1260,
           101
          ],
          [
           1281,
           102
          ],
          [
           1289,
           103
          ],
          [
           1289,
           104
          ],
          [
           1291,
           105
          ],
          [
           1294,
           106
          ],
          [
           1294,
           107
          ],
          [
           1297,
           108
          ],
          [
           1297,
           109
          ],
          [
           1297,
           110
          ],
          [
           1297,
           111
          ],
          [
           1297,
           112
          ],
          [
           1297,
           113
          ],
          [
           1297,
           114
          ],
          [
           1297,
           115
          ],
          [
           1298,
           116
          ],
          [
           1301,
           117
          ],
          [
           1301,
           118
          ],
          [
           1301,
           119
          ],
          [
           1301,
           120
          ],
          [
           1303,
           121
          ],
          [
           1326,
           122
          ],
          [
           1326,
           123
          ],
          [
           1331,
           124
          ],
          [
           1331,
           125
          ],
          [
           1349,
           126
          ],
          [
           1351,
           127
          ],
          [
           1352,
           128
          ],
          [
           1372,
           129
          ],
          [
           1372,
           130
          ],
          [
           1372,
           131
          ],
          [
           1384,
           132
          ],
          [
           1384,
           133
          ],
          [
           1384,
           134
          ],
          [
           1384,
           135
          ],
          [
           1385,
           136
          ],
          [
           1393,
           137
          ],
          [
           183,
           5
          ],
          [
           183,
           6
          ],
          [
           190,
           7
          ],
          [
           206,
           8
          ],
          [
           206,
           9
          ],
          [
           206,
           10
          ],
          [
           206,
           11
          ],
          [
           206,
           12
          ],
          [
           206,
           13
          ],
          [
           216,
           14
          ],
          [
           216,
           15
          ],
          [
           230,
           16
          ],
          [
           230,
           17
          ],
          [
           262,
           18
          ],
          [
           262,
           19
          ],
          [
           274,
           20
          ],
          [
           274,
           21
          ],
          [
           282,
           22
          ],
          [
           282,
           23
          ],
          [
           282,
           24
          ],
          [
           363,
           25
          ],
          [
           376,
           26
          ],
          [
           376,
           27
          ],
          [
           403,
           28
          ],
          [
           414,
           29
          ],
          [
           426,
           30
          ],
          [
           443,
           31
          ],
          [
           460,
           32
          ],
          [
           460,
           33
          ],
          [
           460,
           34
          ],
          [
           484,
           35
          ],
          [
           518,
           36
          ],
          [
           522,
           37
          ],
          [
           522,
           38
          ],
          [
           522,
           39
          ],
          [
           561,
           40
          ],
          [
           576,
           41
          ],
          [
           576,
           42
          ],
          [
           579,
           43
          ],
          [
           607,
           44
          ],
          [
           607,
           45
          ],
          [
           643,
           46
          ],
          [
           643,
           47
          ],
          [
           643,
           48
          ],
          [
           643,
           49
          ],
          [
           643,
           50
          ],
          [
           643,
           51
          ],
          [
           760,
           52
          ],
          [
           792,
           53
          ],
          [
           792,
           54
          ],
          [
           792,
           55
          ],
          [
           806,
           56
          ],
          [
           866,
           57
          ],
          [
           866,
           58
          ],
          [
           866,
           59
          ],
          [
           866,
           60
          ],
          [
           872,
           61
          ],
          [
           873,
           62
          ],
          [
           873,
           63
          ],
          [
           874,
           64
          ],
          [
           898,
           65
          ],
          [
           898,
           66
          ],
          [
           898,
           67
          ],
          [
           915,
           68
          ],
          [
           915,
           69
          ],
          [
           921,
           70
          ],
          [
           921,
           71
          ],
          [
           921,
           72
          ],
          [
           921,
           73
          ],
          [
           921,
           74
          ],
          [
           921,
           75
          ],
          [
           922,
           76
          ],
          [
           922,
           77
          ],
          [
           922,
           78
          ],
          [
           922,
           79
          ],
          [
           922,
           80
          ],
          [
           922,
           81
          ],
          [
           928,
           82
          ],
          [
           963,
           83
          ],
          [
           963,
           84
          ],
          [
           963,
           85
          ],
          [
           963,
           86
          ],
          [
           963,
           87
          ],
          [
           1005,
           88
          ],
          [
           1005,
           89
          ],
          [
           1005,
           90
          ],
          [
           1005,
           91
          ],
          [
           1005,
           92
          ],
          [
           1005,
           93
          ],
          [
           1007,
           94
          ],
          [
           1007,
           95
          ],
          [
           1007,
           96
          ],
          [
           1007,
           97
          ],
          [
           1036,
           98
          ],
          [
           1036,
           99
          ],
          [
           1036,
           100
          ],
          [
           1061,
           101
          ],
          [
           1061,
           102
          ],
          [
           1061,
           103
          ],
          [
           1061,
           104
          ],
          [
           1062,
           105
          ],
          [
           1103,
           106
          ],
          [
           1177,
           107
          ],
          [
           1177,
           108
          ],
          [
           1177,
           109
          ],
          [
           1190,
           110
          ],
          [
           1190,
           111
          ],
          [
           1208,
           112
          ],
          [
           1208,
           113
          ],
          [
           1219,
           114
          ],
          [
           1219,
           115
          ],
          [
           1222,
           116
          ],
          [
           1222,
           117
          ],
          [
           1222,
           118
          ],
          [
           1279,
           119
          ],
          [
           1281,
           120
          ],
          [
           1281,
           121
          ],
          [
           1281,
           122
          ],
          [
           1281,
           123
          ],
          [
           1281,
           124
          ],
          [
           1281,
           125
          ],
          [
           1281,
           126
          ],
          [
           1281,
           127
          ],
          [
           1283,
           128
          ],
          [
           1290,
           129
          ],
          [
           1292,
           130
          ],
          [
           1296,
           131
          ],
          [
           1296,
           132
          ],
          [
           1307,
           133
          ],
          [
           1307,
           134
          ],
          [
           1307,
           135
          ],
          [
           1314,
           136
          ],
          [
           1314,
           137
          ],
          [
           1316,
           138
          ],
          [
           1316,
           139
          ],
          [
           1316,
           140
          ],
          [
           1316,
           141
          ],
          [
           1336,
           142
          ],
          [
           1360,
           143
          ],
          [
           1370,
           144
          ],
          [
           1380,
           145
          ],
          [
           1386,
           146
          ],
          [
           1400,
           147
          ],
          [
           1403,
           148
          ],
          [
           1403,
           149
          ]
         ],
         "hovertemplate": "lifecycle_stage=Loyal<br>Order Date=%{x}<br>Customer=%{y}<br>Interaction #=%{customdata[1]}<br>customer_journey_day=%{customdata[0]}<extra></extra>",
         "legendgroup": "Loyal",
         "marker": {
          "color": "#00cc96",
          "size": [
           12,
           13,
           14,
           15,
           16,
           17,
           18,
           19,
           20,
           21,
           22,
           23,
           24,
           25,
           26,
           27,
           28,
           29,
           30,
           31,
           32,
           33,
           34,
           35,
           36,
           37,
           38,
           39,
           40,
           41,
           42,
           43,
           44,
           45,
           46,
           47,
           48,
           49,
           50,
           51,
           52,
           53,
           54,
           55,
           56,
           57,
           58,
           59,
           60,
           61,
           62,
           63,
           64,
           65,
           66,
           67,
           68,
           69,
           70,
           71,
           72,
           73,
           74,
           75,
           76,
           77,
           78,
           79,
           80,
           81,
           82,
           83,
           84,
           85,
           86,
           87,
           88,
           89,
           90,
           91,
           92,
           93,
           94,
           95,
           96,
           97,
           98,
           99,
           100,
           101,
           102,
           103,
           104,
           105,
           106,
           107,
           108,
           109,
           110,
           111,
           112,
           113,
           114,
           115,
           116,
           117,
           118,
           119,
           120,
           121,
           122,
           123,
           124,
           125,
           126,
           127,
           128,
           129,
           130,
           131,
           132,
           133,
           134,
           135,
           136,
           137,
           138,
           139,
           140,
           141,
           142,
           143,
           144,
           145,
           146,
           147,
           148,
           149,
           150,
           151,
           10,
           11,
           12,
           13,
           14,
           15,
           16,
           17,
           18,
           19,
           20,
           21,
           22,
           23,
           24,
           25,
           26,
           27,
           28,
           29,
           30,
           31,
           32,
           33,
           34,
           35,
           36,
           37,
           38,
           39,
           40,
           41,
           42,
           43,
           44,
           45,
           46,
           47,
           48,
           49,
           50,
           51,
           52,
           53,
           54,
           55,
           56,
           57,
           58,
           59,
           60,
           61,
           62,
           63,
           64,
           65,
           66,
           67,
           22,
           23,
           24,
           25,
           26,
           27,
           28,
           29,
           30,
           31,
           32,
           33,
           34,
           35,
           36,
           37,
           38,
           39,
           40,
           41,
           42,
           43,
           44,
           45,
           46,
           47,
           48,
           49,
           50,
           51,
           52,
           53,
           54,
           55,
           56,
           57,
           58,
           59,
           60,
           61,
           62,
           63,
           64,
           65,
           66,
           67,
           68,
           69,
           70,
           71,
           72,
           73,
           74,
           75,
           76,
           77,
           78,
           79,
           80,
           81,
           82,
           83,
           84,
           85,
           86,
           87,
           88,
           89,
           90,
           91,
           92,
           93,
           94,
           95,
           96,
           97,
           98,
           99,
           100,
           101,
           102,
           103,
           104,
           105,
           106,
           107,
           108,
           109,
           110,
           111,
           112,
           113,
           114,
           115,
           116,
           117,
           118,
           119,
           120,
           121,
           122,
           123,
           124,
           125,
           126,
           127,
           128,
           129,
           130,
           131,
           132,
           133,
           134,
           135,
           136,
           137,
           138,
           139,
           140,
           141,
           142,
           143,
           144,
           145,
           146,
           147,
           148,
           149,
           150,
           151,
           152,
           153,
           13,
           14,
           15,
           16,
           17,
           18,
           19,
           20,
           21,
           22,
           23,
           24,
           25,
           26,
           27,
           28,
           29,
           30,
           31,
           32,
           33,
           34,
           35,
           36,
           37,
           38,
           39,
           40,
           41,
           42,
           43,
           44,
           45,
           46,
           47,
           48,
           49,
           50,
           51,
           52,
           53,
           54,
           55,
           56,
           57,
           58,
           59,
           60,
           61,
           62,
           63,
           64,
           65,
           66,
           67,
           68,
           69,
           70,
           71,
           72,
           73,
           74,
           75,
           76,
           77,
           78,
           79,
           80,
           81,
           82,
           83,
           84,
           85,
           86,
           87,
           88,
           89,
           90,
           91,
           92,
           93,
           94,
           95,
           96,
           97,
           98,
           99,
           100,
           101,
           102,
           103,
           104,
           105,
           106,
           107,
           108,
           109,
           110,
           111,
           112,
           113,
           114,
           115,
           116,
           117,
           118,
           119,
           120,
           121,
           122,
           123,
           14,
           15,
           16,
           17,
           18,
           19,
           20,
           21,
           22,
           23,
           24,
           25,
           26,
           27,
           28,
           29,
           30,
           31,
           32,
           33,
           34,
           35,
           36,
           37,
           38,
           39,
           40,
           41,
           42,
           43,
           44,
           45,
           46,
           47,
           48,
           49,
           50,
           51,
           52,
           53,
           54,
           55,
           56,
           57,
           58,
           59,
           60,
           61,
           62,
           63,
           64,
           65,
           66,
           67,
           68,
           69,
           70,
           71,
           72,
           73,
           74,
           75,
           76,
           77,
           78,
           79,
           80,
           81,
           82,
           83,
           84,
           85,
           86,
           87,
           88,
           89,
           90,
           91,
           92,
           93,
           94,
           95,
           96,
           97,
           98,
           99,
           100,
           101,
           102,
           103,
           104,
           105,
           106,
           107,
           108,
           109,
           110,
           111,
           112,
           113,
           114,
           115,
           116,
           117,
           118,
           119,
           120,
           121,
           122,
           123,
           124,
           125,
           126,
           127,
           128,
           129,
           130,
           131,
           132,
           133,
           134,
           135,
           136,
           137,
           138,
           139,
           140,
           141,
           142,
           143,
           144,
           145,
           146,
           147,
           148,
           149,
           150,
           151,
           152,
           153,
           154,
           155,
           156,
           157,
           158,
           159,
           160,
           161,
           162,
           163,
           164,
           165,
           166,
           167,
           168,
           169,
           170,
           171,
           172,
           173,
           174,
           175,
           176,
           177,
           178,
           179,
           180,
           181,
           182,
           183,
           184,
           185,
           186,
           187,
           188,
           189,
           190,
           191,
           192,
           17,
           18,
           19,
           20,
           21,
           22,
           23,
           24,
           25,
           26,
           27,
           28,
           29,
           30,
           31,
           32,
           33,
           34,
           35,
           36,
           37,
           38,
           39,
           40,
           41,
           42,
           43,
           44,
           45,
           46,
           47,
           48,
           49,
           50,
           51,
           52,
           53,
           54,
           55,
           56,
           57,
           58,
           59,
           60,
           61,
           62,
           63,
           64,
           65,
           66,
           67,
           68,
           69,
           70,
           71,
           72,
           73,
           74,
           75,
           76,
           77,
           78,
           79,
           80,
           81,
           82,
           83,
           84,
           85,
           86,
           87,
           88,
           89,
           90,
           91,
           92,
           93,
           94,
           95,
           96,
           97,
           98,
           99,
           100,
           101,
           102,
           103,
           104,
           105,
           8,
           9,
           10,
           11,
           12,
           13,
           14,
           15,
           16,
           17,
           18,
           19,
           20,
           21,
           22,
           23,
           24,
           25,
           26,
           27,
           28,
           29,
           30,
           31,
           32,
           33,
           34,
           35,
           36,
           37,
           38,
           39,
           40,
           41,
           42,
           43,
           44,
           7,
           8,
           9,
           10,
           11,
           12,
           13,
           14,
           15,
           16,
           17,
           18,
           19,
           20,
           21,
           22,
           23,
           24,
           25,
           26,
           27,
           28,
           29,
           30,
           31,
           32,
           33,
           34,
           35,
           36,
           37,
           38,
           39,
           40,
           41,
           42,
           43,
           44,
           45,
           46,
           47,
           48,
           49,
           50,
           51,
           52,
           53,
           54,
           55,
           56,
           57,
           58,
           59,
           60,
           61,
           62,
           63,
           64,
           65,
           66,
           67,
           68,
           69,
           70,
           71,
           72,
           73,
           74,
           75,
           76,
           77,
           78,
           79,
           80,
           81,
           82,
           83,
           84,
           85,
           86,
           87,
           88,
           89,
           90,
           91,
           92,
           93,
           94,
           95,
           96,
           97,
           98,
           99,
           100,
           101,
           102,
           103,
           104,
           105,
           106,
           107,
           108,
           109,
           110,
           111,
           112,
           113,
           114,
           115,
           116,
           117,
           118,
           119,
           120,
           121,
           122,
           123,
           124,
           125,
           126,
           127,
           128,
           129,
           130,
           131,
           132,
           133,
           134,
           12,
           13,
           14,
           15,
           16,
           17,
           18,
           19,
           20,
           21,
           22,
           23,
           24,
           25,
           26,
           27,
           28,
           29,
           30,
           31,
           32,
           33,
           34,
           35,
           36,
           37,
           38,
           39,
           40,
           41,
           42,
           43,
           44,
           45,
           46,
           47,
           48,
           49,
           50,
           51,
           52,
           53,
           54,
           55,
           56,
           57,
           58,
           59,
           60,
           61,
           62,
           63,
           64,
           65,
           66,
           67,
           68,
           69,
           70,
           71,
           72,
           73,
           74,
           75,
           76,
           77,
           78,
           79,
           80,
           81,
           82,
           83,
           84,
           85,
           86,
           87,
           88,
           89,
           90,
           91,
           92,
           93,
           94,
           95,
           96,
           97,
           98,
           99,
           100,
           101,
           102,
           103,
           104,
           105,
           106,
           107,
           108,
           109,
           110,
           111,
           112,
           113,
           114,
           115,
           116,
           117,
           118,
           119,
           120,
           121,
           122,
           123,
           124,
           125,
           126,
           127,
           128,
           129,
           130,
           131,
           132,
           133,
           134,
           135,
           136,
           137,
           5,
           6,
           7,
           8,
           9,
           10,
           11,
           12,
           13,
           14,
           15,
           16,
           17,
           18,
           19,
           20,
           21,
           22,
           23,
           24,
           25,
           26,
           27,
           28,
           29,
           30,
           31,
           32,
           33,
           34,
           35,
           36,
           37,
           38,
           39,
           40,
           41,
           42,
           43,
           44,
           45,
           46,
           47,
           48,
           49,
           50,
           51,
           52,
           53,
           54,
           55,
           56,
           57,
           58,
           59,
           60,
           61,
           62,
           63,
           64,
           65,
           66,
           67,
           68,
           69,
           70,
           71,
           72,
           73,
           74,
           75,
           76,
           77,
           78,
           79,
           80,
           81,
           82,
           83,
           84,
           85,
           86,
           87,
           88,
           89,
           90,
           91,
           92,
           93,
           94,
           95,
           96,
           97,
           98,
           99,
           100,
           101,
           102,
           103,
           104,
           105,
           106,
           107,
           108,
           109,
           110,
           111,
           112,
           113,
           114,
           115,
           116,
           117,
           118,
           119,
           120,
           121,
           122,
           123,
           124,
           125,
           126,
           127,
           128,
           129,
           130,
           131,
           132,
           133,
           134,
           135,
           136,
           137,
           138,
           139,
           140,
           141,
           142,
           143,
           144,
           145,
           146,
           147,
           148,
           149
          ],
          "sizemode": "area",
          "sizeref": 0.48,
          "symbol": "circle"
         },
         "mode": "markers",
         "name": "Loyal",
         "showlegend": true,
         "type": "scattergl",
         "x": [
          "2020-09-28T00:00:00",
          "2020-09-28T00:00:00",
          "2020-09-29T00:00:00",
          "2020-09-29T00:00:00",
          "2020-09-29T00:00:00",
          "2020-09-29T00:00:00",
          "2020-09-29T00:00:00",
          "2020-09-30T00:00:00",
          "2020-10-05T00:00:00",
          "2020-10-10T00:00:00",
          "2020-10-10T00:00:00",
          "2020-10-24T00:00:00",
          "2020-11-11T00:00:00",
          "2020-11-11T00:00:00",
          "2020-11-24T00:00:00",
          "2020-11-25T00:00:00",
          "2020-11-25T00:00:00",
          "2020-11-25T00:00:00",
          "2020-12-15T00:00:00",
          "2020-12-28T00:00:00",
          "2021-02-16T00:00:00",
          "2021-03-29T00:00:00",
          "2021-03-29T00:00:00",
          "2021-03-29T00:00:00",
          "2021-03-29T00:00:00",
          "2021-04-07T00:00:00",
          "2021-04-18T00:00:00",
          "2021-07-02T00:00:00",
          "2021-08-07T00:00:00",
          "2021-08-07T00:00:00",
          "2021-08-16T00:00:00",
          "2021-08-16T00:00:00",
          "2021-08-16T00:00:00",
          "2021-08-16T00:00:00",
          "2021-08-16T00:00:00",
          "2021-08-16T00:00:00",
          "2021-08-16T00:00:00",
          "2021-09-05T00:00:00",
          "2021-09-05T00:00:00",
          "2021-11-08T00:00:00",
          "2021-11-08T00:00:00",
          "2021-11-08T00:00:00",
          "2021-11-08T00:00:00",
          "2021-11-08T00:00:00",
          "2021-11-15T00:00:00",
          "2021-11-15T00:00:00",
          "2021-11-15T00:00:00",
          "2021-11-20T00:00:00",
          "2021-12-01T00:00:00",
          "2021-12-01T00:00:00",
          "2021-12-03T00:00:00",
          "2021-12-03T00:00:00",
          "2021-12-05T00:00:00",
          "2021-12-05T00:00:00",
          "2021-12-05T00:00:00",
          "2021-12-10T00:00:00",
          "2021-12-10T00:00:00",
          "2021-12-10T00:00:00",
          "2021-12-10T00:00:00",
          "2021-12-14T00:00:00",
          "2021-12-14T00:00:00",
          "2021-12-27T00:00:00",
          "2021-12-27T00:00:00",
          "2021-12-27T00:00:00",
          "2021-12-27T00:00:00",
          "2021-12-27T00:00:00",
          "2022-03-13T00:00:00",
          "2022-03-13T00:00:00",
          "2022-03-13T00:00:00",
          "2022-03-13T00:00:00",
          "2022-04-17T00:00:00",
          "2022-06-08T00:00:00",
          "2022-06-08T00:00:00",
          "2022-07-04T00:00:00",
          "2022-09-02T00:00:00",
          "2022-09-02T00:00:00",
          "2022-09-02T00:00:00",
          "2022-09-04T00:00:00",
          "2022-09-04T00:00:00",
          "2022-09-17T00:00:00",
          "2022-09-17T00:00:00",
          "2022-11-04T00:00:00",
          "2022-11-04T00:00:00",
          "2022-11-04T00:00:00",
          "2022-11-04T00:00:00",
          "2022-11-04T00:00:00",
          "2022-11-14T00:00:00",
          "2022-11-25T00:00:00",
          "2022-11-25T00:00:00",
          "2022-11-25T00:00:00",
          "2022-11-27T00:00:00",
          "2022-12-03T00:00:00",
          "2022-12-03T00:00:00",
          "2022-12-03T00:00:00",
          "2022-12-03T00:00:00",
          "2022-12-11T00:00:00",
          "2022-12-11T00:00:00",
          "2022-12-11T00:00:00",
          "2022-12-11T00:00:00",
          "2022-12-11T00:00:00",
          "2022-12-17T00:00:00",
          "2022-12-24T00:00:00",
          "2022-12-24T00:00:00",
          "2022-12-31T00:00:00",
          "2023-01-25T00:00:00",
          "2023-01-25T00:00:00",
          "2023-01-25T00:00:00",
          "2023-03-05T00:00:00",
          "2023-03-05T00:00:00",
          "2023-04-28T00:00:00",
          "2023-04-28T00:00:00",
          "2023-04-28T00:00:00",
          "2023-06-30T00:00:00",
          "2023-07-04T00:00:00",
          "2023-07-04T00:00:00",
          "2023-08-14T00:00:00",
          "2023-09-04T00:00:00",
          "2023-09-10T00:00:00",
          "2023-09-24T00:00:00",
          "2023-09-24T00:00:00",
          "2023-09-29T00:00:00",
          "2023-10-13T00:00:00",
          "2023-11-05T00:00:00",
          "2023-11-05T00:00:00",
          "2023-11-05T00:00:00",
          "2023-11-05T00:00:00",
          "2023-11-07T00:00:00",
          "2023-11-07T00:00:00",
          "2023-11-07T00:00:00",
          "2023-11-07T00:00:00",
          "2023-11-07T00:00:00",
          "2023-11-20T00:00:00",
          "2023-11-25T00:00:00",
          "2023-11-25T00:00:00",
          "2023-12-12T00:00:00",
          "2023-12-12T00:00:00",
          "2023-12-12T00:00:00",
          "2023-12-21T00:00:00",
          "2023-12-21T00:00:00",
          "2023-12-22T00:00:00",
          "2020-10-25T00:00:00",
          "2020-12-06T00:00:00",
          "2020-12-06T00:00:00",
          "2020-12-06T00:00:00",
          "2020-12-06T00:00:00",
          "2020-12-06T00:00:00",
          "2020-12-06T00:00:00",
          "2020-12-31T00:00:00",
          "2020-12-31T00:00:00",
          "2021-02-03T00:00:00",
          "2021-03-19T00:00:00",
          "2021-03-19T00:00:00",
          "2021-03-19T00:00:00",
          "2021-03-19T00:00:00",
          "2021-04-30T00:00:00",
          "2021-05-11T00:00:00",
          "2021-06-25T00:00:00",
          "2021-06-25T00:00:00",
          "2021-09-19T00:00:00",
          "2021-09-26T00:00:00",
          "2021-09-26T00:00:00",
          "2021-09-26T00:00:00",
          "2021-09-26T00:00:00",
          "2021-09-26T00:00:00",
          "2021-09-26T00:00:00",
          "2021-09-26T00:00:00",
          "2021-10-30T00:00:00",
          "2021-11-30T00:00:00",
          "2021-11-30T00:00:00",
          "2021-12-27T00:00:00",
          "2021-12-27T00:00:00",
          "2022-02-08T00:00:00",
          "2022-03-21T00:00:00",
          "2022-05-10T00:00:00",
          "2022-11-12T00:00:00",
          "2023-03-22T00:00:00",
          "2023-03-22T00:00:00",
          "2023-03-22T00:00:00",
          "2023-03-22T00:00:00",
          "2023-05-08T00:00:00",
          "2023-05-08T00:00:00",
          "2023-05-08T00:00:00",
          "2023-05-08T00:00:00",
          "2023-08-18T00:00:00",
          "2023-08-18T00:00:00",
          "2023-08-18T00:00:00",
          "2023-08-18T00:00:00",
          "2023-08-18T00:00:00",
          "2023-08-18T00:00:00",
          "2023-08-18T00:00:00",
          "2023-08-30T00:00:00",
          "2023-09-02T00:00:00",
          "2023-09-02T00:00:00",
          "2023-09-23T00:00:00",
          "2023-10-05T00:00:00",
          "2023-10-15T00:00:00",
          "2023-10-23T00:00:00",
          "2023-12-19T00:00:00",
          "2020-09-30T00:00:00",
          "2020-10-25T00:00:00",
          "2020-10-25T00:00:00",
          "2020-11-07T00:00:00",
          "2020-11-07T00:00:00",
          "2020-11-07T00:00:00",
          "2020-11-22T00:00:00",
          "2020-12-08T00:00:00",
          "2020-12-08T00:00:00",
          "2020-12-08T00:00:00",
          "2020-12-08T00:00:00",
          "2020-12-08T00:00:00",
          "2020-12-08T00:00:00",
          "2020-12-08T00:00:00",
          "2020-12-08T00:00:00",
          "2020-12-09T00:00:00",
          "2020-12-30T00:00:00",
          "2021-01-30T00:00:00",
          "2021-01-30T00:00:00",
          "2021-02-09T00:00:00",
          "2021-04-10T00:00:00",
          "2021-04-16T00:00:00",
          "2021-04-16T00:00:00",
          "2021-04-16T00:00:00",
          "2021-04-16T00:00:00",
          "2021-06-04T00:00:00",
          "2021-06-04T00:00:00",
          "2021-06-29T00:00:00",
          "2021-07-06T00:00:00",
          "2021-08-17T00:00:00",
          "2021-08-17T00:00:00",
          "2021-08-17T00:00:00",
          "2021-08-17T00:00:00",
          "2021-09-07T00:00:00",
          "2021-09-10T00:00:00",
          "2021-09-11T00:00:00",
          "2021-09-11T00:00:00",
          "2021-09-21T00:00:00",
          "2021-09-21T00:00:00",
          "2021-09-26T00:00:00",
          "2021-09-26T00:00:00",
          "2021-10-02T00:00:00",
          "2021-10-02T00:00:00",
          "2021-10-02T00:00:00",
          "2021-10-09T00:00:00",
          "2021-10-09T00:00:00",
          "2021-12-05T00:00:00",
          "2021-12-17T00:00:00",
          "2021-12-17T00:00:00",
          "2021-12-17T00:00:00",
          "2021-12-17T00:00:00",
          "2021-12-17T00:00:00",
          "2022-01-30T00:00:00",
          "2022-01-30T00:00:00",
          "2022-01-30T00:00:00",
          "2022-01-30T00:00:00",
          "2022-01-30T00:00:00",
          "2022-03-22T00:00:00",
          "2022-03-22T00:00:00",
          "2022-04-05T00:00:00",
          "2022-04-18T00:00:00",
          "2022-05-01T00:00:00",
          "2022-06-13T00:00:00",
          "2022-06-13T00:00:00",
          "2022-06-13T00:00:00",
          "2022-06-13T00:00:00",
          "2022-06-13T00:00:00",
          "2022-08-09T00:00:00",
          "2022-08-23T00:00:00",
          "2022-08-27T00:00:00",
          "2022-09-19T00:00:00",
          "2022-09-27T00:00:00",
          "2022-09-30T00:00:00",
          "2022-10-01T00:00:00",
          "2022-10-08T00:00:00",
          "2022-11-15T00:00:00",
          "2022-12-31T00:00:00",
          "2023-01-02T00:00:00",
          "2023-01-16T00:00:00",
          "2023-01-16T00:00:00",
          "2023-01-16T00:00:00",
          "2023-01-16T00:00:00",
          "2023-02-03T00:00:00",
          "2023-02-03T00:00:00",
          "2023-02-03T00:00:00",
          "2023-02-18T00:00:00",
          "2023-03-22T00:00:00",
          "2023-03-22T00:00:00",
          "2023-03-22T00:00:00",
          "2023-03-26T00:00:00",
          "2023-04-07T00:00:00",
          "2023-04-12T00:00:00",
          "2023-04-12T00:00:00",
          "2023-04-21T00:00:00",
          "2023-04-21T00:00:00",
          "2023-04-21T00:00:00",
          "2023-04-26T00:00:00",
          "2023-04-26T00:00:00",
          "2023-04-28T00:00:00",
          "2023-05-03T00:00:00",
          "2023-05-03T00:00:00",
          "2023-05-03T00:00:00",
          "2023-05-13T00:00:00",
          "2023-05-13T00:00:00",
          "2023-05-13T00:00:00",
          "2023-05-13T00:00:00",
          "2023-06-27T00:00:00",
          "2023-07-15T00:00:00",
          "2023-07-15T00:00:00",
          "2023-07-15T00:00:00",
          "2023-07-15T00:00:00",
          "2023-07-15T00:00:00",
          "2023-07-15T00:00:00",
          "2023-07-26T00:00:00",
          "2023-07-31T00:00:00",
          "2023-07-31T00:00:00",
          "2023-08-17T00:00:00",
          "2023-08-17T00:00:00",
          "2023-09-08T00:00:00",
          "2023-09-16T00:00:00",
          "2023-09-17T00:00:00",
          "2023-11-20T00:00:00",
          "2023-11-25T00:00:00",
          "2023-12-02T00:00:00",
          "2023-12-02T00:00:00",
          "2023-12-10T00:00:00",
          "2023-12-10T00:00:00",
          "2023-12-10T00:00:00",
          "2023-12-10T00:00:00",
          "2023-12-10T00:00:00",
          "2023-12-10T00:00:00",
          "2023-12-10T00:00:00",
          "2020-10-31T00:00:00",
          "2020-11-01T00:00:00",
          "2020-11-01T00:00:00",
          "2020-12-26T00:00:00",
          "2020-12-26T00:00:00",
          "2020-12-28T00:00:00",
          "2020-12-28T00:00:00",
          "2020-12-28T00:00:00",
          "2021-04-04T00:00:00",
          "2021-04-04T00:00:00",
          "2021-04-04T00:00:00",
          "2021-04-04T00:00:00",
          "2021-04-04T00:00:00",
          "2021-05-18T00:00:00",
          "2021-06-01T00:00:00",
          "2021-06-01T00:00:00",
          "2021-06-01T00:00:00",
          "2021-06-01T00:00:00",
          "2021-06-01T00:00:00",
          "2021-07-11T00:00:00",
          "2021-07-11T00:00:00",
          "2021-07-11T00:00:00",
          "2021-07-11T00:00:00",
          "2021-07-11T00:00:00",
          "2021-07-11T00:00:00",
          "2021-07-13T00:00:00",
          "2021-07-13T00:00:00",
          "2021-07-13T00:00:00",
          "2021-08-13T00:00:00",
          "2021-09-18T00:00:00",
          "2021-11-28T00:00:00",
          "2021-12-14T00:00:00",
          "2022-01-07T00:00:00",
          "2022-03-13T00:00:00",
          "2022-03-14T00:00:00",
          "2022-03-14T00:00:00",
          "2022-03-14T00:00:00",
          "2022-04-09T00:00:00",
          "2022-05-06T00:00:00",
          "2022-06-07T00:00:00",
          "2022-06-07T00:00:00",
          "2022-06-07T00:00:00",
          "2022-06-07T00:00:00",
          "2022-06-07T00:00:00",
          "2022-06-07T00:00:00",
          "2022-06-07T00:00:00",
          "2022-06-21T00:00:00",
          "2022-06-21T00:00:00",
          "2022-06-21T00:00:00",
          "2022-06-21T00:00:00",
          "2022-08-21T00:00:00",
          "2022-08-30T00:00:00",
          "2022-09-02T00:00:00",
          "2022-09-02T00:00:00",
          "2022-09-02T00:00:00",
          "2022-09-02T00:00:00",
          "2022-09-02T00:00:00",
          "2022-09-11T00:00:00",
          "2022-09-20T00:00:00",
          "2022-10-25T00:00:00",
          "2022-11-13T00:00:00",
          "2022-11-13T00:00:00",
          "2022-11-19T00:00:00",
          "2022-11-20T00:00:00",
          "2022-11-20T00:00:00",
          "2022-11-25T00:00:00",
          "2022-11-25T00:00:00",
          "2022-11-25T00:00:00",
          "2022-11-25T00:00:00",
          "2022-11-29T00:00:00",
          "2023-01-30T00:00:00",
          "2023-02-24T00:00:00",
          "2023-03-20T00:00:00",
          "2023-03-20T00:00:00",
          "2023-03-20T00:00:00",
          "2023-03-20T00:00:00",
          "2023-03-20T00:00:00",
          "2023-04-17T00:00:00",
          "2023-04-17T00:00:00",
          "2023-04-17T00:00:00",
          "2023-05-08T00:00:00",
          "2023-05-15T00:00:00",
          "2023-05-15T00:00:00",
          "2023-05-15T00:00:00",
          "2023-05-15T00:00:00",
          "2023-05-15T00:00:00",
          "2023-05-15T00:00:00",
          "2023-05-21T00:00:00",
          "2023-05-21T00:00:00",
          "2023-05-21T00:00:00",
          "2023-05-21T00:00:00",
          "2023-05-21T00:00:00",
          "2023-05-28T00:00:00",
          "2023-05-28T00:00:00",
          "2023-09-01T00:00:00",
          "2023-09-17T00:00:00",
          "2023-10-07T00:00:00",
          "2023-10-17T00:00:00",
          "2023-10-22T00:00:00",
          "2023-11-06T00:00:00",
          "2023-11-06T00:00:00",
          "2023-11-06T00:00:00",
          "2023-11-07T00:00:00",
          "2023-11-07T00:00:00",
          "2023-11-07T00:00:00",
          "2023-11-12T00:00:00",
          "2023-11-15T00:00:00",
          "2023-11-15T00:00:00",
          "2023-11-18T00:00:00",
          "2023-11-18T00:00:00",
          "2023-12-04T00:00:00",
          "2020-10-18T00:00:00",
          "2020-10-18T00:00:00",
          "2020-10-18T00:00:00",
          "2020-10-18T00:00:00",
          "2020-10-18T00:00:00",
          "2020-12-05T00:00:00",
          "2020-12-05T00:00:00",
          "2020-12-07T00:00:00",
          "2020-12-09T00:00:00",
          "2020-12-09T00:00:00",
          "2021-02-06T00:00:00",
          "2021-02-06T00:00:00",
          "2021-02-06T00:00:00",
          "2021-02-10T00:00:00",
          "2021-03-24T00:00:00",
          "2021-04-09T00:00:00",
          "2021-04-13T00:00:00",
          "2021-04-13T00:00:00",
          "2021-04-13T00:00:00",
          "2021-04-16T00:00:00",
          "2021-04-16T00:00:00",
          "2021-04-16T00:00:00",
          "2021-04-16T00:00:00",
          "2021-04-16T00:00:00",
          "2021-04-16T00:00:00",
          "2021-04-20T00:00:00",
          "2021-04-20T00:00:00",
          "2021-04-20T00:00:00",
          "2021-04-22T00:00:00",
          "2021-04-22T00:00:00",
          "2021-05-12T00:00:00",
          "2021-06-12T00:00:00",
          "2021-08-28T00:00:00",
          "2021-08-28T00:00:00",
          "2021-09-10T00:00:00",
          "2021-09-10T00:00:00",
          "2021-09-10T00:00:00",
          "2021-09-13T00:00:00",
          "2021-09-13T00:00:00",
          "2021-09-18T00:00:00",
          "2021-10-05T00:00:00",
          "2021-10-17T00:00:00",
          "2021-10-29T00:00:00",
          "2021-10-29T00:00:00",
          "2021-11-02T00:00:00",
          "2021-11-09T00:00:00",
          "2021-12-05T00:00:00",
          "2021-12-05T00:00:00",
          "2021-12-06T00:00:00",
          "2021-12-06T00:00:00",
          "2021-12-06T00:00:00",
          "2022-01-04T00:00:00",
          "2022-01-04T00:00:00",
          "2022-01-22T00:00:00",
          "2022-01-22T00:00:00",
          "2022-02-05T00:00:00",
          "2022-02-05T00:00:00",
          "2022-02-05T00:00:00",
          "2022-02-05T00:00:00",
          "2022-03-04T00:00:00",
          "2022-03-04T00:00:00",
          "2022-03-13T00:00:00",
          "2022-03-14T00:00:00",
          "2022-03-14T00:00:00",
          "2022-03-18T00:00:00",
          "2022-03-18T00:00:00",
          "2022-04-02T00:00:00",
          "2022-04-02T00:00:00",
          "2022-04-02T00:00:00",
          "2022-04-29T00:00:00",
          "2022-04-29T00:00:00",
          "2022-05-03T00:00:00",
          "2022-05-03T00:00:00",
          "2022-05-03T00:00:00",
          "2022-05-03T00:00:00",
          "2022-05-13T00:00:00",
          "2022-05-13T00:00:00",
          "2022-05-18T00:00:00",
          "2022-05-18T00:00:00",
          "2022-05-18T00:00:00",
          "2022-05-18T00:00:00",
          "2022-05-22T00:00:00",
          "2022-05-22T00:00:00",
          "2022-05-29T00:00:00",
          "2022-06-03T00:00:00",
          "2022-06-03T00:00:00",
          "2022-06-03T00:00:00",
          "2022-06-15T00:00:00",
          "2022-06-15T00:00:00",
          "2022-06-18T00:00:00",
          "2022-06-26T00:00:00",
          "2022-06-26T00:00:00",
          "2022-06-26T00:00:00",
          "2022-07-24T00:00:00",
          "2022-08-14T00:00:00",
          "2022-08-14T00:00:00",
          "2022-09-05T00:00:00",
          "2022-09-05T00:00:00",
          "2022-09-13T00:00:00",
          "2022-09-13T00:00:00",
          "2022-09-13T00:00:00",
          "2022-09-13T00:00:00",
          "2022-09-18T00:00:00",
          "2022-09-19T00:00:00",
          "2022-09-20T00:00:00",
          "2022-09-25T00:00:00",
          "2022-09-25T00:00:00",
          "2022-10-07T00:00:00",
          "2022-10-17T00:00:00",
          "2022-10-29T00:00:00",
          "2022-10-29T00:00:00",
          "2022-10-29T00:00:00",
          "2022-10-29T00:00:00",
          "2022-10-31T00:00:00",
          "2022-10-31T00:00:00",
          "2022-11-05T00:00:00",
          "2022-11-06T00:00:00",
          "2022-11-08T00:00:00",
          "2022-11-08T00:00:00",
          "2022-11-08T00:00:00",
          "2022-11-08T00:00:00",
          "2022-11-08T00:00:00",
          "2022-11-12T00:00:00",
          "2022-12-24T00:00:00",
          "2022-12-24T00:00:00",
          "2022-12-24T00:00:00",
          "2022-12-24T00:00:00",
          "2022-12-24T00:00:00",
          "2022-12-24T00:00:00",
          "2022-12-24T00:00:00",
          "2022-12-24T00:00:00",
          "2022-12-27T00:00:00",
          "2023-01-23T00:00:00",
          "2023-01-23T00:00:00",
          "2023-02-26T00:00:00",
          "2023-02-26T00:00:00",
          "2023-04-12T00:00:00",
          "2023-04-12T00:00:00",
          "2023-05-13T00:00:00",
          "2023-05-29T00:00:00",
          "2023-07-11T00:00:00",
          "2023-07-24T00:00:00",
          "2023-08-04T00:00:00",
          "2023-08-11T00:00:00",
          "2023-08-11T00:00:00",
          "2023-08-11T00:00:00",
          "2023-08-18T00:00:00",
          "2023-08-18T00:00:00",
          "2023-08-28T00:00:00",
          "2023-08-28T00:00:00",
          "2023-09-03T00:00:00",
          "2023-09-05T00:00:00",
          "2023-10-11T00:00:00",
          "2023-10-21T00:00:00",
          "2023-10-21T00:00:00",
          "2023-10-21T00:00:00",
          "2023-10-28T00:00:00",
          "2023-10-28T00:00:00",
          "2023-10-28T00:00:00",
          "2023-11-04T00:00:00",
          "2023-11-08T00:00:00",
          "2023-11-17T00:00:00",
          "2023-11-19T00:00:00",
          "2023-11-19T00:00:00",
          "2023-11-19T00:00:00",
          "2023-11-19T00:00:00",
          "2023-11-20T00:00:00",
          "2023-12-08T00:00:00",
          "2023-12-10T00:00:00",
          "2023-12-11T00:00:00",
          "2023-12-11T00:00:00",
          "2023-12-11T00:00:00",
          "2023-12-11T00:00:00",
          "2023-12-11T00:00:00",
          "2023-12-12T00:00:00",
          "2023-12-12T00:00:00",
          "2023-12-23T00:00:00",
          "2023-12-23T00:00:00",
          "2023-12-30T00:00:00",
          "2020-09-26T00:00:00",
          "2020-09-26T00:00:00",
          "2020-10-31T00:00:00",
          "2020-11-11T00:00:00",
          "2020-11-11T00:00:00",
          "2020-11-11T00:00:00",
          "2020-12-20T00:00:00",
          "2020-12-20T00:00:00",
          "2020-12-20T00:00:00",
          "2020-12-20T00:00:00",
          "2021-02-03T00:00:00",
          "2021-02-20T00:00:00",
          "2021-05-12T00:00:00",
          "2021-05-12T00:00:00",
          "2021-06-15T00:00:00",
          "2021-10-03T00:00:00",
          "2021-10-12T00:00:00",
          "2021-10-12T00:00:00",
          "2021-10-31T00:00:00",
          "2021-11-07T00:00:00",
          "2021-11-07T00:00:00",
          "2021-11-08T00:00:00",
          "2021-11-08T00:00:00",
          "2022-03-11T00:00:00",
          "2022-03-11T00:00:00",
          "2022-05-22T00:00:00",
          "2022-06-04T00:00:00",
          "2022-06-12T00:00:00",
          "2022-06-12T00:00:00",
          "2022-06-12T00:00:00",
          "2022-06-18T00:00:00",
          "2022-06-18T00:00:00",
          "2022-06-18T00:00:00",
          "2022-08-23T00:00:00",
          "2022-09-18T00:00:00",
          "2022-09-23T00:00:00",
          "2022-09-23T00:00:00",
          "2022-10-15T00:00:00",
          "2022-10-15T00:00:00",
          "2022-10-15T00:00:00",
          "2022-11-08T00:00:00",
          "2022-11-08T00:00:00",
          "2022-11-11T00:00:00",
          "2022-11-11T00:00:00",
          "2022-11-14T00:00:00",
          "2022-11-25T00:00:00",
          "2022-11-26T00:00:00",
          "2022-11-26T00:00:00",
          "2022-11-26T00:00:00",
          "2022-12-03T00:00:00",
          "2022-12-15T00:00:00",
          "2022-12-25T00:00:00",
          "2022-12-30T00:00:00",
          "2023-03-14T00:00:00",
          "2023-03-22T00:00:00",
          "2023-03-24T00:00:00",
          "2023-04-09T00:00:00",
          "2023-04-09T00:00:00",
          "2023-04-25T00:00:00",
          "2023-05-31T00:00:00",
          "2023-06-28T00:00:00",
          "2023-06-28T00:00:00",
          "2023-06-28T00:00:00",
          "2023-07-02T00:00:00",
          "2023-07-02T00:00:00",
          "2023-07-02T00:00:00",
          "2023-07-24T00:00:00",
          "2023-08-06T00:00:00",
          "2023-09-12T00:00:00",
          "2023-09-12T00:00:00",
          "2023-09-12T00:00:00",
          "2023-09-25T00:00:00",
          "2023-09-25T00:00:00",
          "2023-09-25T00:00:00",
          "2023-09-25T00:00:00",
          "2023-09-25T00:00:00",
          "2023-10-04T00:00:00",
          "2023-11-03T00:00:00",
          "2023-11-11T00:00:00",
          "2023-11-11T00:00:00",
          "2023-11-15T00:00:00",
          "2023-11-21T00:00:00",
          "2023-11-25T00:00:00",
          "2023-11-25T00:00:00",
          "2023-11-25T00:00:00",
          "2023-11-25T00:00:00",
          "2023-12-11T00:00:00",
          "2023-12-20T00:00:00",
          "2023-12-30T00:00:00",
          "2020-11-25T00:00:00",
          "2021-03-21T00:00:00",
          "2021-03-21T00:00:00",
          "2021-03-21T00:00:00",
          "2021-04-11T00:00:00",
          "2021-04-11T00:00:00",
          "2021-04-18T00:00:00",
          "2021-04-18T00:00:00",
          "2021-08-11T00:00:00",
          "2021-09-24T00:00:00",
          "2021-09-24T00:00:00",
          "2021-11-22T00:00:00",
          "2021-11-30T00:00:00",
          "2021-11-30T00:00:00",
          "2021-11-30T00:00:00",
          "2021-12-10T00:00:00",
          "2022-01-03T00:00:00",
          "2022-01-11T00:00:00",
          "2022-01-11T00:00:00",
          "2022-01-11T00:00:00",
          "2022-05-10T00:00:00",
          "2022-05-10T00:00:00",
          "2022-09-03T00:00:00",
          "2022-09-03T00:00:00",
          "2022-09-03T00:00:00",
          "2022-09-03T00:00:00",
          "2022-09-03T00:00:00",
          "2022-09-03T00:00:00",
          "2022-09-26T00:00:00",
          "2022-09-30T00:00:00",
          "2022-12-12T00:00:00",
          "2023-01-17T00:00:00",
          "2023-01-17T00:00:00",
          "2023-01-17T00:00:00",
          "2023-06-02T00:00:00",
          "2023-12-05T00:00:00",
          "2023-12-25T00:00:00",
          "2020-07-19T00:00:00",
          "2020-07-19T00:00:00",
          "2020-07-19T00:00:00",
          "2020-07-19T00:00:00",
          "2020-07-27T00:00:00",
          "2020-08-15T00:00:00",
          "2020-08-15T00:00:00",
          "2020-08-15T00:00:00",
          "2020-08-15T00:00:00",
          "2020-08-15T00:00:00",
          "2020-08-15T00:00:00",
          "2020-08-25T00:00:00",
          "2020-08-25T00:00:00",
          "2020-08-25T00:00:00",
          "2020-08-25T00:00:00",
          "2020-09-28T00:00:00",
          "2020-10-05T00:00:00",
          "2020-11-18T00:00:00",
          "2020-12-06T00:00:00",
          "2020-12-06T00:00:00",
          "2020-12-20T00:00:00",
          "2021-01-12T00:00:00",
          "2021-01-12T00:00:00",
          "2021-01-12T00:00:00",
          "2021-01-12T00:00:00",
          "2021-01-12T00:00:00",
          "2021-04-13T00:00:00",
          "2021-06-11T00:00:00",
          "2021-06-11T00:00:00",
          "2021-06-11T00:00:00",
          "2021-06-11T00:00:00",
          "2021-06-11T00:00:00",
          "2021-06-18T00:00:00",
          "2021-06-18T00:00:00",
          "2021-06-18T00:00:00",
          "2021-06-18T00:00:00",
          "2021-06-18T00:00:00",
          "2021-07-19T00:00:00",
          "2021-09-19T00:00:00",
          "2021-11-13T00:00:00",
          "2021-11-13T00:00:00",
          "2021-11-13T00:00:00",
          "2021-11-29T00:00:00",
          "2021-11-29T00:00:00",
          "2021-12-18T00:00:00",
          "2021-12-26T00:00:00",
          "2022-01-03T00:00:00",
          "2022-01-03T00:00:00",
          "2022-01-03T00:00:00",
          "2022-02-16T00:00:00",
          "2022-02-16T00:00:00",
          "2022-04-13T00:00:00",
          "2022-04-13T00:00:00",
          "2022-04-13T00:00:00",
          "2022-04-19T00:00:00",
          "2022-04-19T00:00:00",
          "2022-05-15T00:00:00",
          "2022-05-15T00:00:00",
          "2022-05-15T00:00:00",
          "2022-05-15T00:00:00",
          "2022-05-15T00:00:00",
          "2022-05-15T00:00:00",
          "2022-05-15T00:00:00",
          "2022-06-27T00:00:00",
          "2022-08-13T00:00:00",
          "2022-09-12T00:00:00",
          "2022-09-23T00:00:00",
          "2022-09-23T00:00:00",
          "2022-09-25T00:00:00",
          "2022-10-22T00:00:00",
          "2022-10-22T00:00:00",
          "2022-10-22T00:00:00",
          "2022-10-22T00:00:00",
          "2022-10-22T00:00:00",
          "2022-11-02T00:00:00",
          "2022-11-04T00:00:00",
          "2022-11-04T00:00:00",
          "2022-11-04T00:00:00",
          "2022-11-04T00:00:00",
          "2022-11-12T00:00:00",
          "2022-11-12T00:00:00",
          "2022-11-12T00:00:00",
          "2022-11-15T00:00:00",
          "2022-12-30T00:00:00",
          "2022-12-31T00:00:00",
          "2023-01-08T00:00:00",
          "2023-03-20T00:00:00",
          "2023-05-12T00:00:00",
          "2023-05-12T00:00:00",
          "2023-05-12T00:00:00",
          "2023-06-11T00:00:00",
          "2023-06-17T00:00:00",
          "2023-07-27T00:00:00",
          "2023-07-27T00:00:00",
          "2023-07-30T00:00:00",
          "2023-08-14T00:00:00",
          "2023-09-03T00:00:00",
          "2023-09-03T00:00:00",
          "2023-09-03T00:00:00",
          "2023-09-03T00:00:00",
          "2023-09-08T00:00:00",
          "2023-09-08T00:00:00",
          "2023-09-08T00:00:00",
          "2023-09-12T00:00:00",
          "2023-09-25T00:00:00",
          "2023-09-25T00:00:00",
          "2023-10-29T00:00:00",
          "2023-10-29T00:00:00",
          "2023-10-29T00:00:00",
          "2023-11-21T00:00:00",
          "2023-11-21T00:00:00",
          "2023-12-03T00:00:00",
          "2023-12-03T00:00:00",
          "2023-12-09T00:00:00",
          "2023-12-09T00:00:00",
          "2023-12-09T00:00:00",
          "2023-12-09T00:00:00",
          "2023-12-09T00:00:00",
          "2023-12-09T00:00:00",
          "2023-12-09T00:00:00",
          "2023-12-09T00:00:00",
          "2023-12-09T00:00:00",
          "2023-12-10T00:00:00",
          "2023-12-10T00:00:00",
          "2023-12-11T00:00:00",
          "2023-12-11T00:00:00",
          "2023-12-18T00:00:00",
          "2023-12-18T00:00:00",
          "2020-09-13T00:00:00",
          "2020-09-13T00:00:00",
          "2020-10-14T00:00:00",
          "2020-10-14T00:00:00",
          "2020-11-23T00:00:00",
          "2020-11-23T00:00:00",
          "2020-11-23T00:00:00",
          "2020-11-29T00:00:00",
          "2020-11-30T00:00:00",
          "2020-11-30T00:00:00",
          "2020-12-12T00:00:00",
          "2021-01-13T00:00:00",
          "2021-01-13T00:00:00",
          "2021-01-13T00:00:00",
          "2021-04-17T00:00:00",
          "2021-04-17T00:00:00",
          "2021-04-17T00:00:00",
          "2021-06-05T00:00:00",
          "2021-06-11T00:00:00",
          "2021-06-11T00:00:00",
          "2021-06-11T00:00:00",
          "2021-06-11T00:00:00",
          "2021-06-11T00:00:00",
          "2021-06-11T00:00:00",
          "2021-06-11T00:00:00",
          "2021-06-11T00:00:00",
          "2021-06-16T00:00:00",
          "2021-07-17T00:00:00",
          "2021-07-20T00:00:00",
          "2021-07-20T00:00:00",
          "2021-07-20T00:00:00",
          "2021-07-20T00:00:00",
          "2021-07-20T00:00:00",
          "2021-07-20T00:00:00",
          "2021-09-27T00:00:00",
          "2021-10-12T00:00:00",
          "2021-11-08T00:00:00",
          "2021-11-13T00:00:00",
          "2021-11-21T00:00:00",
          "2021-11-21T00:00:00",
          "2021-11-21T00:00:00",
          "2021-11-21T00:00:00",
          "2021-12-12T00:00:00",
          "2021-12-12T00:00:00",
          "2021-12-21T00:00:00",
          "2021-12-21T00:00:00",
          "2022-02-12T00:00:00",
          "2022-02-12T00:00:00",
          "2022-03-15T00:00:00",
          "2022-03-15T00:00:00",
          "2022-03-15T00:00:00",
          "2022-03-19T00:00:00",
          "2022-04-11T00:00:00",
          "2022-04-11T00:00:00",
          "2022-04-15T00:00:00",
          "2022-04-18T00:00:00",
          "2022-05-13T00:00:00",
          "2022-05-23T00:00:00",
          "2022-06-07T00:00:00",
          "2022-07-04T00:00:00",
          "2022-07-15T00:00:00",
          "2022-09-04T00:00:00",
          "2022-09-21T00:00:00",
          "2022-09-21T00:00:00",
          "2022-09-21T00:00:00",
          "2022-11-12T00:00:00",
          "2022-11-12T00:00:00",
          "2022-11-26T00:00:00",
          "2022-11-26T00:00:00",
          "2022-11-26T00:00:00",
          "2022-12-25T00:00:00",
          "2022-12-26T00:00:00",
          "2022-12-27T00:00:00",
          "2022-12-27T00:00:00",
          "2023-02-27T00:00:00",
          "2023-02-27T00:00:00",
          "2023-02-27T00:00:00",
          "2023-03-26T00:00:00",
          "2023-04-01T00:00:00",
          "2023-04-01T00:00:00",
          "2023-04-01T00:00:00",
          "2023-04-30T00:00:00",
          "2023-05-01T00:00:00",
          "2023-05-01T00:00:00",
          "2023-06-04T00:00:00",
          "2023-06-04T00:00:00",
          "2023-06-04T00:00:00",
          "2023-08-13T00:00:00",
          "2023-08-13T00:00:00",
          "2023-08-13T00:00:00",
          "2023-09-03T00:00:00",
          "2023-09-11T00:00:00",
          "2023-09-11T00:00:00",
          "2023-09-13T00:00:00",
          "2023-09-16T00:00:00",
          "2023-09-16T00:00:00",
          "2023-09-19T00:00:00",
          "2023-09-19T00:00:00",
          "2023-09-19T00:00:00",
          "2023-09-19T00:00:00",
          "2023-09-19T00:00:00",
          "2023-09-19T00:00:00",
          "2023-09-19T00:00:00",
          "2023-09-19T00:00:00",
          "2023-09-20T00:00:00",
          "2023-09-23T00:00:00",
          "2023-09-23T00:00:00",
          "2023-09-23T00:00:00",
          "2023-09-23T00:00:00",
          "2023-09-25T00:00:00",
          "2023-10-18T00:00:00",
          "2023-10-18T00:00:00",
          "2023-10-23T00:00:00",
          "2023-10-23T00:00:00",
          "2023-11-10T00:00:00",
          "2023-11-12T00:00:00",
          "2023-11-13T00:00:00",
          "2023-12-03T00:00:00",
          "2023-12-03T00:00:00",
          "2023-12-03T00:00:00",
          "2023-12-15T00:00:00",
          "2023-12-15T00:00:00",
          "2023-12-15T00:00:00",
          "2023-12-15T00:00:00",
          "2023-12-16T00:00:00",
          "2023-12-24T00:00:00",
          "2020-08-25T00:00:00",
          "2020-08-25T00:00:00",
          "2020-09-01T00:00:00",
          "2020-09-17T00:00:00",
          "2020-09-17T00:00:00",
          "2020-09-17T00:00:00",
          "2020-09-17T00:00:00",
          "2020-09-17T00:00:00",
          "2020-09-17T00:00:00",
          "2020-09-27T00:00:00",
          "2020-09-27T00:00:00",
          "2020-10-11T00:00:00",
          "2020-10-11T00:00:00",
          "2020-11-12T00:00:00",
          "2020-11-12T00:00:00",
          "2020-11-24T00:00:00",
          "2020-11-24T00:00:00",
          "2020-12-02T00:00:00",
          "2020-12-02T00:00:00",
          "2020-12-02T00:00:00",
          "2021-02-21T00:00:00",
          "2021-03-06T00:00:00",
          "2021-03-06T00:00:00",
          "2021-04-02T00:00:00",
          "2021-04-13T00:00:00",
          "2021-04-25T00:00:00",
          "2021-05-12T00:00:00",
          "2021-05-29T00:00:00",
          "2021-05-29T00:00:00",
          "2021-05-29T00:00:00",
          "2021-06-22T00:00:00",
          "2021-07-26T00:00:00",
          "2021-07-30T00:00:00",
          "2021-07-30T00:00:00",
          "2021-07-30T00:00:00",
          "2021-09-07T00:00:00",
          "2021-09-22T00:00:00",
          "2021-09-22T00:00:00",
          "2021-09-25T00:00:00",
          "2021-10-23T00:00:00",
          "2021-10-23T00:00:00",
          "2021-11-28T00:00:00",
          "2021-11-28T00:00:00",
          "2021-11-28T00:00:00",
          "2021-11-28T00:00:00",
          "2021-11-28T00:00:00",
          "2021-11-28T00:00:00",
          "2022-03-25T00:00:00",
          "2022-04-26T00:00:00",
          "2022-04-26T00:00:00",
          "2022-04-26T00:00:00",
          "2022-05-10T00:00:00",
          "2022-07-09T00:00:00",
          "2022-07-09T00:00:00",
          "2022-07-09T00:00:00",
          "2022-07-09T00:00:00",
          "2022-07-15T00:00:00",
          "2022-07-16T00:00:00",
          "2022-07-16T00:00:00",
          "2022-07-17T00:00:00",
          "2022-08-10T00:00:00",
          "2022-08-10T00:00:00",
          "2022-08-10T00:00:00",
          "2022-08-27T00:00:00",
          "2022-08-27T00:00:00",
          "2022-09-02T00:00:00",
          "2022-09-02T00:00:00",
          "2022-09-02T00:00:00",
          "2022-09-02T00:00:00",
          "2022-09-02T00:00:00",
          "2022-09-02T00:00:00",
          "2022-09-03T00:00:00",
          "2022-09-03T00:00:00",
          "2022-09-03T00:00:00",
          "2022-09-03T00:00:00",
          "2022-09-03T00:00:00",
          "2022-09-03T00:00:00",
          "2022-09-09T00:00:00",
          "2022-10-14T00:00:00",
          "2022-10-14T00:00:00",
          "2022-10-14T00:00:00",
          "2022-10-14T00:00:00",
          "2022-10-14T00:00:00",
          "2022-11-25T00:00:00",
          "2022-11-25T00:00:00",
          "2022-11-25T00:00:00",
          "2022-11-25T00:00:00",
          "2022-11-25T00:00:00",
          "2022-11-25T00:00:00",
          "2022-11-27T00:00:00",
          "2022-11-27T00:00:00",
          "2022-11-27T00:00:00",
          "2022-11-27T00:00:00",
          "2022-12-26T00:00:00",
          "2022-12-26T00:00:00",
          "2022-12-26T00:00:00",
          "2023-01-20T00:00:00",
          "2023-01-20T00:00:00",
          "2023-01-20T00:00:00",
          "2023-01-20T00:00:00",
          "2023-01-21T00:00:00",
          "2023-03-03T00:00:00",
          "2023-05-16T00:00:00",
          "2023-05-16T00:00:00",
          "2023-05-16T00:00:00",
          "2023-05-29T00:00:00",
          "2023-05-29T00:00:00",
          "2023-06-16T00:00:00",
          "2023-06-16T00:00:00",
          "2023-06-27T00:00:00",
          "2023-06-27T00:00:00",
          "2023-06-30T00:00:00",
          "2023-06-30T00:00:00",
          "2023-06-30T00:00:00",
          "2023-08-26T00:00:00",
          "2023-08-28T00:00:00",
          "2023-08-28T00:00:00",
          "2023-08-28T00:00:00",
          "2023-08-28T00:00:00",
          "2023-08-28T00:00:00",
          "2023-08-28T00:00:00",
          "2023-08-28T00:00:00",
          "2023-08-28T00:00:00",
          "2023-08-30T00:00:00",
          "2023-09-06T00:00:00",
          "2023-09-08T00:00:00",
          "2023-09-12T00:00:00",
          "2023-09-12T00:00:00",
          "2023-09-23T00:00:00",
          "2023-09-23T00:00:00",
          "2023-09-23T00:00:00",
          "2023-09-30T00:00:00",
          "2023-09-30T00:00:00",
          "2023-10-02T00:00:00",
          "2023-10-02T00:00:00",
          "2023-10-02T00:00:00",
          "2023-10-02T00:00:00",
          "2023-10-22T00:00:00",
          "2023-11-15T00:00:00",
          "2023-11-25T00:00:00",
          "2023-12-05T00:00:00",
          "2023-12-11T00:00:00",
          "2023-12-25T00:00:00",
          "2023-12-28T00:00:00",
          "2023-12-28T00:00:00"
         ],
         "xaxis": "x",
         "y": [
          "AT&T",
          "AT&T",
          "AT&T",
          "AT&T",
          "AT&T",
          "AT&T",
          "AT&T",
          "AT&T",
          "AT&T",
          "AT&T",
          "AT&T",
          "AT&T",
          "AT&T",
          "AT&T",
          "AT&T",
          "AT&T",
          "AT&T",
          "AT&T",
          "AT&T",
          "AT&T",
          "AT&T",
          "AT&T",
          "AT&T",
          "AT&T",
          "AT&T",
          "AT&T",
          "AT&T",
          "AT&T",
          "AT&T",
          "AT&T",
          "AT&T",
          "AT&T",
          "AT&T",
          "AT&T",
          "AT&T",
          "AT&T",
          "AT&T",
          "AT&T",
          "AT&T",
          "AT&T",
          "AT&T",
          "AT&T",
          "AT&T",
          "AT&T",
          "AT&T",
          "AT&T",
          "AT&T",
          "AT&T",
          "AT&T",
          "AT&T",
          "AT&T",
          "AT&T",
          "AT&T",
          "AT&T",
          "AT&T",
          "AT&T",
          "AT&T",
          "AT&T",
          "AT&T",
          "AT&T",
          "AT&T",
          "AT&T",
          "AT&T",
          "AT&T",
          "AT&T",
          "AT&T",
          "AT&T",
          "AT&T",
          "AT&T",
          "AT&T",
          "AT&T",
          "AT&T",
          "AT&T",
          "AT&T",
          "AT&T",
          "AT&T",
          "AT&T",
          "AT&T",
          "AT&T",
          "AT&T",
          "AT&T",
          "AT&T",
          "AT&T",
          "AT&T",
          "AT&T",
          "AT&T",
          "AT&T",
          "AT&T",
          "AT&T",
          "AT&T",
          "AT&T",
          "AT&T",
          "AT&T",
          "AT&T",
          "AT&T",
          "AT&T",
          "AT&T",
          "AT&T",
          "AT&T",
          "AT&T",
          "AT&T",
          "AT&T",
          "AT&T",
          "AT&T",
          "AT&T",
          "AT&T",
          "AT&T",
          "AT&T",
          "AT&T",
          "AT&T",
          "AT&T",
          "AT&T",
          "AT&T",
          "AT&T",
          "AT&T",
          "AT&T",
          "AT&T",
          "AT&T",
          "AT&T",
          "AT&T",
          "AT&T",
          "AT&T",
          "AT&T",
          "AT&T",
          "AT&T",
          "AT&T",
          "AT&T",
          "AT&T",
          "AT&T",
          "AT&T",
          "AT&T",
          "AT&T",
          "AT&T",
          "AT&T",
          "AT&T",
          "AT&T",
          "AT&T",
          "AT&T",
          "AT&T",
          "AT&T",
          "Abbott Laboratories",
          "Abbott Laboratories",
          "Abbott Laboratories",
          "Abbott Laboratories",
          "Abbott Laboratories",
          "Abbott Laboratories",
          "Abbott Laboratories",
          "Abbott Laboratories",
          "Abbott Laboratories",
          "Abbott Laboratories",
          "Abbott Laboratories",
          "Abbott Laboratories",
          "Abbott Laboratories",
          "Abbott Laboratories",
          "Abbott Laboratories",
          "Abbott Laboratories",
          "Abbott Laboratories",
          "Abbott Laboratories",
          "Abbott Laboratories",
          "Abbott Laboratories",
          "Abbott Laboratories",
          "Abbott Laboratories",
          "Abbott Laboratories",
          "Abbott Laboratories",
          "Abbott Laboratories",
          "Abbott Laboratories",
          "Abbott Laboratories",
          "Abbott Laboratories",
          "Abbott Laboratories",
          "Abbott Laboratories",
          "Abbott Laboratories",
          "Abbott Laboratories",
          "Abbott Laboratories",
          "Abbott Laboratories",
          "Abbott Laboratories",
          "Abbott Laboratories",
          "Abbott Laboratories",
          "Abbott Laboratories",
          "Abbott Laboratories",
          "Abbott Laboratories",
          "Abbott Laboratories",
          "Abbott Laboratories",
          "Abbott Laboratories",
          "Abbott Laboratories",
          "Abbott Laboratories",
          "Abbott Laboratories",
          "Abbott Laboratories",
          "Abbott Laboratories",
          "Abbott Laboratories",
          "Abbott Laboratories",
          "Abbott Laboratories",
          "Abbott Laboratories",
          "Abbott Laboratories",
          "Abbott Laboratories",
          "Abbott Laboratories",
          "Abbott Laboratories",
          "Abbott Laboratories",
          "Abbott Laboratories",
          "Aetna",
          "Aetna",
          "Aetna",
          "Aetna",
          "Aetna",
          "Aetna",
          "Aetna",
          "Aetna",
          "Aetna",
          "Aetna",
          "Aetna",
          "Aetna",
          "Aetna",
          "Aetna",
          "Aetna",
          "Aetna",
          "Aetna",
          "Aetna",
          "Aetna",
          "Aetna",
          "Aetna",
          "Aetna",
          "Aetna",
          "Aetna",
          "Aetna",
          "Aetna",
          "Aetna",
          "Aetna",
          "Aetna",
          "Aetna",
          "Aetna",
          "Aetna",
          "Aetna",
          "Aetna",
          "Aetna",
          "Aetna",
          "Aetna",
          "Aetna",
          "Aetna",
          "Aetna",
          "Aetna",
          "Aetna",
          "Aetna",
          "Aetna",
          "Aetna",
          "Aetna",
          "Aetna",
          "Aetna",
          "Aetna",
          "Aetna",
          "Aetna",
          "Aetna",
          "Aetna",
          "Aetna",
          "Aetna",
          "Aetna",
          "Aetna",
          "Aetna",
          "Aetna",
          "Aetna",
          "Aetna",
          "Aetna",
          "Aetna",
          "Aetna",
          "Aetna",
          "Aetna",
          "Aetna",
          "Aetna",
          "Aetna",
          "Aetna",
          "Aetna",
          "Aetna",
          "Aetna",
          "Aetna",
          "Aetna",
          "Aetna",
          "Aetna",
          "Aetna",
          "Aetna",
          "Aetna",
          "Aetna",
          "Aetna",
          "Aetna",
          "Aetna",
          "Aetna",
          "Aetna",
          "Aetna",
          "Aetna",
          "Aetna",
          "Aetna",
          "Aetna",
          "Aetna",
          "Aetna",
          "Aetna",
          "Aetna",
          "Aetna",
          "Aetna",
          "Aetna",
          "Aetna",
          "Aetna",
          "Aetna",
          "Aetna",
          "Aetna",
          "Aetna",
          "Aetna",
          "Aetna",
          "Aetna",
          "Aetna",
          "Aetna",
          "Aetna",
          "Aetna",
          "Aetna",
          "Aetna",
          "Aetna",
          "Aetna",
          "Aetna",
          "Aetna",
          "Aetna",
          "Aetna",
          "Aetna",
          "Aetna",
          "Aetna",
          "Aetna",
          "Aetna",
          "Aetna",
          "Aetna",
          "Aetna",
          "Aetna",
          "Aetna",
          "Aetna",
          "Aetna",
          "Aetna",
          "Airbus",
          "Airbus",
          "Airbus",
          "Airbus",
          "Airbus",
          "Airbus",
          "Airbus",
          "Airbus",
          "Airbus",
          "Airbus",
          "Airbus",
          "Airbus",
          "Airbus",
          "Airbus",
          "Airbus",
          "Airbus",
          "Airbus",
          "Airbus",
          "Airbus",
          "Airbus",
          "Airbus",
          "Airbus",
          "Airbus",
          "Airbus",
          "Airbus",
          "Airbus",
          "Airbus",
          "Airbus",
          "Airbus",
          "Airbus",
          "Airbus",
          "Airbus",
          "Airbus",
          "Airbus",
          "Airbus",
          "Airbus",
          "Airbus",
          "Airbus",
          "Airbus",
          "Airbus",
          "Airbus",
          "Airbus",
          "Airbus",
          "Airbus",
          "Airbus",
          "Airbus",
          "Airbus",
          "Airbus",
          "Airbus",
          "Airbus",
          "Airbus",
          "Airbus",
          "Airbus",
          "Airbus",
          "Airbus",
          "Airbus",
          "Airbus",
          "Airbus",
          "Airbus",
          "Airbus",
          "Airbus",
          "Airbus",
          "Airbus",
          "Airbus",
          "Airbus",
          "Airbus",
          "Airbus",
          "Airbus",
          "Airbus",
          "Airbus",
          "Airbus",
          "Airbus",
          "Airbus",
          "Airbus",
          "Airbus",
          "Airbus",
          "Airbus",
          "Airbus",
          "Airbus",
          "Airbus",
          "Airbus",
          "Airbus",
          "Airbus",
          "Airbus",
          "Airbus",
          "Airbus",
          "Airbus",
          "Airbus",
          "Airbus",
          "Airbus",
          "Airbus",
          "Airbus",
          "Airbus",
          "Airbus",
          "Airbus",
          "Airbus",
          "Airbus",
          "Airbus",
          "Airbus",
          "Airbus",
          "Airbus",
          "Airbus",
          "Airbus",
          "Airbus",
          "Airbus",
          "Airbus",
          "Airbus",
          "Airbus",
          "Airbus",
          "Airbus",
          "Airbus",
          "Allianz",
          "Allianz",
          "Allianz",
          "Allianz",
          "Allianz",
          "Allianz",
          "Allianz",
          "Allianz",
          "Allianz",
          "Allianz",
          "Allianz",
          "Allianz",
          "Allianz",
          "Allianz",
          "Allianz",
          "Allianz",
          "Allianz",
          "Allianz",
          "Allianz",
          "Allianz",
          "Allianz",
          "Allianz",
          "Allianz",
          "Allianz",
          "Allianz",
          "Allianz",
          "Allianz",
          "Allianz",
          "Allianz",
          "Allianz",
          "Allianz",
          "Allianz",
          "Allianz",
          "Allianz",
          "Allianz",
          "Allianz",
          "Allianz",
          "Allianz",
          "Allianz",
          "Allianz",
          "Allianz",
          "Allianz",
          "Allianz",
          "Allianz",
          "Allianz",
          "Allianz",
          "Allianz",
          "Allianz",
          "Allianz",
          "Allianz",
          "Allianz",
          "Allianz",
          "Allianz",
          "Allianz",
          "Allianz",
          "Allianz",
          "Allianz",
          "Allianz",
          "Allianz",
          "Allianz",
          "Allianz",
          "Allianz",
          "Allianz",
          "Allianz",
          "Allianz",
          "Allianz",
          "Allianz",
          "Allianz",
          "Allianz",
          "Allianz",
          "Allianz",
          "Allianz",
          "Allianz",
          "Allianz",
          "Allianz",
          "Allianz",
          "Allianz",
          "Allianz",
          "Allianz",
          "Allianz",
          "Allianz",
          "Allianz",
          "Allianz",
          "Allianz",
          "Allianz",
          "Allianz",
          "Allianz",
          "Allianz",
          "Allianz",
          "Allianz",
          "Allianz",
          "Allianz",
          "Allianz",
          "Allianz",
          "Allianz",
          "Allianz",
          "Allianz",
          "Allianz",
          "Allianz",
          "Allianz",
          "Allianz",
          "Allianz",
          "Allianz",
          "Allianz",
          "Allianz",
          "Allianz",
          "Allianz",
          "Allianz",
          "Allianz",
          "Allianz",
          "Allianz",
          "Allianz",
          "Allianz",
          "Allianz",
          "Allianz",
          "Allianz",
          "Allianz",
          "Allianz",
          "Allianz",
          "Allianz",
          "Allianz",
          "Allianz",
          "Allianz",
          "Allianz",
          "Allianz",
          "Allianz",
          "Allianz",
          "Allianz",
          "Allianz",
          "Allianz",
          "Allianz",
          "Allianz",
          "Allianz",
          "Allianz",
          "Allianz",
          "Allianz",
          "Allianz",
          "Allianz",
          "Allianz",
          "Allianz",
          "Allianz",
          "Allianz",
          "Allianz",
          "Allianz",
          "Allianz",
          "Allianz",
          "Allianz",
          "Allianz",
          "Allianz",
          "Allianz",
          "Allianz",
          "Allianz",
          "Allianz",
          "Allianz",
          "Allianz",
          "Allianz",
          "Allianz",
          "Allianz",
          "Allianz",
          "Allianz",
          "Allianz",
          "Allianz",
          "Allianz",
          "Allianz",
          "Allianz",
          "Allianz",
          "Allianz",
          "Allianz",
          "Allianz",
          "Allianz",
          "Allianz",
          "Allianz",
          "Allianz",
          "Allianz",
          "Allianz",
          "Allianz",
          "Allianz",
          "Allianz",
          "Allianz",
          "Allstate",
          "Allstate",
          "Allstate",
          "Allstate",
          "Allstate",
          "Allstate",
          "Allstate",
          "Allstate",
          "Allstate",
          "Allstate",
          "Allstate",
          "Allstate",
          "Allstate",
          "Allstate",
          "Allstate",
          "Allstate",
          "Allstate",
          "Allstate",
          "Allstate",
          "Allstate",
          "Allstate",
          "Allstate",
          "Allstate",
          "Allstate",
          "Allstate",
          "Allstate",
          "Allstate",
          "Allstate",
          "Allstate",
          "Allstate",
          "Allstate",
          "Allstate",
          "Allstate",
          "Allstate",
          "Allstate",
          "Allstate",
          "Allstate",
          "Allstate",
          "Allstate",
          "Allstate",
          "Allstate",
          "Allstate",
          "Allstate",
          "Allstate",
          "Allstate",
          "Allstate",
          "Allstate",
          "Allstate",
          "Allstate",
          "Allstate",
          "Allstate",
          "Allstate",
          "Allstate",
          "Allstate",
          "Allstate",
          "Allstate",
          "Allstate",
          "Allstate",
          "Allstate",
          "Allstate",
          "Allstate",
          "Allstate",
          "Allstate",
          "Allstate",
          "Allstate",
          "Allstate",
          "Allstate",
          "Allstate",
          "Allstate",
          "Allstate",
          "Allstate",
          "Allstate",
          "Allstate",
          "Allstate",
          "Allstate",
          "Allstate",
          "Allstate",
          "Allstate",
          "Allstate",
          "Allstate",
          "Allstate",
          "Allstate",
          "Allstate",
          "Allstate",
          "Allstate",
          "Allstate",
          "Allstate",
          "Allstate",
          "Allstate",
          "Alphabet",
          "Alphabet",
          "Alphabet",
          "Alphabet",
          "Alphabet",
          "Alphabet",
          "Alphabet",
          "Alphabet",
          "Alphabet",
          "Alphabet",
          "Alphabet",
          "Alphabet",
          "Alphabet",
          "Alphabet",
          "Alphabet",
          "Alphabet",
          "Alphabet",
          "Alphabet",
          "Alphabet",
          "Alphabet",
          "Alphabet",
          "Alphabet",
          "Alphabet",
          "Alphabet",
          "Alphabet",
          "Alphabet",
          "Alphabet",
          "Alphabet",
          "Alphabet",
          "Alphabet",
          "Alphabet",
          "Alphabet",
          "Alphabet",
          "Alphabet",
          "Alphabet",
          "Alphabet",
          "Alphabet",
          "Amazon",
          "Amazon",
          "Amazon",
          "Amazon",
          "Amazon",
          "Amazon",
          "Amazon",
          "Amazon",
          "Amazon",
          "Amazon",
          "Amazon",
          "Amazon",
          "Amazon",
          "Amazon",
          "Amazon",
          "Amazon",
          "Amazon",
          "Amazon",
          "Amazon",
          "Amazon",
          "Amazon",
          "Amazon",
          "Amazon",
          "Amazon",
          "Amazon",
          "Amazon",
          "Amazon",
          "Amazon",
          "Amazon",
          "Amazon",
          "Amazon",
          "Amazon",
          "Amazon",
          "Amazon",
          "Amazon",
          "Amazon",
          "Amazon",
          "Amazon",
          "Amazon",
          "Amazon",
          "Amazon",
          "Amazon",
          "Amazon",
          "Amazon",
          "Amazon",
          "Amazon",
          "Amazon",
          "Amazon",
          "Amazon",
          "Amazon",
          "Amazon",
          "Amazon",
          "Amazon",
          "Amazon",
          "Amazon",
          "Amazon",
          "Amazon",
          "Amazon",
          "Amazon",
          "Amazon",
          "Amazon",
          "Amazon",
          "Amazon",
          "Amazon",
          "Amazon",
          "Amazon",
          "Amazon",
          "Amazon",
          "Amazon",
          "Amazon",
          "Amazon",
          "Amazon",
          "Amazon",
          "Amazon",
          "Amazon",
          "Amazon",
          "Amazon",
          "Amazon",
          "Amazon",
          "Amazon",
          "Amazon",
          "Amazon",
          "Amazon",
          "Amazon",
          "Amazon",
          "Amazon",
          "Amazon",
          "Amazon",
          "Amazon",
          "Amazon",
          "Amazon",
          "Amazon",
          "Amazon",
          "Amazon",
          "Amazon",
          "Amazon",
          "Amazon",
          "Amazon",
          "Amazon",
          "Amazon",
          "Amazon",
          "Amazon",
          "Amazon",
          "Amazon",
          "Amazon",
          "Amazon",
          "Amazon",
          "Amazon",
          "Amazon",
          "Amazon",
          "Amazon",
          "Amazon",
          "Amazon",
          "Amazon",
          "Amazon",
          "Amazon",
          "Amazon",
          "Amazon",
          "Amazon",
          "Amazon",
          "Amazon",
          "Amazon",
          "Amazon",
          "Amazon",
          "Amazon",
          "Amazon",
          "Amazon",
          "Amazon",
          "American Express",
          "American Express",
          "American Express",
          "American Express",
          "American Express",
          "American Express",
          "American Express",
          "American Express",
          "American Express",
          "American Express",
          "American Express",
          "American Express",
          "American Express",
          "American Express",
          "American Express",
          "American Express",
          "American Express",
          "American Express",
          "American Express",
          "American Express",
          "American Express",
          "American Express",
          "American Express",
          "American Express",
          "American Express",
          "American Express",
          "American Express",
          "American Express",
          "American Express",
          "American Express",
          "American Express",
          "American Express",
          "American Express",
          "American Express",
          "American Express",
          "American Express",
          "American Express",
          "American Express",
          "American Express",
          "American Express",
          "American Express",
          "American Express",
          "American Express",
          "American Express",
          "American Express",
          "American Express",
          "American Express",
          "American Express",
          "American Express",
          "American Express",
          "American Express",
          "American Express",
          "American Express",
          "American Express",
          "American Express",
          "American Express",
          "American Express",
          "American Express",
          "American Express",
          "American Express",
          "American Express",
          "American Express",
          "American Express",
          "American Express",
          "American Express",
          "American Express",
          "American Express",
          "American Express",
          "American Express",
          "American Express",
          "American Express",
          "American Express",
          "American Express",
          "American Express",
          "American Express",
          "American Express",
          "American Express",
          "American Express",
          "American Express",
          "American Express",
          "American Express",
          "American Express",
          "American Express",
          "American Express",
          "American Express",
          "American Express",
          "American Express",
          "American Express",
          "American Express",
          "American Express",
          "American Express",
          "American Express",
          "American Express",
          "American Express",
          "American Express",
          "American Express",
          "American Express",
          "American Express",
          "American Express",
          "American Express",
          "American Express",
          "American Express",
          "American Express",
          "American Express",
          "American Express",
          "American Express",
          "American Express",
          "American Express",
          "American Express",
          "American Express",
          "American Express",
          "American Express",
          "American Express",
          "American Express",
          "American Express",
          "American Express",
          "American Express",
          "American Express",
          "American Express",
          "American Express",
          "American Express",
          "American Express",
          "American Express",
          "American Express",
          "American Express",
          "American Express",
          "AmerisourceBergen",
          "AmerisourceBergen",
          "AmerisourceBergen",
          "AmerisourceBergen",
          "AmerisourceBergen",
          "AmerisourceBergen",
          "AmerisourceBergen",
          "AmerisourceBergen",
          "AmerisourceBergen",
          "AmerisourceBergen",
          "AmerisourceBergen",
          "AmerisourceBergen",
          "AmerisourceBergen",
          "AmerisourceBergen",
          "AmerisourceBergen",
          "AmerisourceBergen",
          "AmerisourceBergen",
          "AmerisourceBergen",
          "AmerisourceBergen",
          "AmerisourceBergen",
          "AmerisourceBergen",
          "AmerisourceBergen",
          "AmerisourceBergen",
          "AmerisourceBergen",
          "AmerisourceBergen",
          "AmerisourceBergen",
          "AmerisourceBergen",
          "AmerisourceBergen",
          "AmerisourceBergen",
          "AmerisourceBergen",
          "AmerisourceBergen",
          "AmerisourceBergen",
          "AmerisourceBergen",
          "AmerisourceBergen",
          "AmerisourceBergen",
          "AmerisourceBergen",
          "AmerisourceBergen",
          "AmerisourceBergen",
          "AmerisourceBergen",
          "AmerisourceBergen",
          "AmerisourceBergen",
          "AmerisourceBergen",
          "AmerisourceBergen",
          "AmerisourceBergen",
          "AmerisourceBergen",
          "AmerisourceBergen",
          "AmerisourceBergen",
          "AmerisourceBergen",
          "AmerisourceBergen",
          "AmerisourceBergen",
          "AmerisourceBergen",
          "AmerisourceBergen",
          "AmerisourceBergen",
          "AmerisourceBergen",
          "AmerisourceBergen",
          "AmerisourceBergen",
          "AmerisourceBergen",
          "AmerisourceBergen",
          "AmerisourceBergen",
          "AmerisourceBergen",
          "AmerisourceBergen",
          "AmerisourceBergen",
          "AmerisourceBergen",
          "AmerisourceBergen",
          "AmerisourceBergen",
          "AmerisourceBergen",
          "AmerisourceBergen",
          "AmerisourceBergen",
          "AmerisourceBergen",
          "AmerisourceBergen",
          "AmerisourceBergen",
          "AmerisourceBergen",
          "AmerisourceBergen",
          "AmerisourceBergen",
          "AmerisourceBergen",
          "AmerisourceBergen",
          "AmerisourceBergen",
          "AmerisourceBergen",
          "AmerisourceBergen",
          "AmerisourceBergen",
          "AmerisourceBergen",
          "AmerisourceBergen",
          "AmerisourceBergen",
          "AmerisourceBergen",
          "AmerisourceBergen",
          "AmerisourceBergen",
          "AmerisourceBergen",
          "AmerisourceBergen",
          "AmerisourceBergen",
          "AmerisourceBergen",
          "AmerisourceBergen",
          "AmerisourceBergen",
          "AmerisourceBergen",
          "AmerisourceBergen",
          "AmerisourceBergen",
          "AmerisourceBergen",
          "AmerisourceBergen",
          "AmerisourceBergen",
          "AmerisourceBergen",
          "AmerisourceBergen",
          "AmerisourceBergen",
          "AmerisourceBergen",
          "AmerisourceBergen",
          "AmerisourceBergen",
          "AmerisourceBergen",
          "AmerisourceBergen",
          "AmerisourceBergen",
          "AmerisourceBergen",
          "AmerisourceBergen",
          "AmerisourceBergen",
          "AmerisourceBergen",
          "AmerisourceBergen",
          "AmerisourceBergen",
          "AmerisourceBergen",
          "AmerisourceBergen",
          "AmerisourceBergen",
          "AmerisourceBergen",
          "AmerisourceBergen",
          "AmerisourceBergen",
          "AmerisourceBergen",
          "AmerisourceBergen",
          "AmerisourceBergen",
          "AmerisourceBergen",
          "AmerisourceBergen",
          "AmerisourceBergen",
          "AmerisourceBergen",
          "AmerisourceBergen",
          "AmerisourceBergen",
          "AmerisourceBergen",
          "AmerisourceBergen",
          "AmerisourceBergen",
          "AmerisourceBergen",
          "AmerisourceBergen",
          "AmerisourceBergen",
          "AmerisourceBergen",
          "AmerisourceBergen",
          "AmerisourceBergen",
          "AmerisourceBergen",
          "AmerisourceBergen",
          "AmerisourceBergen",
          "AmerisourceBergen",
          "AmerisourceBergen",
          "AmerisourceBergen",
          "AmerisourceBergen",
          "AmerisourceBergen"
         ],
         "yaxis": "y"
        },
        {
         "customdata": [
          [
           52,
           8
          ],
          [
           52,
           9
          ],
          [
           64,
           10
          ],
          [
           52,
           4
          ],
          [
           79,
           5
          ],
          [
           37,
           9
          ],
          [
           36,
           11
          ],
          [
           45,
           12
          ],
          [
           87,
           13
          ],
          [
           75,
           2
          ],
          [
           75,
           3
          ],
          [
           75,
           4
          ],
          [
           75,
           5
          ],
          [
           89,
           6
          ],
          [
           47,
           4
          ],
          [
           47,
           5
          ],
          [
           38,
           6
          ]
         ],
         "hovertemplate": "lifecycle_stage=Growing<br>Order Date=%{x}<br>Customer=%{y}<br>Interaction #=%{customdata[1]}<br>customer_journey_day=%{customdata[0]}<extra></extra>",
         "legendgroup": "Growing",
         "marker": {
          "color": "#ab63fa",
          "size": [
           8,
           9,
           10,
           4,
           5,
           9,
           11,
           12,
           13,
           2,
           3,
           4,
           5,
           6,
           4,
           5,
           6
          ],
          "sizemode": "area",
          "sizeref": 0.48,
          "symbol": "circle"
         },
         "mode": "markers",
         "name": "Growing",
         "showlegend": true,
         "type": "scattergl",
         "x": [
          "2020-05-22T00:00:00",
          "2020-05-22T00:00:00",
          "2020-06-03T00:00:00",
          "2020-03-03T00:00:00",
          "2020-03-30T00:00:00",
          "2020-04-23T00:00:00",
          "2020-03-26T00:00:00",
          "2020-04-04T00:00:00",
          "2020-05-16T00:00:00",
          "2020-08-08T00:00:00",
          "2020-08-08T00:00:00",
          "2020-08-08T00:00:00",
          "2020-08-08T00:00:00",
          "2020-08-22T00:00:00",
          "2020-03-01T00:00:00",
          "2020-03-01T00:00:00",
          "2020-04-08T00:00:00"
         ],
         "xaxis": "x",
         "y": [
          "Aetna",
          "Aetna",
          "Aetna",
          "Airbus",
          "Airbus",
          "Allianz",
          "Allstate",
          "Allstate",
          "Allstate",
          "Alphabet",
          "Alphabet",
          "Alphabet",
          "Alphabet",
          "Alphabet",
          "Amazon",
          "Amazon",
          "American Express"
         ],
         "yaxis": "y"
        }
       ],
       "layout": {
        "height": 600,
        "legend": {
         "itemsizing": "constant",
         "title": {
          "text": "lifecycle_stage"
         },
         "tracegroupgap": 0
        },
        "showlegend": true,
        "template": {
         "data": {
          "bar": [
           {
            "error_x": {
             "color": "#2a3f5f"
            },
            "error_y": {
             "color": "#2a3f5f"
            },
            "marker": {
             "line": {
              "color": "#E5ECF6",
              "width": 0.5
             },
             "pattern": {
              "fillmode": "overlay",
              "size": 10,
              "solidity": 0.2
             }
            },
            "type": "bar"
           }
          ],
          "barpolar": [
           {
            "marker": {
             "line": {
              "color": "#E5ECF6",
              "width": 0.5
             },
             "pattern": {
              "fillmode": "overlay",
              "size": 10,
              "solidity": 0.2
             }
            },
            "type": "barpolar"
           }
          ],
          "carpet": [
           {
            "aaxis": {
             "endlinecolor": "#2a3f5f",
             "gridcolor": "white",
             "linecolor": "white",
             "minorgridcolor": "white",
             "startlinecolor": "#2a3f5f"
            },
            "baxis": {
             "endlinecolor": "#2a3f5f",
             "gridcolor": "white",
             "linecolor": "white",
             "minorgridcolor": "white",
             "startlinecolor": "#2a3f5f"
            },
            "type": "carpet"
           }
          ],
          "choropleth": [
           {
            "colorbar": {
             "outlinewidth": 0,
             "ticks": ""
            },
            "type": "choropleth"
           }
          ],
          "contour": [
           {
            "colorbar": {
             "outlinewidth": 0,
             "ticks": ""
            },
            "colorscale": [
             [
              0,
              "#0d0887"
             ],
             [
              0.1111111111111111,
              "#46039f"
             ],
             [
              0.2222222222222222,
              "#7201a8"
             ],
             [
              0.3333333333333333,
              "#9c179e"
             ],
             [
              0.4444444444444444,
              "#bd3786"
             ],
             [
              0.5555555555555556,
              "#d8576b"
             ],
             [
              0.6666666666666666,
              "#ed7953"
             ],
             [
              0.7777777777777778,
              "#fb9f3a"
             ],
             [
              0.8888888888888888,
              "#fdca26"
             ],
             [
              1,
              "#f0f921"
             ]
            ],
            "type": "contour"
           }
          ],
          "contourcarpet": [
           {
            "colorbar": {
             "outlinewidth": 0,
             "ticks": ""
            },
            "type": "contourcarpet"
           }
          ],
          "heatmap": [
           {
            "colorbar": {
             "outlinewidth": 0,
             "ticks": ""
            },
            "colorscale": [
             [
              0,
              "#0d0887"
             ],
             [
              0.1111111111111111,
              "#46039f"
             ],
             [
              0.2222222222222222,
              "#7201a8"
             ],
             [
              0.3333333333333333,
              "#9c179e"
             ],
             [
              0.4444444444444444,
              "#bd3786"
             ],
             [
              0.5555555555555556,
              "#d8576b"
             ],
             [
              0.6666666666666666,
              "#ed7953"
             ],
             [
              0.7777777777777778,
              "#fb9f3a"
             ],
             [
              0.8888888888888888,
              "#fdca26"
             ],
             [
              1,
              "#f0f921"
             ]
            ],
            "type": "heatmap"
           }
          ],
          "heatmapgl": [
           {
            "colorbar": {
             "outlinewidth": 0,
             "ticks": ""
            },
            "colorscale": [
             [
              0,
              "#0d0887"
             ],
             [
              0.1111111111111111,
              "#46039f"
             ],
             [
              0.2222222222222222,
              "#7201a8"
             ],
             [
              0.3333333333333333,
              "#9c179e"
             ],
             [
              0.4444444444444444,
              "#bd3786"
             ],
             [
              0.5555555555555556,
              "#d8576b"
             ],
             [
              0.6666666666666666,
              "#ed7953"
             ],
             [
              0.7777777777777778,
              "#fb9f3a"
             ],
             [
              0.8888888888888888,
              "#fdca26"
             ],
             [
              1,
              "#f0f921"
             ]
            ],
            "type": "heatmapgl"
           }
          ],
          "histogram": [
           {
            "marker": {
             "pattern": {
              "fillmode": "overlay",
              "size": 10,
              "solidity": 0.2
             }
            },
            "type": "histogram"
           }
          ],
          "histogram2d": [
           {
            "colorbar": {
             "outlinewidth": 0,
             "ticks": ""
            },
            "colorscale": [
             [
              0,
              "#0d0887"
             ],
             [
              0.1111111111111111,
              "#46039f"
             ],
             [
              0.2222222222222222,
              "#7201a8"
             ],
             [
              0.3333333333333333,
              "#9c179e"
             ],
             [
              0.4444444444444444,
              "#bd3786"
             ],
             [
              0.5555555555555556,
              "#d8576b"
             ],
             [
              0.6666666666666666,
              "#ed7953"
             ],
             [
              0.7777777777777778,
              "#fb9f3a"
             ],
             [
              0.8888888888888888,
              "#fdca26"
             ],
             [
              1,
              "#f0f921"
             ]
            ],
            "type": "histogram2d"
           }
          ],
          "histogram2dcontour": [
           {
            "colorbar": {
             "outlinewidth": 0,
             "ticks": ""
            },
            "colorscale": [
             [
              0,
              "#0d0887"
             ],
             [
              0.1111111111111111,
              "#46039f"
             ],
             [
              0.2222222222222222,
              "#7201a8"
             ],
             [
              0.3333333333333333,
              "#9c179e"
             ],
             [
              0.4444444444444444,
              "#bd3786"
             ],
             [
              0.5555555555555556,
              "#d8576b"
             ],
             [
              0.6666666666666666,
              "#ed7953"
             ],
             [
              0.7777777777777778,
              "#fb9f3a"
             ],
             [
              0.8888888888888888,
              "#fdca26"
             ],
             [
              1,
              "#f0f921"
             ]
            ],
            "type": "histogram2dcontour"
           }
          ],
          "mesh3d": [
           {
            "colorbar": {
             "outlinewidth": 0,
             "ticks": ""
            },
            "type": "mesh3d"
           }
          ],
          "parcoords": [
           {
            "line": {
             "colorbar": {
              "outlinewidth": 0,
              "ticks": ""
             }
            },
            "type": "parcoords"
           }
          ],
          "pie": [
           {
            "automargin": true,
            "type": "pie"
           }
          ],
          "scatter": [
           {
            "marker": {
             "colorbar": {
              "outlinewidth": 0,
              "ticks": ""
             }
            },
            "type": "scatter"
           }
          ],
          "scatter3d": [
           {
            "line": {
             "colorbar": {
              "outlinewidth": 0,
              "ticks": ""
             }
            },
            "marker": {
             "colorbar": {
              "outlinewidth": 0,
              "ticks": ""
             }
            },
            "type": "scatter3d"
           }
          ],
          "scattercarpet": [
           {
            "marker": {
             "colorbar": {
              "outlinewidth": 0,
              "ticks": ""
             }
            },
            "type": "scattercarpet"
           }
          ],
          "scattergeo": [
           {
            "marker": {
             "colorbar": {
              "outlinewidth": 0,
              "ticks": ""
             }
            },
            "type": "scattergeo"
           }
          ],
          "scattergl": [
           {
            "marker": {
             "colorbar": {
              "outlinewidth": 0,
              "ticks": ""
             }
            },
            "type": "scattergl"
           }
          ],
          "scattermapbox": [
           {
            "marker": {
             "colorbar": {
              "outlinewidth": 0,
              "ticks": ""
             }
            },
            "type": "scattermapbox"
           }
          ],
          "scatterpolar": [
           {
            "marker": {
             "colorbar": {
              "outlinewidth": 0,
              "ticks": ""
             }
            },
            "type": "scatterpolar"
           }
          ],
          "scatterpolargl": [
           {
            "marker": {
             "colorbar": {
              "outlinewidth": 0,
              "ticks": ""
             }
            },
            "type": "scatterpolargl"
           }
          ],
          "scatterternary": [
           {
            "marker": {
             "colorbar": {
              "outlinewidth": 0,
              "ticks": ""
             }
            },
            "type": "scatterternary"
           }
          ],
          "surface": [
           {
            "colorbar": {
             "outlinewidth": 0,
             "ticks": ""
            },
            "colorscale": [
             [
              0,
              "#0d0887"
             ],
             [
              0.1111111111111111,
              "#46039f"
             ],
             [
              0.2222222222222222,
              "#7201a8"
             ],
             [
              0.3333333333333333,
              "#9c179e"
             ],
             [
              0.4444444444444444,
              "#bd3786"
             ],
             [
              0.5555555555555556,
              "#d8576b"
             ],
             [
              0.6666666666666666,
              "#ed7953"
             ],
             [
              0.7777777777777778,
              "#fb9f3a"
             ],
             [
              0.8888888888888888,
              "#fdca26"
             ],
             [
              1,
              "#f0f921"
             ]
            ],
            "type": "surface"
           }
          ],
          "table": [
           {
            "cells": {
             "fill": {
              "color": "#EBF0F8"
             },
             "line": {
              "color": "white"
             }
            },
            "header": {
             "fill": {
              "color": "#C8D4E3"
             },
             "line": {
              "color": "white"
             }
            },
            "type": "table"
           }
          ]
         },
         "layout": {
          "annotationdefaults": {
           "arrowcolor": "#2a3f5f",
           "arrowhead": 0,
           "arrowwidth": 1
          },
          "autotypenumbers": "strict",
          "coloraxis": {
           "colorbar": {
            "outlinewidth": 0,
            "ticks": ""
           }
          },
          "colorscale": {
           "diverging": [
            [
             0,
             "#8e0152"
            ],
            [
             0.1,
             "#c51b7d"
            ],
            [
             0.2,
             "#de77ae"
            ],
            [
             0.3,
             "#f1b6da"
            ],
            [
             0.4,
             "#fde0ef"
            ],
            [
             0.5,
             "#f7f7f7"
            ],
            [
             0.6,
             "#e6f5d0"
            ],
            [
             0.7,
             "#b8e186"
            ],
            [
             0.8,
             "#7fbc41"
            ],
            [
             0.9,
             "#4d9221"
            ],
            [
             1,
             "#276419"
            ]
           ],
           "sequential": [
            [
             0,
             "#0d0887"
            ],
            [
             0.1111111111111111,
             "#46039f"
            ],
            [
             0.2222222222222222,
             "#7201a8"
            ],
            [
             0.3333333333333333,
             "#9c179e"
            ],
            [
             0.4444444444444444,
             "#bd3786"
            ],
            [
             0.5555555555555556,
             "#d8576b"
            ],
            [
             0.6666666666666666,
             "#ed7953"
            ],
            [
             0.7777777777777778,
             "#fb9f3a"
            ],
            [
             0.8888888888888888,
             "#fdca26"
            ],
            [
             1,
             "#f0f921"
            ]
           ],
           "sequentialminus": [
            [
             0,
             "#0d0887"
            ],
            [
             0.1111111111111111,
             "#46039f"
            ],
            [
             0.2222222222222222,
             "#7201a8"
            ],
            [
             0.3333333333333333,
             "#9c179e"
            ],
            [
             0.4444444444444444,
             "#bd3786"
            ],
            [
             0.5555555555555556,
             "#d8576b"
            ],
            [
             0.6666666666666666,
             "#ed7953"
            ],
            [
             0.7777777777777778,
             "#fb9f3a"
            ],
            [
             0.8888888888888888,
             "#fdca26"
            ],
            [
             1,
             "#f0f921"
            ]
           ]
          },
          "colorway": [
           "#636efa",
           "#EF553B",
           "#00cc96",
           "#ab63fa",
           "#FFA15A",
           "#19d3f3",
           "#FF6692",
           "#B6E880",
           "#FF97FF",
           "#FECB52"
          ],
          "font": {
           "color": "#2a3f5f"
          },
          "geo": {
           "bgcolor": "white",
           "lakecolor": "white",
           "landcolor": "#E5ECF6",
           "showlakes": true,
           "showland": true,
           "subunitcolor": "white"
          },
          "hoverlabel": {
           "align": "left"
          },
          "hovermode": "closest",
          "mapbox": {
           "style": "light"
          },
          "paper_bgcolor": "white",
          "plot_bgcolor": "#E5ECF6",
          "polar": {
           "angularaxis": {
            "gridcolor": "white",
            "linecolor": "white",
            "ticks": ""
           },
           "bgcolor": "#E5ECF6",
           "radialaxis": {
            "gridcolor": "white",
            "linecolor": "white",
            "ticks": ""
           }
          },
          "scene": {
           "xaxis": {
            "backgroundcolor": "#E5ECF6",
            "gridcolor": "white",
            "gridwidth": 2,
            "linecolor": "white",
            "showbackground": true,
            "ticks": "",
            "zerolinecolor": "white"
           },
           "yaxis": {
            "backgroundcolor": "#E5ECF6",
            "gridcolor": "white",
            "gridwidth": 2,
            "linecolor": "white",
            "showbackground": true,
            "ticks": "",
            "zerolinecolor": "white"
           },
           "zaxis": {
            "backgroundcolor": "#E5ECF6",
            "gridcolor": "white",
            "gridwidth": 2,
            "linecolor": "white",
            "showbackground": true,
            "ticks": "",
            "zerolinecolor": "white"
           }
          },
          "shapedefaults": {
           "line": {
            "color": "#2a3f5f"
           }
          },
          "ternary": {
           "aaxis": {
            "gridcolor": "white",
            "linecolor": "white",
            "ticks": ""
           },
           "baxis": {
            "gridcolor": "white",
            "linecolor": "white",
            "ticks": ""
           },
           "bgcolor": "#E5ECF6",
           "caxis": {
            "gridcolor": "white",
            "linecolor": "white",
            "ticks": ""
           }
          },
          "title": {
           "x": 0.05
          },
          "xaxis": {
           "automargin": true,
           "gridcolor": "white",
           "linecolor": "white",
           "ticks": "",
           "title": {
            "standoff": 15
           },
           "zerolinecolor": "white",
           "zerolinewidth": 2
          },
          "yaxis": {
           "automargin": true,
           "gridcolor": "white",
           "linecolor": "white",
           "ticks": "",
           "title": {
            "standoff": 15
           },
           "zerolinecolor": "white",
           "zerolinewidth": 2
          }
         }
        },
        "title": {
         "text": "Customer Journey Timeline"
        },
        "xaxis": {
         "anchor": "y",
         "domain": [
          0,
          1
         ],
         "title": {
          "text": "Order Date"
         }
        },
        "yaxis": {
         "anchor": "x",
         "domain": [
          0,
          1
         ],
         "title": {
          "text": "Customer"
         }
        }
       }
      }
     },
     "metadata": {},
     "output_type": "display_data"
    }
   ],
   "source": [
    "# Create interactive journey timeline\n",
    "def create_interactive_timeline(df, customer_col, date_col, sample_customers=10):\n",
    "    \"\"\"Create interactive timeline for customer journeys\"\"\"\n",
    "    \n",
    "    # Sample customers for visualization\n",
    "    sample_customers_list = df[customer_col].unique()[:sample_customers]\n",
    "    sample_data = df[df[customer_col].isin(sample_customers_list)]\n",
    "    \n",
    "    # Create timeline plot\n",
    "    fig = px.scatter(sample_data, \n",
    "                     x=date_col, \n",
    "                     y=customer_col,\n",
    "                     color='lifecycle_stage',\n",
    "                     size='interaction_sequence',\n",
    "                     hover_data=['customer_journey_day', 'interaction_sequence'],\n",
    "                     title='Customer Journey Timeline',\n",
    "                     labels={'interaction_sequence': 'Interaction #'})\n",
    "    \n",
    "    fig.update_layout(height=600, showlegend=True)\n",
    "    return fig\n",
    "\n",
    "# Create and display interactive timeline\n",
    "timeline_fig = create_interactive_timeline(df, customer_col, date_col)\n",
    "timeline_fig.show()"
   ]
  },
  {
   "cell_type": "markdown",
   "metadata": {},
   "source": [
    "### 9. JOURNEY INSIGHTS AND RECOMMENDATIONS"
   ]
  },
  {
   "cell_type": "code",
   "execution_count": 13,
   "metadata": {},
   "outputs": [
    {
     "name": "stdout",
     "output_type": "stream",
     "text": [
      "\n",
      "================================================================================\n",
      "CUSTOMER JOURNEY MAPPING INSIGHTS\n",
      "================================================================================\n",
      "\n",
      "📊 JOURNEY OVERVIEW:\n",
      "   • Total Customers Analyzed: 99\n",
      "   • Average Journey Length: 1367.5 days\n",
      "   • Average Interactions per Customer: 100.9\n",
      "   • Most Common Lifecycle Stage: Loyal\n",
      "   • Average Time Between Interactions: 13.7 days\n",
      "\n",
      "🎯 SEGMENT INSIGHTS:\n",
      "   • Long Journey: 99 customers (100.0%)\n",
      "\n",
      "📈 TRANSITION INSIGHTS:\n",
      "   • Most common stage transitions:\n",
      "     - Loyal → Loyal: 8805 transitions\n",
      "     - Mature → Mature: 409 transitions\n",
      "     - Growing → Growing: 215 transitions\n",
      "\n",
      "💡 RECOMMENDATIONS:\n",
      "   • Focus on converting 'New' customers to 'Growing' stage\n",
      "   • Develop retention strategies for 'Quick Exit' segment\n",
      "   • Optimize engagement frequency for 'Low Engagement' customers\n",
      "   • Leverage 'High Engagement' customers for referrals\n",
      "   • Create targeted campaigns based on lifecycle stages\n",
      "\n",
      "================================================================================\n",
      "Analysis Complete! Use these insights to optimize customer journeys.\n",
      "================================================================================\n"
     ]
    }
   ],
   "source": [
    "print(\"\\n\" + \"=\"*80)\n",
    "print(\"CUSTOMER JOURNEY MAPPING INSIGHTS\")\n",
    "print(\"=\"*80)\n",
    "\n",
    "# Key insights\n",
    "total_customers = df[customer_col].nunique()\n",
    "avg_journey_length = journey_summary['journey_length_days'].mean()\n",
    "avg_interactions = journey_summary['total_interactions'].mean()\n",
    "most_common_stage = df['lifecycle_stage'].value_counts().index[0]\n",
    "avg_time_between = df['time_since_last_interaction'].mean()\n",
    "\n",
    "print(f\"\\n📊 JOURNEY OVERVIEW:\")\n",
    "print(f\"   • Total Customers Analyzed: {total_customers:,}\")\n",
    "print(f\"   • Average Journey Length: {avg_journey_length:.1f} days\")\n",
    "print(f\"   • Average Interactions per Customer: {avg_interactions:.1f}\")\n",
    "print(f\"   • Most Common Lifecycle Stage: {most_common_stage}\")\n",
    "print(f\"   • Average Time Between Interactions: {avg_time_between:.1f} days\")\n",
    "\n",
    "print(f\"\\n🎯 SEGMENT INSIGHTS:\")\n",
    "for segment in journey_segments['journey_segment'].unique():\n",
    "    segment_data = journey_segments[journey_segments['journey_segment'] == segment]\n",
    "    count = len(segment_data)\n",
    "    pct = (count / total_customers) * 100\n",
    "    print(f\"   • {segment}: {count} customers ({pct:.1f}%)\")\n",
    "\n",
    "print(f\"\\n📈 TRANSITION INSIGHTS:\")\n",
    "print(\"   • Most common stage transitions:\")\n",
    "transition_counts = pd.crosstab(journey_flow['current_stage'], journey_flow['next_stage'])\n",
    "for i in range(min(3, len(transition_counts))):\n",
    "    max_idx = transition_counts.values.argmax()\n",
    "    row, col = np.unravel_index(max_idx, transition_counts.shape)\n",
    "    from_stage = transition_counts.index[row]\n",
    "    to_stage = transition_counts.columns[col]\n",
    "    count = transition_counts.iloc[row, col]\n",
    "    print(f\"     - {from_stage} → {to_stage}: {count} transitions\")\n",
    "    transition_counts.iloc[row, col] = 0\n",
    "\n",
    "print(f\"\\n💡 RECOMMENDATIONS:\")\n",
    "print(\"   • Focus on converting 'New' customers to 'Growing' stage\")\n",
    "print(\"   • Develop retention strategies for 'Quick Exit' segment\")\n",
    "print(\"   • Optimize engagement frequency for 'Low Engagement' customers\")\n",
    "print(\"   • Leverage 'High Engagement' customers for referrals\")\n",
    "print(\"   • Create targeted campaigns based on lifecycle stages\")\n",
    "\n",
    "print(\"\\n\" + \"=\"*80)\n",
    "print(\"Analysis Complete! Use these insights to optimize customer journeys.\")\n",
    "print(\"=\"*80)"
   ]
  }
 ],
 "metadata": {
  "kernelspec": {
   "display_name": "base",
   "language": "python",
   "name": "python3"
  },
  "language_info": {
   "codemirror_mode": {
    "name": "ipython",
    "version": 3
   },
   "file_extension": ".py",
   "mimetype": "text/x-python",
   "name": "python",
   "nbconvert_exporter": "python",
   "pygments_lexer": "ipython3",
   "version": "3.8.8"
  }
 },
 "nbformat": 4,
 "nbformat_minor": 2
}
