{
 "cells": [
  {
   "cell_type": "markdown",
   "metadata": {},
   "source": [
    "## Performance Dashboards\n",
    "Performance Dashboards for Subscription Analytics Platform"
   ]
  },
  {
   "cell_type": "code",
   "execution_count": 5,
   "metadata": {},
   "outputs": [
    {
     "data": {
      "text/html": [
       "        <script type=\"text/javascript\">\n",
       "        window.PlotlyConfig = {MathJaxConfig: 'local'};\n",
       "        if (window.MathJax) {MathJax.Hub.Config({SVG: {font: \"STIX-Web\"}});}\n",
       "        if (typeof require !== 'undefined') {\n",
       "        require.undef(\"plotly\");\n",
       "        requirejs.config({\n",
       "            paths: {\n",
       "                'plotly': ['https://cdn.plot.ly/plotly-2.8.3.min']\n",
       "            }\n",
       "        });\n",
       "        require(['plotly'], function(Plotly) {\n",
       "            window._Plotly = Plotly;\n",
       "        });\n",
       "        }\n",
       "        </script>\n",
       "        "
      ]
     },
     "metadata": {},
     "output_type": "display_data"
    }
   ],
   "source": [
    "import pandas as pd\n",
    "import numpy as np\n",
    "import matplotlib.pyplot as plt\n",
    "import seaborn as sns\n",
    "import plotly.express as px\n",
    "import plotly.graph_objects as go\n",
    "from plotly.subplots import make_subplots\n",
    "import plotly.offline as pyo\n",
    "from datetime import datetime, timedelta\n",
    "import warnings\n",
    "warnings.filterwarnings('ignore')\n",
    "\n",
    "# Set up plotting style\n",
    "plt.style.use('default')\n",
    "sns.set_style(\"whitegrid\")\n",
    "sns.set_palette(\"husl\")\n",
    "\n",
    "# Configure plotly for offline use\n",
    "pyo.init_notebook_mode(connected=True)"
   ]
  },
  {
   "cell_type": "markdown",
   "metadata": {},
   "source": [
    "### 1: Load and Prepare Data"
   ]
  },
  {
   "cell_type": "code",
   "execution_count": 6,
   "metadata": {},
   "outputs": [
    {
     "name": "stdout",
     "output_type": "stream",
     "text": [
      "\n",
      "============================================================\n",
      "STEP 1: LOADING AND PREPARING DATA\n",
      "============================================================\n",
      "✓ Successfully loaded customer features data\n",
      "  Dataset shape: (99, 29)\n",
      "  Columns: 29\n",
      "\n",
      "Dataset Overview:\n",
      "  Total Customers: 99\n",
      "  Features Available: 29\n",
      "  Memory Usage: 0.03 MB\n"
     ]
    }
   ],
   "source": [
    "print(\"\\n\" + \"=\"*60)\n",
    "print(\"STEP 1: LOADING AND PREPARING DATA\")\n",
    "print(\"=\"*60)\n",
    "\n",
    "# Load the processed customer features data\n",
    "try:\n",
    "    customer_features = pd.read_csv('../data/processed/customer_features.csv')\n",
    "    print(f\"✓ Successfully loaded customer features data\")\n",
    "    print(f\"  Dataset shape: {customer_features.shape}\")\n",
    "    print(f\"  Columns: {len(customer_features.columns)}\")\n",
    "except FileNotFoundError:\n",
    "    print(\"✗ Customer features file not found. Please run data_process.py first.\")\n",
    "    # Create sample data for demonstration\n",
    "    np.random.seed(42)\n",
    "    n_customers = 1000\n",
    "    \n",
    "    customer_features = pd.DataFrame({\n",
    "        'customer_id': range(n_customers),\n",
    "        'revenue_sum': np.random.exponential(1000, n_customers),\n",
    "        'revenue_mean': np.random.exponential(100, n_customers),\n",
    "        'revenue_count': np.random.poisson(5, n_customers),\n",
    "        'usage_hours_sum': np.random.exponential(500, n_customers),\n",
    "        'usage_hours_mean': np.random.exponential(50, n_customers),\n",
    "        'support_tickets_sum': np.random.poisson(3, n_customers),\n",
    "        'login_frequency_mean': np.random.exponential(10, n_customers),\n",
    "        'revenue_per_transaction': np.random.exponential(200, n_customers),\n",
    "        'engagement_score': np.random.beta(2, 5, n_customers),\n",
    "        'recency_days': np.random.exponential(30, n_customers)\n",
    "    })\n",
    "    print(\"✓ Generated sample data for demonstration\")\n",
    "\n",
    "# Display basic information about the dataset\n",
    "print(f\"\\nDataset Overview:\")\n",
    "print(f\"  Total Customers: {len(customer_features):,}\")\n",
    "print(f\"  Features Available: {len(customer_features.columns):,}\")\n",
    "print(f\"  Memory Usage: {customer_features.memory_usage(deep=True).sum() / 1024**2:.2f} MB\")"
   ]
  },
  {
   "cell_type": "markdown",
   "metadata": {},
   "source": [
    "### 2: Key Performance Indicators (KPIs) Calculation"
   ]
  },
  {
   "cell_type": "code",
   "execution_count": 7,
   "metadata": {},
   "outputs": [
    {
     "name": "stdout",
     "output_type": "stream",
     "text": [
      "\n",
      "============================================================\n",
      "STEP 2: CALCULATING KEY PERFORMANCE INDICATORS\n",
      "============================================================\n",
      "Key Performance Indicators:\n",
      "  Total Customers: 99.00\n"
     ]
    }
   ],
   "source": [
    "print(\"\\n\" + \"=\"*60)\n",
    "print(\"STEP 2: CALCULATING KEY PERFORMANCE INDICATORS\")\n",
    "print(\"=\"*60)\n",
    "\n",
    "# Calculate primary KPIs\n",
    "def calculate_kpis(df):\n",
    "    kpis = {}\n",
    "    \n",
    "    # Revenue KPIs\n",
    "    if 'revenue_sum' in df.columns:\n",
    "        kpis['total_revenue'] = df['revenue_sum'].sum()\n",
    "        kpis['avg_revenue_per_customer'] = df['revenue_sum'].mean()\n",
    "        kpis['median_revenue_per_customer'] = df['revenue_sum'].median()\n",
    "        \n",
    "    # Customer engagement KPIs\n",
    "    if 'usage_hours_sum' in df.columns:\n",
    "        kpis['total_usage_hours'] = df['usage_hours_sum'].sum()\n",
    "        kpis['avg_usage_per_customer'] = df['usage_hours_sum'].mean()\n",
    "        \n",
    "    # Support KPIs\n",
    "    if 'support_tickets_sum' in df.columns:\n",
    "        kpis['total_support_tickets'] = df['support_tickets_sum'].sum()\n",
    "        kpis['avg_tickets_per_customer'] = df['support_tickets_sum'].mean()\n",
    "        \n",
    "    # Login frequency KPIs\n",
    "    if 'login_frequency_mean' in df.columns:\n",
    "        kpis['avg_login_frequency'] = df['login_frequency_mean'].mean()\n",
    "        \n",
    "    # Customer segmentation KPIs\n",
    "    kpis['total_customers'] = len(df)\n",
    "    \n",
    "    return kpis\n",
    "\n",
    "# Calculate KPIs\n",
    "kpis = calculate_kpis(customer_features)\n",
    "\n",
    "print(\"Key Performance Indicators:\")\n",
    "for key, value in kpis.items():\n",
    "    if isinstance(value, (int, float)):\n",
    "        if 'revenue' in key and value > 1000:\n",
    "            print(f\"  {key.replace('_', ' ').title()}: ${value:,.0f}\")\n",
    "        elif 'total' in key or 'avg' in key or 'median' in key:\n",
    "            print(f\"  {key.replace('_', ' ').title()}: {value:,.2f}\")\n",
    "        else:\n",
    "            print(f\"  {key.replace('_', ' ').title()}: {value}\")"
   ]
  },
  {
   "cell_type": "markdown",
   "metadata": {},
   "source": [
    "### 3: Customer Segmentation for Dashboard"
   ]
  },
  {
   "cell_type": "code",
   "execution_count": 8,
   "metadata": {},
   "outputs": [
    {
     "name": "stdout",
     "output_type": "stream",
     "text": [
      "\n",
      "============================================================\n",
      "STEP 3: CUSTOMER SEGMENTATION FOR DASHBOARD\n",
      "============================================================\n",
      "Customer Segment Distribution:\n",
      "  Loyal Customers: 40 customers (40.4%)\n",
      "  Potential Loyalists: 19 customers (19.2%)\n",
      "  Promising: 18 customers (18.2%)\n",
      "  At Risk: 9 customers (9.1%)\n",
      "  New Customers: 7 customers (7.1%)\n",
      "  Champions: 6 customers (6.1%)\n"
     ]
    }
   ],
   "source": [
    "print(\"\\n\" + \"=\"*60)\n",
    "print(\"STEP 3: CUSTOMER SEGMENTATION FOR DASHBOARD\")\n",
    "print(\"=\"*60)\n",
    "\n",
    "# Create customer segments based on revenue and engagement\n",
    "def create_customer_segments(df):\n",
    "    # Ensure we have the required columns\n",
    "    revenue_col = 'revenue_sum' if 'revenue_sum' in df.columns else df.select_dtypes(include=[np.number]).columns[0]\n",
    "    engagement_col = 'engagement_score' if 'engagement_score' in df.columns else df.select_dtypes(include=[np.number]).columns[1]\n",
    "    \n",
    "    # Calculate quartiles for segmentation\n",
    "    revenue_q25 = df[revenue_col].quantile(0.25)\n",
    "    revenue_q75 = df[revenue_col].quantile(0.75)\n",
    "    engagement_q25 = df[engagement_col].quantile(0.25)\n",
    "    engagement_q75 = df[engagement_col].quantile(0.75)\n",
    "    \n",
    "    # Create segments\n",
    "    def assign_segment(row):\n",
    "        revenue = row[revenue_col]\n",
    "        engagement = row[engagement_col]\n",
    "        \n",
    "        if revenue >= revenue_q75 and engagement >= engagement_q75:\n",
    "            return 'Champions'\n",
    "        elif revenue >= revenue_q75 and engagement < engagement_q75:\n",
    "            return 'Potential Loyalists'\n",
    "        elif revenue < revenue_q25 and engagement >= engagement_q75:\n",
    "            return 'New Customers'\n",
    "        elif revenue >= revenue_q25 and revenue < revenue_q75 and engagement >= engagement_q25:\n",
    "            return 'Loyal Customers'\n",
    "        elif revenue < revenue_q25 and engagement < engagement_q25:\n",
    "            return 'At Risk'\n",
    "        else:\n",
    "            return 'Promising'\n",
    "    \n",
    "    df['customer_segment'] = df.apply(assign_segment, axis=1)\n",
    "    return df\n",
    "\n",
    "# Apply segmentation\n",
    "customer_features = create_customer_segments(customer_features)\n",
    "\n",
    "# Display segment distribution\n",
    "segment_counts = customer_features['customer_segment'].value_counts()\n",
    "print(\"Customer Segment Distribution:\")\n",
    "for segment, count in segment_counts.items():\n",
    "    percentage = (count / len(customer_features)) * 100\n",
    "    print(f\"  {segment}: {count:,} customers ({percentage:.1f}%)\")"
   ]
  },
  {
   "cell_type": "markdown",
   "metadata": {},
   "source": [
    "### 4: Revenue Performance Dashboard"
   ]
  },
  {
   "cell_type": "code",
   "execution_count": 9,
   "metadata": {},
   "outputs": [
    {
     "name": "stdout",
     "output_type": "stream",
     "text": [
      "\n",
      "============================================================\n",
      "STEP 4: CREATING REVENUE PERFORMANCE DASHBOARD\n",
      "============================================================\n",
      "✓ Revenue performance dashboard created\n"
     ]
    }
   ],
   "source": [
    "print(\"\\n\" + \"=\"*60)\n",
    "print(\"STEP 4: CREATING REVENUE PERFORMANCE DASHBOARD\")\n",
    "print(\"=\"*60)\n",
    "\n",
    "# Create revenue dashboard\n",
    "def create_revenue_dashboard():\n",
    "    # Set up the subplot structure\n",
    "    fig = make_subplots(\n",
    "        rows=2, cols=2,\n",
    "        subplot_titles=('Revenue Distribution', 'Revenue by Customer Segment', \n",
    "                       'Revenue vs Engagement', 'Top Revenue Customers'),\n",
    "        specs=[[{\"type\": \"xy\"}, {\"type\": \"xy\"}],\n",
    "               [{\"type\": \"scatter\"}, {\"type\": \"xy\"}]]\n",
    "    )\n",
    "    \n",
    "    revenue_col = 'revenue_sum' if 'revenue_sum' in customer_features.columns else customer_features.select_dtypes(include=[np.number]).columns[0]\n",
    "    \n",
    "    # Revenue distribution histogram\n",
    "    fig.add_trace(\n",
    "        go.Histogram(x=customer_features[revenue_col], \n",
    "                    name='Revenue Distribution',\n",
    "                    nbinsx=30),\n",
    "        row=1, col=1\n",
    "    )\n",
    "    \n",
    "    # Revenue by customer segment\n",
    "    segment_revenue = customer_features.groupby('customer_segment')[revenue_col].sum().reset_index()\n",
    "    fig.add_trace(\n",
    "        go.Bar(x=segment_revenue['customer_segment'], \n",
    "               y=segment_revenue[revenue_col],\n",
    "               name='Revenue by Segment'),\n",
    "        row=1, col=2\n",
    "    )\n",
    "    \n",
    "    # Revenue vs engagement scatter plot\n",
    "    engagement_col = 'engagement_score' if 'engagement_score' in customer_features.columns else customer_features.select_dtypes(include=[np.number]).columns[1]\n",
    "    fig.add_trace(\n",
    "        go.Scatter(x=customer_features[engagement_col], \n",
    "                  y=customer_features[revenue_col],\n",
    "                  mode='markers',\n",
    "                  name='Revenue vs Engagement',\n",
    "                  marker=dict(size=8, opacity=0.6)),\n",
    "        row=2, col=1\n",
    "    )\n",
    "    \n",
    "    # Top revenue customers\n",
    "    top_customers = customer_features.nlargest(10, revenue_col)\n",
    "    fig.add_trace(\n",
    "        go.Bar(x=top_customers['customer_id'].astype(str), \n",
    "               y=top_customers[revenue_col],\n",
    "               name='Top 10 Customers'),\n",
    "        row=2, col=2\n",
    "    )\n",
    "    \n",
    "    # Update layout\n",
    "    fig.update_layout(\n",
    "        title_text=\"Revenue Performance Dashboard\",\n",
    "        showlegend=False,\n",
    "        height=800,\n",
    "        title_font_size=20\n",
    "    )\n",
    "    \n",
    "    return fig\n",
    "\n",
    "# Generate revenue dashboard\n",
    "revenue_fig = create_revenue_dashboard()\n",
    "print(\"✓ Revenue performance dashboard created\")\n"
   ]
  },
  {
   "cell_type": "markdown",
   "metadata": {},
   "source": [
    "### 5: Customer Engagement Dashboard"
   ]
  },
  {
   "cell_type": "code",
   "execution_count": 10,
   "metadata": {},
   "outputs": [
    {
     "name": "stdout",
     "output_type": "stream",
     "text": [
      "\n",
      "============================================================\n",
      "STEP 5: CREATING CUSTOMER ENGAGEMENT DASHBOARD\n",
      "============================================================\n",
      "✓ Customer engagement dashboard created\n"
     ]
    }
   ],
   "source": [
    "print(\"\\n\" + \"=\"*60)\n",
    "print(\"STEP 5: CREATING CUSTOMER ENGAGEMENT DASHBOARD\")\n",
    "print(\"=\"*60)\n",
    "\n",
    "def create_engagement_dashboard():\n",
    "    # Create engagement metrics\n",
    "    fig = make_subplots(\n",
    "        rows=2, cols=2,\n",
    "        subplot_titles=('Usage Hours Distribution', 'Login Frequency by Segment',\n",
    "                       'Support Tickets Analysis', 'Engagement Score Overview'),\n",
    "        specs=[[{\"type\": \"xy\"}, {\"type\": \"xy\"}],\n",
    "               [{\"type\": \"xy\"}, {\"type\": \"xy\"}]]\n",
    "    )\n",
    "    \n",
    "    # Usage hours distribution\n",
    "    if 'usage_hours_sum' in customer_features.columns:\n",
    "        fig.add_trace(\n",
    "            go.Histogram(x=customer_features['usage_hours_sum'],\n",
    "                        name='Usage Hours',\n",
    "                        nbinsx=25),\n",
    "            row=1, col=1\n",
    "        )\n",
    "    \n",
    "    # Login frequency by segment\n",
    "    if 'login_frequency_mean' in customer_features.columns:\n",
    "        login_by_segment = customer_features.groupby('customer_segment')['login_frequency_mean'].mean().reset_index()\n",
    "        fig.add_trace(\n",
    "            go.Bar(x=login_by_segment['customer_segment'],\n",
    "                   y=login_by_segment['login_frequency_mean'],\n",
    "                   name='Login Frequency'),\n",
    "            row=1, col=2\n",
    "        )\n",
    "    \n",
    "    # Support tickets analysis\n",
    "    if 'support_tickets_sum' in customer_features.columns:\n",
    "        fig.add_trace(\n",
    "            go.Box(y=customer_features['support_tickets_sum'],\n",
    "                   name='Support Tickets',\n",
    "                   boxpoints='outliers'),\n",
    "            row=2, col=1\n",
    "        )\n",
    "    \n",
    "    # Engagement score overview\n",
    "    if 'engagement_score' in customer_features.columns:\n",
    "        fig.add_trace(\n",
    "            go.Histogram(x=customer_features['engagement_score'],\n",
    "                        name='Engagement Score',\n",
    "                        nbinsx=20),\n",
    "            row=2, col=2\n",
    "        )\n",
    "    \n",
    "    # Update layout\n",
    "    fig.update_layout(\n",
    "        title_text=\"Customer Engagement Dashboard\",\n",
    "        showlegend=False,\n",
    "        height=800,\n",
    "        title_font_size=20\n",
    "    )\n",
    "    \n",
    "    return fig\n",
    "\n",
    "# Generate engagement dashboard\n",
    "engagement_fig = create_engagement_dashboard()\n",
    "print(\"✓ Customer engagement dashboard created\")"
   ]
  },
  {
   "cell_type": "markdown",
   "metadata": {},
   "source": [
    "### 6: Business Intelligence Summary Dashboard"
   ]
  },
  {
   "cell_type": "code",
   "execution_count": 13,
   "metadata": {},
   "outputs": [
    {
     "name": "stdout",
     "output_type": "stream",
     "text": [
      "\n",
      "============================================================\n",
      "STEP 6: CREATING BUSINESS INTELLIGENCE SUMMARY\n",
      "============================================================\n",
      "Available columns: ['customer_id', 'sales_sum', 'sales_mean', 'sales_count', 'sales_std', 'order_date_min', 'order_date_max', 'order_date_count', 'product_count', 'product_nunique', 'country_count', 'country_nunique', 'industry_count', 'row_id_sum', 'row_id_mean', 'row_id_count', 'quantity_sum', 'quantity_mean', 'quantity_count', 'discount_sum', 'discount_mean', 'discount_count', 'profit_sum', 'profit_mean', 'profit_count', 'revenue_per_transaction', 'engagement_score', 'recency_days', 'frequency', 'customer_segment']\n",
      "Error creating BI dashboard: Trace type 'pie' is not compatible with subplot type 'xy'\n",
      "at grid position (2, 1) \n",
      "\n",
      "See the docstring for the specs argument to plotly.subplots.make_subplots \n",
      "for more information on subplot types\n",
      "Please check your data structure and column names\n"
     ]
    }
   ],
   "source": [
    "print(\"\\n\" + \"=\"*60)\n",
    "print(\"STEP 6: CREATING BUSINESS INTELLIGENCE SUMMARY\")\n",
    "print(\"=\"*60)\n",
    "\n",
    "def create_bi_summary_dashboard():\n",
    "    # Create comprehensive BI dashboard\n",
    "    fig = make_subplots(\n",
    "        rows=3, cols=2,\n",
    "        subplot_titles=('Customer Segment Performance', 'Revenue Trends by Segment',\n",
    "                       'Customer Lifecycle Stage', 'Support Efficiency',\n",
    "                       'Revenue per Transaction', 'Customer Health Score'),\n",
    "        specs=[[{\"type\": \"xy\"}, {\"type\": \"xy\"}],\n",
    "               [{\"type\": \"xy\"}, {\"type\": \"xy\"}],\n",
    "               [{\"type\": \"xy\"}, {\"type\": \"xy\"}]]\n",
    "    )\n",
    "    \n",
    "    # Check available columns\n",
    "    available_cols = customer_features.columns.tolist()\n",
    "    print(f\"Available columns: {available_cols}\")\n",
    "    \n",
    "    # Find revenue columns (look for variations)\n",
    "    revenue_cols = [col for col in available_cols if 'revenue' in col.lower()]\n",
    "    revenue_sum_col = None\n",
    "    revenue_mean_col = None\n",
    "    \n",
    "    # Priority order for revenue columns\n",
    "    for col in ['revenue_sum', 'total_revenue', 'revenue_total', 'revenue']:\n",
    "        if col in available_cols:\n",
    "            revenue_sum_col = col\n",
    "            break\n",
    "    \n",
    "    for col in ['revenue_mean', 'avg_revenue', 'revenue_avg', 'revenue_per_customer']:\n",
    "        if col in available_cols:\n",
    "            revenue_mean_col = col\n",
    "            break\n",
    "    \n",
    "    # If no specific revenue columns found, use the first revenue column\n",
    "    if not revenue_sum_col and revenue_cols:\n",
    "        revenue_sum_col = revenue_cols[0]\n",
    "    if not revenue_mean_col and revenue_cols:\n",
    "        revenue_mean_col = revenue_cols[0]\n",
    "    \n",
    "    # Customer segment performance (revenue and count)\n",
    "    if 'customer_segment' in available_cols and revenue_sum_col:\n",
    "        # Determine which column to use for counting\n",
    "        count_col = 'customer_id' if 'customer_id' in available_cols else customer_features.columns[0]\n",
    "        \n",
    "        segment_stats = customer_features.groupby('customer_segment').agg({\n",
    "            revenue_sum_col: 'sum',\n",
    "            count_col: 'count'\n",
    "        }).reset_index()\n",
    "        \n",
    "        fig.add_trace(\n",
    "            go.Bar(x=segment_stats['customer_segment'],\n",
    "                   y=segment_stats[revenue_sum_col],\n",
    "                   name='Total Revenue',\n",
    "                   yaxis='y'),\n",
    "            row=1, col=1\n",
    "        )\n",
    "    else:\n",
    "        print(\"Warning: Cannot create customer segment performance chart - missing required columns\")\n",
    "    \n",
    "    # Revenue trends by segment\n",
    "    if 'customer_segment' in available_cols and revenue_mean_col:\n",
    "        revenue_trends = customer_features.groupby('customer_segment')[revenue_mean_col].mean().reset_index()\n",
    "        fig.add_trace(\n",
    "            go.Bar(x=revenue_trends['customer_segment'],\n",
    "                   y=revenue_trends[revenue_mean_col],\n",
    "                   name='Avg Revenue per Customer'),\n",
    "            row=1, col=2\n",
    "        )\n",
    "    elif 'customer_segment' in available_cols and revenue_sum_col:\n",
    "        # Use revenue_sum_col as fallback\n",
    "        revenue_trends = customer_features.groupby('customer_segment')[revenue_sum_col].mean().reset_index()\n",
    "        fig.add_trace(\n",
    "            go.Bar(x=revenue_trends['customer_segment'],\n",
    "                   y=revenue_trends[revenue_sum_col],\n",
    "                   name='Avg Revenue per Customer'),\n",
    "            row=1, col=2\n",
    "        )\n",
    "    else:\n",
    "        print(\"Warning: Cannot create revenue trends chart - missing required columns\")\n",
    "    \n",
    "    # Customer lifecycle stage (using recency if available)\n",
    "    recency_cols = [col for col in available_cols if 'recency' in col.lower()]\n",
    "    if recency_cols:\n",
    "        recency_col = recency_cols[0]\n",
    "        \n",
    "        # Create lifecycle stages based on recency\n",
    "        def assign_lifecycle_stage(recency):\n",
    "            if recency <= 7:\n",
    "                return 'Active'\n",
    "            elif recency <= 30:\n",
    "                return 'Regular'\n",
    "            elif recency <= 90:\n",
    "                return 'Declining'\n",
    "            else:\n",
    "                return 'Inactive'\n",
    "        \n",
    "        customer_features['lifecycle_stage'] = customer_features[recency_col].apply(assign_lifecycle_stage)\n",
    "        lifecycle_counts = customer_features['lifecycle_stage'].value_counts()\n",
    "        \n",
    "        fig.add_trace(\n",
    "            go.Pie(labels=lifecycle_counts.index,\n",
    "                   values=lifecycle_counts.values,\n",
    "                   name='Lifecycle Stage'),\n",
    "            row=2, col=1\n",
    "        )\n",
    "    else:\n",
    "        print(\"Warning: Cannot create lifecycle stage chart - no recency column found\")\n",
    "    \n",
    "    # Support efficiency (tickets vs revenue)\n",
    "    support_cols = [col for col in available_cols if 'support' in col.lower() or 'ticket' in col.lower()]\n",
    "    if support_cols and revenue_sum_col and 'customer_segment' in available_cols:\n",
    "        support_col = support_cols[0]\n",
    "        \n",
    "        support_efficiency = customer_features.groupby('customer_segment').agg({\n",
    "            support_col: 'mean',\n",
    "            revenue_sum_col: 'mean'\n",
    "        }).reset_index()\n",
    "        \n",
    "        fig.add_trace(\n",
    "            go.Scatter(x=support_efficiency[support_col],\n",
    "                      y=support_efficiency[revenue_sum_col],\n",
    "                      mode='markers+text',\n",
    "                      text=support_efficiency['customer_segment'],\n",
    "                      textposition='top center',\n",
    "                      name='Support vs Revenue'),\n",
    "            row=2, col=2\n",
    "        )\n",
    "    else:\n",
    "        print(\"Warning: Cannot create support efficiency chart - missing required columns\")\n",
    "    \n",
    "    # Revenue per transaction\n",
    "    transaction_cols = [col for col in available_cols if 'transaction' in col.lower() and 'revenue' in col.lower()]\n",
    "    if transaction_cols:\n",
    "        transaction_col = transaction_cols[0]\n",
    "        fig.add_trace(\n",
    "            go.Box(y=customer_features[transaction_col],\n",
    "                   name='Revenue per Transaction',\n",
    "                   boxpoints='outliers'),\n",
    "            row=3, col=1\n",
    "        )\n",
    "    elif revenue_cols:\n",
    "        # Use any revenue column as fallback\n",
    "        fig.add_trace(\n",
    "            go.Box(y=customer_features[revenue_cols[0]],\n",
    "                   name='Revenue Distribution',\n",
    "                   boxpoints='outliers'),\n",
    "            row=3, col=1\n",
    "        )\n",
    "    else:\n",
    "        print(\"Warning: Cannot create revenue per transaction chart - no suitable columns found\")\n",
    "    \n",
    "    # Customer health score (composite metric)\n",
    "    # Create a simple health score based on available metrics\n",
    "    numeric_cols = customer_features.select_dtypes(include=[np.number]).columns\n",
    "    health_score_cols = [col for col in numeric_cols if any(term in col.lower() for term in ['revenue', 'usage', 'engagement', 'login', 'frequency', 'value'])]\n",
    "    \n",
    "    if health_score_cols:\n",
    "        # Normalize and create health score\n",
    "        health_data = customer_features[health_score_cols].copy()\n",
    "        \n",
    "        # Handle missing values\n",
    "        health_data = health_data.fillna(0)\n",
    "        \n",
    "        # Avoid division by zero\n",
    "        health_data_normalized = health_data.copy()\n",
    "        for col in health_data.columns:\n",
    "            col_range = health_data[col].max() - health_data[col].min()\n",
    "            if col_range > 0:\n",
    "                health_data_normalized[col] = (health_data[col] - health_data[col].min()) / col_range\n",
    "            else:\n",
    "                health_data_normalized[col] = 0\n",
    "        \n",
    "        customer_features['health_score'] = health_data_normalized.mean(axis=1)\n",
    "        \n",
    "        fig.add_trace(\n",
    "            go.Histogram(x=customer_features['health_score'],\n",
    "                        name='Customer Health Score',\n",
    "                        nbinsx=20),\n",
    "            row=3, col=2\n",
    "        )\n",
    "    else:\n",
    "        print(\"Warning: Cannot create health score chart - no suitable numeric columns found\")\n",
    "    \n",
    "    # Update layout\n",
    "    fig.update_layout(\n",
    "        title_text=\"Business Intelligence Summary Dashboard\",\n",
    "        showlegend=False,\n",
    "        height=1200,\n",
    "        title_font_size=20\n",
    "    )\n",
    "    \n",
    "    return fig\n",
    "\n",
    "# Generate BI summary dashboard\n",
    "try:\n",
    "    bi_fig = create_bi_summary_dashboard()\n",
    "    print(\"✓ Business intelligence summary dashboard created\")\n",
    "except Exception as e:\n",
    "    print(f\"Error creating BI dashboard: {e}\")\n",
    "    print(\"Please check your data structure and column names\")"
   ]
  },
  {
   "cell_type": "markdown",
   "metadata": {},
   "source": [
    "### 7: Performance Metrics and Alerts"
   ]
  },
  {
   "cell_type": "code",
   "execution_count": 14,
   "metadata": {},
   "outputs": [
    {
     "name": "stdout",
     "output_type": "stream",
     "text": [
      "\n",
      "============================================================\n",
      "STEP 7: PERFORMANCE METRICS AND ALERTS\n",
      "============================================================\n",
      "Performance Alerts:\n",
      "  ⚠️  20 customers with low engagement scores\n",
      "  🔴 3 customers at high churn risk (>90 days inactive)\n"
     ]
    }
   ],
   "source": [
    "print(\"\\n\" + \"=\"*60)\n",
    "print(\"STEP 7: PERFORMANCE METRICS AND ALERTS\")\n",
    "print(\"=\"*60)\n",
    "\n",
    "def generate_performance_alerts():\n",
    "    alerts = []\n",
    "    \n",
    "    # Revenue-based alerts\n",
    "    if 'revenue_sum' in customer_features.columns:\n",
    "        low_revenue_customers = customer_features[customer_features['revenue_sum'] < customer_features['revenue_sum'].quantile(0.1)]\n",
    "        if len(low_revenue_customers) > 0:\n",
    "            alerts.append(f\"⚠️  {len(low_revenue_customers)} customers in bottom 10% revenue bracket\")\n",
    "    \n",
    "    # Engagement-based alerts\n",
    "    if 'engagement_score' in customer_features.columns:\n",
    "        low_engagement = customer_features[customer_features['engagement_score'] < customer_features['engagement_score'].quantile(0.2)]\n",
    "        if len(low_engagement) > 0:\n",
    "            alerts.append(f\"⚠️  {len(low_engagement)} customers with low engagement scores\")\n",
    "    \n",
    "    # Support ticket alerts\n",
    "    if 'support_tickets_sum' in customer_features.columns:\n",
    "        high_support = customer_features[customer_features['support_tickets_sum'] > customer_features['support_tickets_sum'].quantile(0.9)]\n",
    "        if len(high_support) > 0:\n",
    "            alerts.append(f\"⚠️  {len(high_support)} customers with high support ticket volume\")\n",
    "    \n",
    "    # Churn risk alerts (using recency if available)\n",
    "    if 'recency_days' in customer_features.columns:\n",
    "        churn_risk = customer_features[customer_features['recency_days'] > 90]\n",
    "        if len(churn_risk) > 0:\n",
    "            alerts.append(f\"🔴 {len(churn_risk)} customers at high churn risk (>90 days inactive)\")\n",
    "    \n",
    "    return alerts\n",
    "\n",
    "# Generate alerts\n",
    "alerts = generate_performance_alerts()\n",
    "\n",
    "print(\"Performance Alerts:\")\n",
    "if alerts:\n",
    "    for alert in alerts:\n",
    "        print(f\"  {alert}\")\n",
    "else:\n",
    "    print(\"  ✅ No critical alerts at this time\")"
   ]
  },
  {
   "cell_type": "markdown",
   "metadata": {},
   "source": [
    "### 8: Export and Summary Report"
   ]
  },
  {
   "cell_type": "code",
   "execution_count": 16,
   "metadata": {},
   "outputs": [
    {
     "name": "stdout",
     "output_type": "stream",
     "text": [
      "\n",
      "============================================================\n",
      "STEP 8: GENERATING SUMMARY REPORT\n",
      "============================================================\n",
      "SUBSCRIPTION ANALYTICS PLATFORM - PERFORMANCE SUMMARY\n",
      "============================================================\n",
      "Analysis Date: 2025-07-10 13:53:00\n",
      "Total Customers Analyzed: 99\n",
      "\n",
      "Customer Segment Breakdown:\n",
      "  Loyal Customers: 40 customers\n",
      "  Potential Loyalists: 19 customers\n",
      "  Promising: 18 customers\n",
      "  At Risk: 9 customers\n",
      "  New Customers: 7 customers\n",
      "  Champions: 6 customers\n",
      "\n",
      "Key Performance Indicators:\n",
      "  total_customers: 99\n",
      "\n",
      "Alerts & Notifications:\n",
      "  ⚠️  ⚠️  20 customers with low engagement scores\n",
      "  ⚠️  🔴 3 customers at high churn risk (>90 days inactive)\n",
      "\n",
      "Key Recommendations:\n",
      "  1. Focus on 'Loyal Customers' segment - highest revenue contributor\n",
      "  2. Implement retention campaign for 7 at-risk customers\n",
      "  3. Consider adding these data fields for enhanced analysis: revenue_sum, support_tickets_sum\n",
      "\n",
      "Dashboard Status: ✅ All dashboards generated successfully\n",
      "Available visualizations:\n",
      "  - Revenue Performance Dashboard\n",
      "  - Customer Engagement Dashboard\n",
      "  - Business Intelligence Summary Dashboard\n",
      "\n",
      "============================================================\n",
      "ANALYSIS COMPLETE\n",
      "============================================================\n"
     ]
    }
   ],
   "source": [
    "print(\"\\n\" + \"=\"*60)\n",
    "print(\"STEP 8: GENERATING SUMMARY REPORT\")\n",
    "print(\"=\"*60)\n",
    "\n",
    "def generate_summary_report():\n",
    "    # Check available columns\n",
    "    available_cols = customer_features.columns.tolist()\n",
    "    \n",
    "    # Find revenue columns (look for variations)\n",
    "    revenue_cols = [col for col in available_cols if 'revenue' in col.lower()]\n",
    "    revenue_sum_col = None\n",
    "    \n",
    "    # Priority order for revenue columns\n",
    "    for col in ['revenue_sum', 'total_revenue', 'revenue_total', 'revenue', 'revenue_mean', 'avg_revenue']:\n",
    "        if col in available_cols:\n",
    "            revenue_sum_col = col\n",
    "            break\n",
    "    \n",
    "    # If no specific revenue columns found, use the first revenue column\n",
    "    if not revenue_sum_col and revenue_cols:\n",
    "        revenue_sum_col = revenue_cols[0]\n",
    "    \n",
    "    # Find recency columns\n",
    "    recency_cols = [col for col in available_cols if 'recency' in col.lower()]\n",
    "    recency_col = recency_cols[0] if recency_cols else None\n",
    "    \n",
    "    # Find support columns\n",
    "    support_cols = [col for col in available_cols if 'support' in col.lower() or 'ticket' in col.lower()]\n",
    "    support_col = support_cols[0] if support_cols else None\n",
    "    \n",
    "    # Initialize report\n",
    "    report = {\n",
    "        'analysis_date': datetime.now().strftime('%Y-%m-%d %H:%M:%S'),\n",
    "        'total_customers': len(customer_features),\n",
    "        'customer_segments': {},\n",
    "        'kpis': {},\n",
    "        'alerts': [],\n",
    "        'recommendations': []\n",
    "    }\n",
    "    \n",
    "    # Customer segments breakdown\n",
    "    if 'customer_segment' in available_cols:\n",
    "        report['customer_segments'] = customer_features['customer_segment'].value_counts().to_dict()\n",
    "    else:\n",
    "        report['customer_segments'] = {'Unknown': len(customer_features)}\n",
    "    \n",
    "    # Add KPIs if available\n",
    "    try:\n",
    "        if 'kpis' in globals():\n",
    "            report['kpis'] = kpis\n",
    "    except:\n",
    "        report['kpis'] = {'status': 'KPIs not available'}\n",
    "    \n",
    "    # Add alerts if available\n",
    "    try:\n",
    "        if 'alerts' in globals():\n",
    "            report['alerts'] = alerts\n",
    "    except:\n",
    "        report['alerts'] = ['No alerts generated']\n",
    "    \n",
    "    # Generate recommendations based on available data\n",
    "    recommendations = []\n",
    "    \n",
    "    # Segment-based recommendations\n",
    "    if 'customer_segment' in available_cols and revenue_sum_col:\n",
    "        try:\n",
    "            segment_revenue = customer_features.groupby('customer_segment')[revenue_sum_col].sum()\n",
    "            top_segment = segment_revenue.idxmax()\n",
    "            recommendations.append(f\"Focus on '{top_segment}' segment - highest revenue contributor\")\n",
    "        except Exception as e:\n",
    "            recommendations.append(\"Revenue analysis by segment - data processing needed\")\n",
    "    \n",
    "    # Churn risk recommendations\n",
    "    if recency_col:\n",
    "        try:\n",
    "            churn_risk_count = len(customer_features[customer_features[recency_col] > 60])\n",
    "            if churn_risk_count > 0:\n",
    "                recommendations.append(f\"Implement retention campaign for {churn_risk_count} at-risk customers\")\n",
    "            else:\n",
    "                recommendations.append(\"Customer retention appears healthy - maintain current engagement strategies\")\n",
    "        except Exception as e:\n",
    "            recommendations.append(\"Churn risk analysis requires data review\")\n",
    "    \n",
    "    # Support optimization\n",
    "    if support_col:\n",
    "        try:\n",
    "            high_support_threshold = customer_features[support_col].quantile(0.8)\n",
    "            high_support_customers = len(customer_features[customer_features[support_col] > high_support_threshold])\n",
    "            if high_support_customers > 0:\n",
    "                recommendations.append(f\"Optimize support processes for {high_support_customers} high-maintenance customers\")\n",
    "            else:\n",
    "                recommendations.append(\"Support ticket distribution appears balanced\")\n",
    "        except Exception as e:\n",
    "            recommendations.append(\"Support optimization analysis requires data review\")\n",
    "    \n",
    "    # General recommendations based on available data\n",
    "    if not recommendations:\n",
    "        recommendations.append(\"Complete data analysis to generate specific recommendations\")\n",
    "        recommendations.append(\"Review customer segmentation strategy\")\n",
    "        recommendations.append(\"Implement customer health scoring system\")\n",
    "    \n",
    "    # Revenue-based recommendations\n",
    "    if revenue_sum_col:\n",
    "        try:\n",
    "            revenue_stats = customer_features[revenue_sum_col].describe()\n",
    "            if revenue_stats['std'] > revenue_stats['mean']:\n",
    "                recommendations.append(\"High revenue variance detected - investigate customer value drivers\")\n",
    "        except Exception as e:\n",
    "            pass\n",
    "    \n",
    "    # Add data quality recommendations\n",
    "    missing_cols = []\n",
    "    expected_cols = ['customer_segment', 'revenue_sum', 'recency_days', 'support_tickets_sum']\n",
    "    for col in expected_cols:\n",
    "        if col not in available_cols:\n",
    "            missing_cols.append(col)\n",
    "    \n",
    "    if missing_cols:\n",
    "        recommendations.append(f\"Consider adding these data fields for enhanced analysis: {', '.join(missing_cols)}\")\n",
    "    \n",
    "    report['recommendations'] = recommendations\n",
    "    \n",
    "    return report\n",
    "\n",
    "# Generate final report\n",
    "try:\n",
    "    final_report = generate_summary_report()\n",
    "    \n",
    "    print(\"SUBSCRIPTION ANALYTICS PLATFORM - PERFORMANCE SUMMARY\")\n",
    "    print(\"=\"*60)\n",
    "    print(f\"Analysis Date: {final_report['analysis_date']}\")\n",
    "    print(f\"Total Customers Analyzed: {final_report['total_customers']:,}\")\n",
    "    \n",
    "    print(\"\\nCustomer Segment Breakdown:\")\n",
    "    for segment, count in final_report['customer_segments'].items():\n",
    "        print(f\"  {segment}: {count:,} customers\")\n",
    "    \n",
    "    print(\"\\nKey Performance Indicators:\")\n",
    "    if isinstance(final_report['kpis'], dict) and final_report['kpis']:\n",
    "        for kpi, value in final_report['kpis'].items():\n",
    "            print(f\"  {kpi}: {value}\")\n",
    "    else:\n",
    "        print(\"  KPIs will be available once data processing is complete\")\n",
    "    \n",
    "    print(\"\\nAlerts & Notifications:\")\n",
    "    for alert in final_report['alerts']:\n",
    "        print(f\"  ⚠️  {alert}\")\n",
    "    \n",
    "    print(\"\\nKey Recommendations:\")\n",
    "    for i, rec in enumerate(final_report['recommendations'], 1):\n",
    "        print(f\"  {i}. {rec}\")\n",
    "    \n",
    "    print(\"\\nDashboard Status: ✅ All dashboards generated successfully\")\n",
    "    print(\"Available visualizations:\")\n",
    "    print(\"  - Revenue Performance Dashboard\")\n",
    "    print(\"  - Customer Engagement Dashboard\")\n",
    "    print(\"  - Business Intelligence Summary Dashboard\")\n",
    "    \n",
    "    print(\"\\n\" + \"=\"*60)\n",
    "    print(\"ANALYSIS COMPLETE\")\n",
    "    print(\"=\"*60)\n",
    "    \n",
    "except Exception as e:\n",
    "    print(f\"Error generating summary report: {e}\")\n",
    "    print(\"Please check your data structure and ensure required variables are defined\")\n",
    "    \n",
    "    # Basic fallback report\n",
    "    print(\"\\nBASIC REPORT:\")\n",
    "    print(f\"Total customers in dataset: {len(customer_features)}\")\n",
    "    print(f\"Available columns: {list(customer_features.columns)}\")\n",
    "    if 'customer_segment' in customer_features.columns:\n",
    "        print(\"Customer segments:\")\n",
    "        print(customer_features['customer_segment'].value_counts())"
   ]
  },
  {
   "cell_type": "markdown",
   "metadata": {},
   "source": [
    "### 9: Display Dashboards"
   ]
  },
  {
   "cell_type": "code",
   "execution_count": 23,
   "metadata": {},
   "outputs": [],
   "source": [
    "def create_engagement_dashboard_fixed():\n",
    "    \"\"\"\n",
    "    Create engagement dashboard with proper data validation\n",
    "    \"\"\"\n",
    "    # Check available columns\n",
    "    available_cols = customer_features.columns.tolist()\n",
    "    numeric_cols = customer_features.select_dtypes(include=['number']).columns.tolist()\n",
    "    \n",
    "    # Create subplots\n",
    "    fig = make_subplots(\n",
    "        rows=2, cols=2,\n",
    "        subplot_titles=('Usage Hours Distribution', 'Login Frequency by Segment',\n",
    "                       'Support Tickets Analysis', 'Engagement Score Overview'),\n",
    "        specs=[[{\"type\": \"xy\"}, {\"type\": \"xy\"}],\n",
    "               [{\"type\": \"xy\"}, {\"type\": \"xy\"}]]\n",
    "    )\n",
    "    \n",
    "    # 1. Usage Hours Distribution (use any numeric column as proxy)\n",
    "    usage_col = None\n",
    "    for col in ['usage_hours', 'hours_used', 'usage_time', 'active_hours']:\n",
    "        if col in available_cols:\n",
    "            usage_col = col\n",
    "            break\n",
    "    \n",
    "    if not usage_col and numeric_cols:\n",
    "        # Use first numeric column as proxy\n",
    "        usage_col = numeric_cols[0]\n",
    "        print(f\"Using {usage_col} as proxy for usage hours\")\n",
    "    \n",
    "    if usage_col:\n",
    "        fig.add_trace(\n",
    "            go.Histogram(\n",
    "                x=customer_features[usage_col].dropna(),\n",
    "                name='Usage Distribution',\n",
    "                nbinsx=20,\n",
    "                marker_color='lightblue'\n",
    "            ),\n",
    "            row=1, col=1\n",
    "        )\n",
    "    else:\n",
    "        # Add placeholder text\n",
    "        fig.add_annotation(\n",
    "            text=\"No usage data available\",\n",
    "            x=0.5, y=0.5,\n",
    "            xref=\"x\", yref=\"y\",\n",
    "            showarrow=False,\n",
    "            row=1, col=1\n",
    "        )\n",
    "    \n",
    "    # 2. Login Frequency by Segment\n",
    "    login_col = None\n",
    "    for col in ['login_frequency', 'logins', 'login_count', 'sessions']:\n",
    "        if col in available_cols:\n",
    "            login_col = col\n",
    "            break\n",
    "    \n",
    "    if login_col and 'customer_segment' in available_cols:\n",
    "        segment_login = customer_features.groupby('customer_segment')[login_col].mean().reset_index()\n",
    "        fig.add_trace(\n",
    "            go.Bar(\n",
    "                x=segment_login['customer_segment'],\n",
    "                y=segment_login[login_col],\n",
    "                name='Login Frequency',\n",
    "                marker_color='lightgreen'\n",
    "            ),\n",
    "            row=1, col=2\n",
    "        )\n",
    "    else:\n",
    "        # Use customer segment counts if no login data\n",
    "        if 'customer_segment' in available_cols:\n",
    "            segment_counts = customer_features['customer_segment'].value_counts()\n",
    "            fig.add_trace(\n",
    "                go.Bar(\n",
    "                    x=segment_counts.index,\n",
    "                    y=segment_counts.values,\n",
    "                    name='Customer Count by Segment',\n",
    "                    marker_color='lightgreen'\n",
    "                ),\n",
    "                row=1, col=2\n",
    "            )\n",
    "        else:\n",
    "            fig.add_annotation(\n",
    "                text=\"No segment data available\",\n",
    "                x=0.5, y=0.5,\n",
    "                xref=\"x2\", yref=\"y2\",\n",
    "                showarrow=False,\n",
    "                row=1, col=2\n",
    "            )\n",
    "    \n",
    "    # 3. Support Tickets Analysis\n",
    "    support_col = None\n",
    "    for col in ['support_tickets', 'tickets', 'support_count', 'issues']:\n",
    "        if col in available_cols:\n",
    "            support_col = col\n",
    "            break\n",
    "    \n",
    "    if support_col:\n",
    "        fig.add_trace(\n",
    "            go.Box(\n",
    "                y=customer_features[support_col].dropna(),\n",
    "                name='Support Tickets',\n",
    "                marker_color='lightcoral'\n",
    "            ),\n",
    "            row=2, col=1\n",
    "        )\n",
    "    else:\n",
    "        fig.add_annotation(\n",
    "            text=\"No support ticket data available\",\n",
    "            x=0.5, y=0.5,\n",
    "            xref=\"x3\", yref=\"y3\",\n",
    "            showarrow=False,\n",
    "            row=2, col=1\n",
    "        )\n",
    "    \n",
    "    # 4. Engagement Score Overview (create from available data)\n",
    "    engagement_cols = []\n",
    "    for col in numeric_cols:\n",
    "        if any(term in col.lower() for term in ['engagement', 'score', 'rating', 'activity']):\n",
    "            engagement_cols.append(col)\n",
    "    \n",
    "    if engagement_cols:\n",
    "        engagement_col = engagement_cols[0]\n",
    "        fig.add_trace(\n",
    "            go.Histogram(\n",
    "                x=customer_features[engagement_col].dropna(),\n",
    "                name='Engagement Score',\n",
    "                nbinsx=15,\n",
    "                marker_color='gold'\n",
    "            ),\n",
    "            row=2, col=2\n",
    "        )\n",
    "    elif len(numeric_cols) >= 2:\n",
    "        # Create synthetic engagement score from available numeric data\n",
    "        score_data = customer_features[numeric_cols[:2]].copy()\n",
    "        score_data = score_data.fillna(0)\n",
    "        \n",
    "        # Normalize and combine\n",
    "        for col in score_data.columns:\n",
    "            col_max = score_data[col].max()\n",
    "            if col_max > 0:\n",
    "                score_data[col] = score_data[col] / col_max\n",
    "        \n",
    "        synthetic_score = score_data.mean(axis=1)\n",
    "        fig.add_trace(\n",
    "            go.Histogram(\n",
    "                x=synthetic_score,\n",
    "                name='Synthetic Engagement Score',\n",
    "                nbinsx=15,\n",
    "                marker_color='gold'\n",
    "            ),\n",
    "            row=2, col=2\n",
    "        )\n",
    "    else:\n",
    "        fig.add_annotation(\n",
    "            text=\"No engagement data available\",\n",
    "            x=0.5, y=0.5,\n",
    "            xref=\"x4\", yref=\"y4\",\n",
    "            showarrow=False,\n",
    "            row=2, col=2\n",
    "        )\n",
    "    \n",
    "    # Update layout\n",
    "    fig.update_layout(\n",
    "        title_text=\"Customer Engagement Analytics Dashboard\",\n",
    "        showlegend=False,\n",
    "        height=800,\n",
    "        title_font_size=20\n",
    "    )\n",
    "    \n",
    "    return fig"
   ]
  },
  {
   "cell_type": "code",
   "execution_count": 24,
   "metadata": {},
   "outputs": [
    {
     "name": "stdout",
     "output_type": "stream",
     "text": [
      "\n",
      "============================================================\n",
      "STEP 9: DISPLAYING PERFORMANCE DASHBOARDS\n",
      "============================================================\n",
      "Rendering dashboards...\n"
     ]
    },
    {
     "data": {
      "application/vnd.plotly.v1+json": {
       "config": {
        "plotlyServerURL": "https://plot.ly"
       },
       "data": [
        {
         "name": "Revenue Distribution",
         "nbinsx": 30,
         "type": "histogram",
         "x": [
          1001,
          1002,
          1003,
          1004,
          1005,
          1006,
          1007,
          1008,
          1009,
          1010,
          1011,
          1012,
          1013,
          1014,
          1015,
          1016,
          1017,
          1018,
          1019,
          1020,
          1021,
          1022,
          1023,
          1024,
          1025,
          1026,
          1027,
          1028,
          1029,
          1030,
          1031,
          1032,
          1033,
          1034,
          1035,
          1036,
          1038,
          1039,
          1040,
          1041,
          1042,
          1043,
          1044,
          1045,
          1046,
          1047,
          1048,
          1049,
          1050,
          1051,
          1052,
          1053,
          1054,
          1055,
          1056,
          1057,
          1058,
          1059,
          1060,
          1061,
          1062,
          1063,
          1064,
          1065,
          1066,
          1067,
          1068,
          1070,
          1071,
          1072,
          1073,
          1074,
          1075,
          1076,
          1077,
          1078,
          1079,
          1080,
          1081,
          1082,
          1083,
          1084,
          1085,
          1086,
          1087,
          1088,
          1089,
          1090,
          1091,
          1092,
          1093,
          1094,
          1095,
          1096,
          1097,
          1098,
          1099,
          1100,
          1101
         ],
         "xaxis": "x",
         "yaxis": "y"
        },
        {
         "name": "Revenue by Segment",
         "type": "bar",
         "x": [
          "At Risk",
          "Champions",
          "Loyal Customers",
          "New Customers",
          "Potential Loyalists",
          "Promising"
         ],
         "xaxis": "x2",
         "y": [
          9097,
          6565,
          42087,
          7103,
          20660,
          18533
         ],
         "yaxis": "y2"
        },
        {
         "marker": {
          "opacity": 0.6,
          "size": 8
         },
         "mode": "markers",
         "name": "Revenue vs Engagement",
         "type": "scatter",
         "x": [
          0.0366247427408656,
          0.0339530917826292,
          0.0723199183039376,
          0.0352059083856353,
          0.0500054772650975,
          0.0362327977709684,
          0.0599869445230141,
          0.0430463837886251,
          0.0491059866218116,
          0.0380349930481235,
          0.0594698320237441,
          0.032910934270168,
          0.0304519414293701,
          0.0326014234469673,
          0.0470825452907282,
          0.0627793691102311,
          0.0503576607854789,
          0.0441377569964931,
          0.0374118459228101,
          0.0573846089063976,
          0.0607588845946622,
          0.0309097506578002,
          0.0308624628105207,
          0.0442158696122489,
          0.0658379356382111,
          0.0419469417436267,
          0.0246157091439245,
          0.0391451999429495,
          0.0889777632282842,
          0.0582935099436208,
          0.053639598242801,
          0.0430150302028926,
          0.0515053758940057,
          0.0321118336210898,
          0.0531592919810277,
          0.0492636877332131,
          0.0326682340014703,
          0.0836347859580796,
          0.0268508791017495,
          0.0388190470109249,
          0.0215965289879055,
          0.0453817973064601,
          0.0658828848389107,
          0.0674185309859735,
          0.0606218208371221,
          0.0431586523495504,
          0.0281182130256348,
          0.06923439988987,
          0.0307384315105985,
          0.0471527342404635,
          0.0384774689462527,
          0.0703790956134413,
          0.0283567424813858,
          0.0463864333836161,
          0.0597776569755353,
          0.0386933344246236,
          0.0404594191685694,
          0.0403853424975664,
          0.0939342439673791,
          0.0469184816277928,
          0.0370167993817827,
          0.0467307164229369,
          0.0696629142473437,
          0.0444598916207389,
          0.0506493930694635,
          0.0433554262211067,
          0.0456108727755271,
          0.0514609269106453,
          0.0575938742090227,
          0.0445871656516571,
          0.0412117654874346,
          0.0487226897313511,
          0.0359737738620171,
          0.0372865843025598,
          0.0365981951290651,
          0.0246181005728416,
          0.0308851272070327,
          0.0417198651869383,
          0.0400670650970323,
          0.0358656714691457,
          0.045443494547936,
          0.0431496081701661,
          0.0888534799155289,
          0.0408171036358748,
          0.0463627770290163,
          0.0405683341129839,
          0.0296087930352196,
          0.0474027063464323,
          0.0391222191022306,
          0.0636077767759212,
          0.0691091329758875,
          0.0460124111431819,
          0.0451226708220296,
          0.0357087127670701,
          0.0582495406500049,
          0.0723971393778226,
          0.0459901319953257,
          0.0682430088264458,
          0.0264556083682008
         ],
         "xaxis": "x3",
         "y": [
          1001,
          1002,
          1003,
          1004,
          1005,
          1006,
          1007,
          1008,
          1009,
          1010,
          1011,
          1012,
          1013,
          1014,
          1015,
          1016,
          1017,
          1018,
          1019,
          1020,
          1021,
          1022,
          1023,
          1024,
          1025,
          1026,
          1027,
          1028,
          1029,
          1030,
          1031,
          1032,
          1033,
          1034,
          1035,
          1036,
          1038,
          1039,
          1040,
          1041,
          1042,
          1043,
          1044,
          1045,
          1046,
          1047,
          1048,
          1049,
          1050,
          1051,
          1052,
          1053,
          1054,
          1055,
          1056,
          1057,
          1058,
          1059,
          1060,
          1061,
          1062,
          1063,
          1064,
          1065,
          1066,
          1067,
          1068,
          1070,
          1071,
          1072,
          1073,
          1074,
          1075,
          1076,
          1077,
          1078,
          1079,
          1080,
          1081,
          1082,
          1083,
          1084,
          1085,
          1086,
          1087,
          1088,
          1089,
          1090,
          1091,
          1092,
          1093,
          1094,
          1095,
          1096,
          1097,
          1098,
          1099,
          1100,
          1101
         ],
         "yaxis": "y3"
        },
        {
         "name": "Top 10 Customers",
         "type": "bar",
         "x": [
          "1101",
          "1100",
          "1099",
          "1098",
          "1097",
          "1096",
          "1095",
          "1094",
          "1093",
          "1092"
         ],
         "xaxis": "x4",
         "y": [
          1101,
          1100,
          1099,
          1098,
          1097,
          1096,
          1095,
          1094,
          1093,
          1092
         ],
         "yaxis": "y4"
        }
       ],
       "layout": {
        "annotations": [
         {
          "font": {
           "size": 16
          },
          "showarrow": false,
          "text": "Revenue Distribution",
          "x": 0.225,
          "xanchor": "center",
          "xref": "paper",
          "y": 1,
          "yanchor": "bottom",
          "yref": "paper"
         },
         {
          "font": {
           "size": 16
          },
          "showarrow": false,
          "text": "Revenue by Customer Segment",
          "x": 0.775,
          "xanchor": "center",
          "xref": "paper",
          "y": 1,
          "yanchor": "bottom",
          "yref": "paper"
         },
         {
          "font": {
           "size": 16
          },
          "showarrow": false,
          "text": "Revenue vs Engagement",
          "x": 0.225,
          "xanchor": "center",
          "xref": "paper",
          "y": 0.375,
          "yanchor": "bottom",
          "yref": "paper"
         },
         {
          "font": {
           "size": 16
          },
          "showarrow": false,
          "text": "Top Revenue Customers",
          "x": 0.775,
          "xanchor": "center",
          "xref": "paper",
          "y": 0.375,
          "yanchor": "bottom",
          "yref": "paper"
         }
        ],
        "height": 800,
        "showlegend": false,
        "template": {
         "data": {
          "bar": [
           {
            "error_x": {
             "color": "#2a3f5f"
            },
            "error_y": {
             "color": "#2a3f5f"
            },
            "marker": {
             "line": {
              "color": "#E5ECF6",
              "width": 0.5
             },
             "pattern": {
              "fillmode": "overlay",
              "size": 10,
              "solidity": 0.2
             }
            },
            "type": "bar"
           }
          ],
          "barpolar": [
           {
            "marker": {
             "line": {
              "color": "#E5ECF6",
              "width": 0.5
             },
             "pattern": {
              "fillmode": "overlay",
              "size": 10,
              "solidity": 0.2
             }
            },
            "type": "barpolar"
           }
          ],
          "carpet": [
           {
            "aaxis": {
             "endlinecolor": "#2a3f5f",
             "gridcolor": "white",
             "linecolor": "white",
             "minorgridcolor": "white",
             "startlinecolor": "#2a3f5f"
            },
            "baxis": {
             "endlinecolor": "#2a3f5f",
             "gridcolor": "white",
             "linecolor": "white",
             "minorgridcolor": "white",
             "startlinecolor": "#2a3f5f"
            },
            "type": "carpet"
           }
          ],
          "choropleth": [
           {
            "colorbar": {
             "outlinewidth": 0,
             "ticks": ""
            },
            "type": "choropleth"
           }
          ],
          "contour": [
           {
            "colorbar": {
             "outlinewidth": 0,
             "ticks": ""
            },
            "colorscale": [
             [
              0,
              "#0d0887"
             ],
             [
              0.1111111111111111,
              "#46039f"
             ],
             [
              0.2222222222222222,
              "#7201a8"
             ],
             [
              0.3333333333333333,
              "#9c179e"
             ],
             [
              0.4444444444444444,
              "#bd3786"
             ],
             [
              0.5555555555555556,
              "#d8576b"
             ],
             [
              0.6666666666666666,
              "#ed7953"
             ],
             [
              0.7777777777777778,
              "#fb9f3a"
             ],
             [
              0.8888888888888888,
              "#fdca26"
             ],
             [
              1,
              "#f0f921"
             ]
            ],
            "type": "contour"
           }
          ],
          "contourcarpet": [
           {
            "colorbar": {
             "outlinewidth": 0,
             "ticks": ""
            },
            "type": "contourcarpet"
           }
          ],
          "heatmap": [
           {
            "colorbar": {
             "outlinewidth": 0,
             "ticks": ""
            },
            "colorscale": [
             [
              0,
              "#0d0887"
             ],
             [
              0.1111111111111111,
              "#46039f"
             ],
             [
              0.2222222222222222,
              "#7201a8"
             ],
             [
              0.3333333333333333,
              "#9c179e"
             ],
             [
              0.4444444444444444,
              "#bd3786"
             ],
             [
              0.5555555555555556,
              "#d8576b"
             ],
             [
              0.6666666666666666,
              "#ed7953"
             ],
             [
              0.7777777777777778,
              "#fb9f3a"
             ],
             [
              0.8888888888888888,
              "#fdca26"
             ],
             [
              1,
              "#f0f921"
             ]
            ],
            "type": "heatmap"
           }
          ],
          "heatmapgl": [
           {
            "colorbar": {
             "outlinewidth": 0,
             "ticks": ""
            },
            "colorscale": [
             [
              0,
              "#0d0887"
             ],
             [
              0.1111111111111111,
              "#46039f"
             ],
             [
              0.2222222222222222,
              "#7201a8"
             ],
             [
              0.3333333333333333,
              "#9c179e"
             ],
             [
              0.4444444444444444,
              "#bd3786"
             ],
             [
              0.5555555555555556,
              "#d8576b"
             ],
             [
              0.6666666666666666,
              "#ed7953"
             ],
             [
              0.7777777777777778,
              "#fb9f3a"
             ],
             [
              0.8888888888888888,
              "#fdca26"
             ],
             [
              1,
              "#f0f921"
             ]
            ],
            "type": "heatmapgl"
           }
          ],
          "histogram": [
           {
            "marker": {
             "pattern": {
              "fillmode": "overlay",
              "size": 10,
              "solidity": 0.2
             }
            },
            "type": "histogram"
           }
          ],
          "histogram2d": [
           {
            "colorbar": {
             "outlinewidth": 0,
             "ticks": ""
            },
            "colorscale": [
             [
              0,
              "#0d0887"
             ],
             [
              0.1111111111111111,
              "#46039f"
             ],
             [
              0.2222222222222222,
              "#7201a8"
             ],
             [
              0.3333333333333333,
              "#9c179e"
             ],
             [
              0.4444444444444444,
              "#bd3786"
             ],
             [
              0.5555555555555556,
              "#d8576b"
             ],
             [
              0.6666666666666666,
              "#ed7953"
             ],
             [
              0.7777777777777778,
              "#fb9f3a"
             ],
             [
              0.8888888888888888,
              "#fdca26"
             ],
             [
              1,
              "#f0f921"
             ]
            ],
            "type": "histogram2d"
           }
          ],
          "histogram2dcontour": [
           {
            "colorbar": {
             "outlinewidth": 0,
             "ticks": ""
            },
            "colorscale": [
             [
              0,
              "#0d0887"
             ],
             [
              0.1111111111111111,
              "#46039f"
             ],
             [
              0.2222222222222222,
              "#7201a8"
             ],
             [
              0.3333333333333333,
              "#9c179e"
             ],
             [
              0.4444444444444444,
              "#bd3786"
             ],
             [
              0.5555555555555556,
              "#d8576b"
             ],
             [
              0.6666666666666666,
              "#ed7953"
             ],
             [
              0.7777777777777778,
              "#fb9f3a"
             ],
             [
              0.8888888888888888,
              "#fdca26"
             ],
             [
              1,
              "#f0f921"
             ]
            ],
            "type": "histogram2dcontour"
           }
          ],
          "mesh3d": [
           {
            "colorbar": {
             "outlinewidth": 0,
             "ticks": ""
            },
            "type": "mesh3d"
           }
          ],
          "parcoords": [
           {
            "line": {
             "colorbar": {
              "outlinewidth": 0,
              "ticks": ""
             }
            },
            "type": "parcoords"
           }
          ],
          "pie": [
           {
            "automargin": true,
            "type": "pie"
           }
          ],
          "scatter": [
           {
            "marker": {
             "colorbar": {
              "outlinewidth": 0,
              "ticks": ""
             }
            },
            "type": "scatter"
           }
          ],
          "scatter3d": [
           {
            "line": {
             "colorbar": {
              "outlinewidth": 0,
              "ticks": ""
             }
            },
            "marker": {
             "colorbar": {
              "outlinewidth": 0,
              "ticks": ""
             }
            },
            "type": "scatter3d"
           }
          ],
          "scattercarpet": [
           {
            "marker": {
             "colorbar": {
              "outlinewidth": 0,
              "ticks": ""
             }
            },
            "type": "scattercarpet"
           }
          ],
          "scattergeo": [
           {
            "marker": {
             "colorbar": {
              "outlinewidth": 0,
              "ticks": ""
             }
            },
            "type": "scattergeo"
           }
          ],
          "scattergl": [
           {
            "marker": {
             "colorbar": {
              "outlinewidth": 0,
              "ticks": ""
             }
            },
            "type": "scattergl"
           }
          ],
          "scattermapbox": [
           {
            "marker": {
             "colorbar": {
              "outlinewidth": 0,
              "ticks": ""
             }
            },
            "type": "scattermapbox"
           }
          ],
          "scatterpolar": [
           {
            "marker": {
             "colorbar": {
              "outlinewidth": 0,
              "ticks": ""
             }
            },
            "type": "scatterpolar"
           }
          ],
          "scatterpolargl": [
           {
            "marker": {
             "colorbar": {
              "outlinewidth": 0,
              "ticks": ""
             }
            },
            "type": "scatterpolargl"
           }
          ],
          "scatterternary": [
           {
            "marker": {
             "colorbar": {
              "outlinewidth": 0,
              "ticks": ""
             }
            },
            "type": "scatterternary"
           }
          ],
          "surface": [
           {
            "colorbar": {
             "outlinewidth": 0,
             "ticks": ""
            },
            "colorscale": [
             [
              0,
              "#0d0887"
             ],
             [
              0.1111111111111111,
              "#46039f"
             ],
             [
              0.2222222222222222,
              "#7201a8"
             ],
             [
              0.3333333333333333,
              "#9c179e"
             ],
             [
              0.4444444444444444,
              "#bd3786"
             ],
             [
              0.5555555555555556,
              "#d8576b"
             ],
             [
              0.6666666666666666,
              "#ed7953"
             ],
             [
              0.7777777777777778,
              "#fb9f3a"
             ],
             [
              0.8888888888888888,
              "#fdca26"
             ],
             [
              1,
              "#f0f921"
             ]
            ],
            "type": "surface"
           }
          ],
          "table": [
           {
            "cells": {
             "fill": {
              "color": "#EBF0F8"
             },
             "line": {
              "color": "white"
             }
            },
            "header": {
             "fill": {
              "color": "#C8D4E3"
             },
             "line": {
              "color": "white"
             }
            },
            "type": "table"
           }
          ]
         },
         "layout": {
          "annotationdefaults": {
           "arrowcolor": "#2a3f5f",
           "arrowhead": 0,
           "arrowwidth": 1
          },
          "autotypenumbers": "strict",
          "coloraxis": {
           "colorbar": {
            "outlinewidth": 0,
            "ticks": ""
           }
          },
          "colorscale": {
           "diverging": [
            [
             0,
             "#8e0152"
            ],
            [
             0.1,
             "#c51b7d"
            ],
            [
             0.2,
             "#de77ae"
            ],
            [
             0.3,
             "#f1b6da"
            ],
            [
             0.4,
             "#fde0ef"
            ],
            [
             0.5,
             "#f7f7f7"
            ],
            [
             0.6,
             "#e6f5d0"
            ],
            [
             0.7,
             "#b8e186"
            ],
            [
             0.8,
             "#7fbc41"
            ],
            [
             0.9,
             "#4d9221"
            ],
            [
             1,
             "#276419"
            ]
           ],
           "sequential": [
            [
             0,
             "#0d0887"
            ],
            [
             0.1111111111111111,
             "#46039f"
            ],
            [
             0.2222222222222222,
             "#7201a8"
            ],
            [
             0.3333333333333333,
             "#9c179e"
            ],
            [
             0.4444444444444444,
             "#bd3786"
            ],
            [
             0.5555555555555556,
             "#d8576b"
            ],
            [
             0.6666666666666666,
             "#ed7953"
            ],
            [
             0.7777777777777778,
             "#fb9f3a"
            ],
            [
             0.8888888888888888,
             "#fdca26"
            ],
            [
             1,
             "#f0f921"
            ]
           ],
           "sequentialminus": [
            [
             0,
             "#0d0887"
            ],
            [
             0.1111111111111111,
             "#46039f"
            ],
            [
             0.2222222222222222,
             "#7201a8"
            ],
            [
             0.3333333333333333,
             "#9c179e"
            ],
            [
             0.4444444444444444,
             "#bd3786"
            ],
            [
             0.5555555555555556,
             "#d8576b"
            ],
            [
             0.6666666666666666,
             "#ed7953"
            ],
            [
             0.7777777777777778,
             "#fb9f3a"
            ],
            [
             0.8888888888888888,
             "#fdca26"
            ],
            [
             1,
             "#f0f921"
            ]
           ]
          },
          "colorway": [
           "#636efa",
           "#EF553B",
           "#00cc96",
           "#ab63fa",
           "#FFA15A",
           "#19d3f3",
           "#FF6692",
           "#B6E880",
           "#FF97FF",
           "#FECB52"
          ],
          "font": {
           "color": "#2a3f5f"
          },
          "geo": {
           "bgcolor": "white",
           "lakecolor": "white",
           "landcolor": "#E5ECF6",
           "showlakes": true,
           "showland": true,
           "subunitcolor": "white"
          },
          "hoverlabel": {
           "align": "left"
          },
          "hovermode": "closest",
          "mapbox": {
           "style": "light"
          },
          "paper_bgcolor": "white",
          "plot_bgcolor": "#E5ECF6",
          "polar": {
           "angularaxis": {
            "gridcolor": "white",
            "linecolor": "white",
            "ticks": ""
           },
           "bgcolor": "#E5ECF6",
           "radialaxis": {
            "gridcolor": "white",
            "linecolor": "white",
            "ticks": ""
           }
          },
          "scene": {
           "xaxis": {
            "backgroundcolor": "#E5ECF6",
            "gridcolor": "white",
            "gridwidth": 2,
            "linecolor": "white",
            "showbackground": true,
            "ticks": "",
            "zerolinecolor": "white"
           },
           "yaxis": {
            "backgroundcolor": "#E5ECF6",
            "gridcolor": "white",
            "gridwidth": 2,
            "linecolor": "white",
            "showbackground": true,
            "ticks": "",
            "zerolinecolor": "white"
           },
           "zaxis": {
            "backgroundcolor": "#E5ECF6",
            "gridcolor": "white",
            "gridwidth": 2,
            "linecolor": "white",
            "showbackground": true,
            "ticks": "",
            "zerolinecolor": "white"
           }
          },
          "shapedefaults": {
           "line": {
            "color": "#2a3f5f"
           }
          },
          "ternary": {
           "aaxis": {
            "gridcolor": "white",
            "linecolor": "white",
            "ticks": ""
           },
           "baxis": {
            "gridcolor": "white",
            "linecolor": "white",
            "ticks": ""
           },
           "bgcolor": "#E5ECF6",
           "caxis": {
            "gridcolor": "white",
            "linecolor": "white",
            "ticks": ""
           }
          },
          "title": {
           "x": 0.05
          },
          "xaxis": {
           "automargin": true,
           "gridcolor": "white",
           "linecolor": "white",
           "ticks": "",
           "title": {
            "standoff": 15
           },
           "zerolinecolor": "white",
           "zerolinewidth": 2
          },
          "yaxis": {
           "automargin": true,
           "gridcolor": "white",
           "linecolor": "white",
           "ticks": "",
           "title": {
            "standoff": 15
           },
           "zerolinecolor": "white",
           "zerolinewidth": 2
          }
         }
        },
        "title": {
         "font": {
          "size": 20
         },
         "text": "Revenue Performance Dashboard"
        },
        "xaxis": {
         "anchor": "y",
         "domain": [
          0,
          0.45
         ]
        },
        "xaxis2": {
         "anchor": "y2",
         "domain": [
          0.55,
          1
         ]
        },
        "xaxis3": {
         "anchor": "y3",
         "domain": [
          0,
          0.45
         ]
        },
        "xaxis4": {
         "anchor": "y4",
         "domain": [
          0.55,
          1
         ]
        },
        "yaxis": {
         "anchor": "x",
         "domain": [
          0.625,
          1
         ]
        },
        "yaxis2": {
         "anchor": "x2",
         "domain": [
          0.625,
          1
         ]
        },
        "yaxis3": {
         "anchor": "x3",
         "domain": [
          0,
          0.375
         ]
        },
        "yaxis4": {
         "anchor": "x4",
         "domain": [
          0,
          0.375
         ]
        }
       }
      },
      "text/html": [
       "<div>                            <div id=\"3d9ca0fe-5223-4831-81b4-d6b72f4875ee\" class=\"plotly-graph-div\" style=\"height:800px; width:100%;\"></div>            <script type=\"text/javascript\">                require([\"plotly\"], function(Plotly) {                    window.PLOTLYENV=window.PLOTLYENV || {};                                    if (document.getElementById(\"3d9ca0fe-5223-4831-81b4-d6b72f4875ee\")) {                    Plotly.newPlot(                        \"3d9ca0fe-5223-4831-81b4-d6b72f4875ee\",                        [{\"name\":\"Revenue Distribution\",\"nbinsx\":30,\"x\":[1001,1002,1003,1004,1005,1006,1007,1008,1009,1010,1011,1012,1013,1014,1015,1016,1017,1018,1019,1020,1021,1022,1023,1024,1025,1026,1027,1028,1029,1030,1031,1032,1033,1034,1035,1036,1038,1039,1040,1041,1042,1043,1044,1045,1046,1047,1048,1049,1050,1051,1052,1053,1054,1055,1056,1057,1058,1059,1060,1061,1062,1063,1064,1065,1066,1067,1068,1070,1071,1072,1073,1074,1075,1076,1077,1078,1079,1080,1081,1082,1083,1084,1085,1086,1087,1088,1089,1090,1091,1092,1093,1094,1095,1096,1097,1098,1099,1100,1101],\"type\":\"histogram\",\"xaxis\":\"x\",\"yaxis\":\"y\"},{\"name\":\"Revenue by Segment\",\"x\":[\"At Risk\",\"Champions\",\"Loyal Customers\",\"New Customers\",\"Potential Loyalists\",\"Promising\"],\"y\":[9097,6565,42087,7103,20660,18533],\"type\":\"bar\",\"xaxis\":\"x2\",\"yaxis\":\"y2\"},{\"marker\":{\"opacity\":0.6,\"size\":8},\"mode\":\"markers\",\"name\":\"Revenue vs Engagement\",\"x\":[0.0366247427408656,0.0339530917826292,0.0723199183039376,0.0352059083856353,0.0500054772650975,0.0362327977709684,0.0599869445230141,0.0430463837886251,0.0491059866218116,0.0380349930481235,0.0594698320237441,0.032910934270168,0.0304519414293701,0.0326014234469673,0.0470825452907282,0.0627793691102311,0.0503576607854789,0.0441377569964931,0.0374118459228101,0.0573846089063976,0.0607588845946622,0.0309097506578002,0.0308624628105207,0.0442158696122489,0.0658379356382111,0.0419469417436267,0.0246157091439245,0.0391451999429495,0.0889777632282842,0.0582935099436208,0.053639598242801,0.0430150302028926,0.0515053758940057,0.0321118336210898,0.0531592919810277,0.0492636877332131,0.0326682340014703,0.0836347859580796,0.0268508791017495,0.0388190470109249,0.0215965289879055,0.0453817973064601,0.0658828848389107,0.0674185309859735,0.0606218208371221,0.0431586523495504,0.0281182130256348,0.06923439988987,0.0307384315105985,0.0471527342404635,0.0384774689462527,0.0703790956134413,0.0283567424813858,0.0463864333836161,0.0597776569755353,0.0386933344246236,0.0404594191685694,0.0403853424975664,0.0939342439673791,0.0469184816277928,0.0370167993817827,0.0467307164229369,0.0696629142473437,0.0444598916207389,0.0506493930694635,0.0433554262211067,0.0456108727755271,0.0514609269106453,0.0575938742090227,0.0445871656516571,0.0412117654874346,0.0487226897313511,0.0359737738620171,0.0372865843025598,0.0365981951290651,0.0246181005728416,0.0308851272070327,0.0417198651869383,0.0400670650970323,0.0358656714691457,0.045443494547936,0.0431496081701661,0.0888534799155289,0.0408171036358748,0.0463627770290163,0.0405683341129839,0.0296087930352196,0.0474027063464323,0.0391222191022306,0.0636077767759212,0.0691091329758875,0.0460124111431819,0.0451226708220296,0.0357087127670701,0.0582495406500049,0.0723971393778226,0.0459901319953257,0.0682430088264458,0.0264556083682008],\"y\":[1001,1002,1003,1004,1005,1006,1007,1008,1009,1010,1011,1012,1013,1014,1015,1016,1017,1018,1019,1020,1021,1022,1023,1024,1025,1026,1027,1028,1029,1030,1031,1032,1033,1034,1035,1036,1038,1039,1040,1041,1042,1043,1044,1045,1046,1047,1048,1049,1050,1051,1052,1053,1054,1055,1056,1057,1058,1059,1060,1061,1062,1063,1064,1065,1066,1067,1068,1070,1071,1072,1073,1074,1075,1076,1077,1078,1079,1080,1081,1082,1083,1084,1085,1086,1087,1088,1089,1090,1091,1092,1093,1094,1095,1096,1097,1098,1099,1100,1101],\"type\":\"scatter\",\"xaxis\":\"x3\",\"yaxis\":\"y3\"},{\"name\":\"Top 10 Customers\",\"x\":[\"1101\",\"1100\",\"1099\",\"1098\",\"1097\",\"1096\",\"1095\",\"1094\",\"1093\",\"1092\"],\"y\":[1101,1100,1099,1098,1097,1096,1095,1094,1093,1092],\"type\":\"bar\",\"xaxis\":\"x4\",\"yaxis\":\"y4\"}],                        {\"template\":{\"data\":{\"bar\":[{\"error_x\":{\"color\":\"#2a3f5f\"},\"error_y\":{\"color\":\"#2a3f5f\"},\"marker\":{\"line\":{\"color\":\"#E5ECF6\",\"width\":0.5},\"pattern\":{\"fillmode\":\"overlay\",\"size\":10,\"solidity\":0.2}},\"type\":\"bar\"}],\"barpolar\":[{\"marker\":{\"line\":{\"color\":\"#E5ECF6\",\"width\":0.5},\"pattern\":{\"fillmode\":\"overlay\",\"size\":10,\"solidity\":0.2}},\"type\":\"barpolar\"}],\"carpet\":[{\"aaxis\":{\"endlinecolor\":\"#2a3f5f\",\"gridcolor\":\"white\",\"linecolor\":\"white\",\"minorgridcolor\":\"white\",\"startlinecolor\":\"#2a3f5f\"},\"baxis\":{\"endlinecolor\":\"#2a3f5f\",\"gridcolor\":\"white\",\"linecolor\":\"white\",\"minorgridcolor\":\"white\",\"startlinecolor\":\"#2a3f5f\"},\"type\":\"carpet\"}],\"choropleth\":[{\"colorbar\":{\"outlinewidth\":0,\"ticks\":\"\"},\"type\":\"choropleth\"}],\"contour\":[{\"colorbar\":{\"outlinewidth\":0,\"ticks\":\"\"},\"colorscale\":[[0.0,\"#0d0887\"],[0.1111111111111111,\"#46039f\"],[0.2222222222222222,\"#7201a8\"],[0.3333333333333333,\"#9c179e\"],[0.4444444444444444,\"#bd3786\"],[0.5555555555555556,\"#d8576b\"],[0.6666666666666666,\"#ed7953\"],[0.7777777777777778,\"#fb9f3a\"],[0.8888888888888888,\"#fdca26\"],[1.0,\"#f0f921\"]],\"type\":\"contour\"}],\"contourcarpet\":[{\"colorbar\":{\"outlinewidth\":0,\"ticks\":\"\"},\"type\":\"contourcarpet\"}],\"heatmap\":[{\"colorbar\":{\"outlinewidth\":0,\"ticks\":\"\"},\"colorscale\":[[0.0,\"#0d0887\"],[0.1111111111111111,\"#46039f\"],[0.2222222222222222,\"#7201a8\"],[0.3333333333333333,\"#9c179e\"],[0.4444444444444444,\"#bd3786\"],[0.5555555555555556,\"#d8576b\"],[0.6666666666666666,\"#ed7953\"],[0.7777777777777778,\"#fb9f3a\"],[0.8888888888888888,\"#fdca26\"],[1.0,\"#f0f921\"]],\"type\":\"heatmap\"}],\"heatmapgl\":[{\"colorbar\":{\"outlinewidth\":0,\"ticks\":\"\"},\"colorscale\":[[0.0,\"#0d0887\"],[0.1111111111111111,\"#46039f\"],[0.2222222222222222,\"#7201a8\"],[0.3333333333333333,\"#9c179e\"],[0.4444444444444444,\"#bd3786\"],[0.5555555555555556,\"#d8576b\"],[0.6666666666666666,\"#ed7953\"],[0.7777777777777778,\"#fb9f3a\"],[0.8888888888888888,\"#fdca26\"],[1.0,\"#f0f921\"]],\"type\":\"heatmapgl\"}],\"histogram\":[{\"marker\":{\"pattern\":{\"fillmode\":\"overlay\",\"size\":10,\"solidity\":0.2}},\"type\":\"histogram\"}],\"histogram2d\":[{\"colorbar\":{\"outlinewidth\":0,\"ticks\":\"\"},\"colorscale\":[[0.0,\"#0d0887\"],[0.1111111111111111,\"#46039f\"],[0.2222222222222222,\"#7201a8\"],[0.3333333333333333,\"#9c179e\"],[0.4444444444444444,\"#bd3786\"],[0.5555555555555556,\"#d8576b\"],[0.6666666666666666,\"#ed7953\"],[0.7777777777777778,\"#fb9f3a\"],[0.8888888888888888,\"#fdca26\"],[1.0,\"#f0f921\"]],\"type\":\"histogram2d\"}],\"histogram2dcontour\":[{\"colorbar\":{\"outlinewidth\":0,\"ticks\":\"\"},\"colorscale\":[[0.0,\"#0d0887\"],[0.1111111111111111,\"#46039f\"],[0.2222222222222222,\"#7201a8\"],[0.3333333333333333,\"#9c179e\"],[0.4444444444444444,\"#bd3786\"],[0.5555555555555556,\"#d8576b\"],[0.6666666666666666,\"#ed7953\"],[0.7777777777777778,\"#fb9f3a\"],[0.8888888888888888,\"#fdca26\"],[1.0,\"#f0f921\"]],\"type\":\"histogram2dcontour\"}],\"mesh3d\":[{\"colorbar\":{\"outlinewidth\":0,\"ticks\":\"\"},\"type\":\"mesh3d\"}],\"parcoords\":[{\"line\":{\"colorbar\":{\"outlinewidth\":0,\"ticks\":\"\"}},\"type\":\"parcoords\"}],\"pie\":[{\"automargin\":true,\"type\":\"pie\"}],\"scatter\":[{\"marker\":{\"colorbar\":{\"outlinewidth\":0,\"ticks\":\"\"}},\"type\":\"scatter\"}],\"scatter3d\":[{\"line\":{\"colorbar\":{\"outlinewidth\":0,\"ticks\":\"\"}},\"marker\":{\"colorbar\":{\"outlinewidth\":0,\"ticks\":\"\"}},\"type\":\"scatter3d\"}],\"scattercarpet\":[{\"marker\":{\"colorbar\":{\"outlinewidth\":0,\"ticks\":\"\"}},\"type\":\"scattercarpet\"}],\"scattergeo\":[{\"marker\":{\"colorbar\":{\"outlinewidth\":0,\"ticks\":\"\"}},\"type\":\"scattergeo\"}],\"scattergl\":[{\"marker\":{\"colorbar\":{\"outlinewidth\":0,\"ticks\":\"\"}},\"type\":\"scattergl\"}],\"scattermapbox\":[{\"marker\":{\"colorbar\":{\"outlinewidth\":0,\"ticks\":\"\"}},\"type\":\"scattermapbox\"}],\"scatterpolar\":[{\"marker\":{\"colorbar\":{\"outlinewidth\":0,\"ticks\":\"\"}},\"type\":\"scatterpolar\"}],\"scatterpolargl\":[{\"marker\":{\"colorbar\":{\"outlinewidth\":0,\"ticks\":\"\"}},\"type\":\"scatterpolargl\"}],\"scatterternary\":[{\"marker\":{\"colorbar\":{\"outlinewidth\":0,\"ticks\":\"\"}},\"type\":\"scatterternary\"}],\"surface\":[{\"colorbar\":{\"outlinewidth\":0,\"ticks\":\"\"},\"colorscale\":[[0.0,\"#0d0887\"],[0.1111111111111111,\"#46039f\"],[0.2222222222222222,\"#7201a8\"],[0.3333333333333333,\"#9c179e\"],[0.4444444444444444,\"#bd3786\"],[0.5555555555555556,\"#d8576b\"],[0.6666666666666666,\"#ed7953\"],[0.7777777777777778,\"#fb9f3a\"],[0.8888888888888888,\"#fdca26\"],[1.0,\"#f0f921\"]],\"type\":\"surface\"}],\"table\":[{\"cells\":{\"fill\":{\"color\":\"#EBF0F8\"},\"line\":{\"color\":\"white\"}},\"header\":{\"fill\":{\"color\":\"#C8D4E3\"},\"line\":{\"color\":\"white\"}},\"type\":\"table\"}]},\"layout\":{\"annotationdefaults\":{\"arrowcolor\":\"#2a3f5f\",\"arrowhead\":0,\"arrowwidth\":1},\"autotypenumbers\":\"strict\",\"coloraxis\":{\"colorbar\":{\"outlinewidth\":0,\"ticks\":\"\"}},\"colorscale\":{\"diverging\":[[0,\"#8e0152\"],[0.1,\"#c51b7d\"],[0.2,\"#de77ae\"],[0.3,\"#f1b6da\"],[0.4,\"#fde0ef\"],[0.5,\"#f7f7f7\"],[0.6,\"#e6f5d0\"],[0.7,\"#b8e186\"],[0.8,\"#7fbc41\"],[0.9,\"#4d9221\"],[1,\"#276419\"]],\"sequential\":[[0.0,\"#0d0887\"],[0.1111111111111111,\"#46039f\"],[0.2222222222222222,\"#7201a8\"],[0.3333333333333333,\"#9c179e\"],[0.4444444444444444,\"#bd3786\"],[0.5555555555555556,\"#d8576b\"],[0.6666666666666666,\"#ed7953\"],[0.7777777777777778,\"#fb9f3a\"],[0.8888888888888888,\"#fdca26\"],[1.0,\"#f0f921\"]],\"sequentialminus\":[[0.0,\"#0d0887\"],[0.1111111111111111,\"#46039f\"],[0.2222222222222222,\"#7201a8\"],[0.3333333333333333,\"#9c179e\"],[0.4444444444444444,\"#bd3786\"],[0.5555555555555556,\"#d8576b\"],[0.6666666666666666,\"#ed7953\"],[0.7777777777777778,\"#fb9f3a\"],[0.8888888888888888,\"#fdca26\"],[1.0,\"#f0f921\"]]},\"colorway\":[\"#636efa\",\"#EF553B\",\"#00cc96\",\"#ab63fa\",\"#FFA15A\",\"#19d3f3\",\"#FF6692\",\"#B6E880\",\"#FF97FF\",\"#FECB52\"],\"font\":{\"color\":\"#2a3f5f\"},\"geo\":{\"bgcolor\":\"white\",\"lakecolor\":\"white\",\"landcolor\":\"#E5ECF6\",\"showlakes\":true,\"showland\":true,\"subunitcolor\":\"white\"},\"hoverlabel\":{\"align\":\"left\"},\"hovermode\":\"closest\",\"mapbox\":{\"style\":\"light\"},\"paper_bgcolor\":\"white\",\"plot_bgcolor\":\"#E5ECF6\",\"polar\":{\"angularaxis\":{\"gridcolor\":\"white\",\"linecolor\":\"white\",\"ticks\":\"\"},\"bgcolor\":\"#E5ECF6\",\"radialaxis\":{\"gridcolor\":\"white\",\"linecolor\":\"white\",\"ticks\":\"\"}},\"scene\":{\"xaxis\":{\"backgroundcolor\":\"#E5ECF6\",\"gridcolor\":\"white\",\"gridwidth\":2,\"linecolor\":\"white\",\"showbackground\":true,\"ticks\":\"\",\"zerolinecolor\":\"white\"},\"yaxis\":{\"backgroundcolor\":\"#E5ECF6\",\"gridcolor\":\"white\",\"gridwidth\":2,\"linecolor\":\"white\",\"showbackground\":true,\"ticks\":\"\",\"zerolinecolor\":\"white\"},\"zaxis\":{\"backgroundcolor\":\"#E5ECF6\",\"gridcolor\":\"white\",\"gridwidth\":2,\"linecolor\":\"white\",\"showbackground\":true,\"ticks\":\"\",\"zerolinecolor\":\"white\"}},\"shapedefaults\":{\"line\":{\"color\":\"#2a3f5f\"}},\"ternary\":{\"aaxis\":{\"gridcolor\":\"white\",\"linecolor\":\"white\",\"ticks\":\"\"},\"baxis\":{\"gridcolor\":\"white\",\"linecolor\":\"white\",\"ticks\":\"\"},\"bgcolor\":\"#E5ECF6\",\"caxis\":{\"gridcolor\":\"white\",\"linecolor\":\"white\",\"ticks\":\"\"}},\"title\":{\"x\":0.05},\"xaxis\":{\"automargin\":true,\"gridcolor\":\"white\",\"linecolor\":\"white\",\"ticks\":\"\",\"title\":{\"standoff\":15},\"zerolinecolor\":\"white\",\"zerolinewidth\":2},\"yaxis\":{\"automargin\":true,\"gridcolor\":\"white\",\"linecolor\":\"white\",\"ticks\":\"\",\"title\":{\"standoff\":15},\"zerolinecolor\":\"white\",\"zerolinewidth\":2}}},\"xaxis\":{\"anchor\":\"y\",\"domain\":[0.0,0.45]},\"yaxis\":{\"anchor\":\"x\",\"domain\":[0.625,1.0]},\"xaxis2\":{\"anchor\":\"y2\",\"domain\":[0.55,1.0]},\"yaxis2\":{\"anchor\":\"x2\",\"domain\":[0.625,1.0]},\"xaxis3\":{\"anchor\":\"y3\",\"domain\":[0.0,0.45]},\"yaxis3\":{\"anchor\":\"x3\",\"domain\":[0.0,0.375]},\"xaxis4\":{\"anchor\":\"y4\",\"domain\":[0.55,1.0]},\"yaxis4\":{\"anchor\":\"x4\",\"domain\":[0.0,0.375]},\"annotations\":[{\"font\":{\"size\":16},\"showarrow\":false,\"text\":\"Revenue Distribution\",\"x\":0.225,\"xanchor\":\"center\",\"xref\":\"paper\",\"y\":1.0,\"yanchor\":\"bottom\",\"yref\":\"paper\"},{\"font\":{\"size\":16},\"showarrow\":false,\"text\":\"Revenue by Customer Segment\",\"x\":0.775,\"xanchor\":\"center\",\"xref\":\"paper\",\"y\":1.0,\"yanchor\":\"bottom\",\"yref\":\"paper\"},{\"font\":{\"size\":16},\"showarrow\":false,\"text\":\"Revenue vs Engagement\",\"x\":0.225,\"xanchor\":\"center\",\"xref\":\"paper\",\"y\":0.375,\"yanchor\":\"bottom\",\"yref\":\"paper\"},{\"font\":{\"size\":16},\"showarrow\":false,\"text\":\"Top Revenue Customers\",\"x\":0.775,\"xanchor\":\"center\",\"xref\":\"paper\",\"y\":0.375,\"yanchor\":\"bottom\",\"yref\":\"paper\"}],\"title\":{\"font\":{\"size\":20},\"text\":\"Revenue Performance Dashboard\"},\"showlegend\":false,\"height\":800},                        {\"responsive\": true}                    ).then(function(){\n",
       "                            \n",
       "var gd = document.getElementById('3d9ca0fe-5223-4831-81b4-d6b72f4875ee');\n",
       "var x = new MutationObserver(function (mutations, observer) {{\n",
       "        var display = window.getComputedStyle(gd).display;\n",
       "        if (!display || display === 'none') {{\n",
       "            console.log([gd, 'removed!']);\n",
       "            Plotly.purge(gd);\n",
       "            observer.disconnect();\n",
       "        }}\n",
       "}});\n",
       "\n",
       "// Listen for the removal of the full notebook cells\n",
       "var notebookContainer = gd.closest('#notebook-container');\n",
       "if (notebookContainer) {{\n",
       "    x.observe(notebookContainer, {childList: true});\n",
       "}}\n",
       "\n",
       "// Listen for the clearing of the current output cell\n",
       "var outputEl = gd.closest('.output');\n",
       "if (outputEl) {{\n",
       "    x.observe(outputEl, {childList: true});\n",
       "}}\n",
       "\n",
       "                        })                };                });            </script>        </div>"
      ]
     },
     "metadata": {},
     "output_type": "display_data"
    },
    {
     "name": "stdout",
     "output_type": "stream",
     "text": [
      "✓ Revenue Performance Dashboard displayed\n",
      "Using customer_id as proxy for usage hours\n"
     ]
    },
    {
     "data": {
      "application/vnd.plotly.v1+json": {
       "config": {
        "plotlyServerURL": "https://plot.ly"
       },
       "data": [
        {
         "marker": {
          "color": "lightblue"
         },
         "name": "Usage Distribution",
         "nbinsx": 20,
         "type": "histogram",
         "x": [
          1001,
          1002,
          1003,
          1004,
          1005,
          1006,
          1007,
          1008,
          1009,
          1010,
          1011,
          1012,
          1013,
          1014,
          1015,
          1016,
          1017,
          1018,
          1019,
          1020,
          1021,
          1022,
          1023,
          1024,
          1025,
          1026,
          1027,
          1028,
          1029,
          1030,
          1031,
          1032,
          1033,
          1034,
          1035,
          1036,
          1038,
          1039,
          1040,
          1041,
          1042,
          1043,
          1044,
          1045,
          1046,
          1047,
          1048,
          1049,
          1050,
          1051,
          1052,
          1053,
          1054,
          1055,
          1056,
          1057,
          1058,
          1059,
          1060,
          1061,
          1062,
          1063,
          1064,
          1065,
          1066,
          1067,
          1068,
          1070,
          1071,
          1072,
          1073,
          1074,
          1075,
          1076,
          1077,
          1078,
          1079,
          1080,
          1081,
          1082,
          1083,
          1084,
          1085,
          1086,
          1087,
          1088,
          1089,
          1090,
          1091,
          1092,
          1093,
          1094,
          1095,
          1096,
          1097,
          1098,
          1099,
          1100,
          1101
         ],
         "xaxis": "x",
         "yaxis": "y"
        },
        {
         "marker": {
          "color": "lightgreen"
         },
         "name": "Customer Count by Segment",
         "type": "bar",
         "x": [
          "Loyal Customers",
          "Potential Loyalists",
          "Promising",
          "At Risk",
          "New Customers",
          "Champions"
         ],
         "xaxis": "x2",
         "y": [
          40,
          19,
          18,
          9,
          7,
          6
         ],
         "yaxis": "y2"
        },
        {
         "marker": {
          "color": "gold"
         },
         "name": "Engagement Score",
         "nbinsx": 15,
         "type": "histogram",
         "x": [
          0.0366247427408656,
          0.0339530917826292,
          0.0723199183039376,
          0.0352059083856353,
          0.0500054772650975,
          0.0362327977709684,
          0.0599869445230141,
          0.0430463837886251,
          0.0491059866218116,
          0.0380349930481235,
          0.0594698320237441,
          0.032910934270168,
          0.0304519414293701,
          0.0326014234469673,
          0.0470825452907282,
          0.0627793691102311,
          0.0503576607854789,
          0.0441377569964931,
          0.0374118459228101,
          0.0573846089063976,
          0.0607588845946622,
          0.0309097506578002,
          0.0308624628105207,
          0.0442158696122489,
          0.0658379356382111,
          0.0419469417436267,
          0.0246157091439245,
          0.0391451999429495,
          0.0889777632282842,
          0.0582935099436208,
          0.053639598242801,
          0.0430150302028926,
          0.0515053758940057,
          0.0321118336210898,
          0.0531592919810277,
          0.0492636877332131,
          0.0326682340014703,
          0.0836347859580796,
          0.0268508791017495,
          0.0388190470109249,
          0.0215965289879055,
          0.0453817973064601,
          0.0658828848389107,
          0.0674185309859735,
          0.0606218208371221,
          0.0431586523495504,
          0.0281182130256348,
          0.06923439988987,
          0.0307384315105985,
          0.0471527342404635,
          0.0384774689462527,
          0.0703790956134413,
          0.0283567424813858,
          0.0463864333836161,
          0.0597776569755353,
          0.0386933344246236,
          0.0404594191685694,
          0.0403853424975664,
          0.0939342439673791,
          0.0469184816277928,
          0.0370167993817827,
          0.0467307164229369,
          0.0696629142473437,
          0.0444598916207389,
          0.0506493930694635,
          0.0433554262211067,
          0.0456108727755271,
          0.0514609269106453,
          0.0575938742090227,
          0.0445871656516571,
          0.0412117654874346,
          0.0487226897313511,
          0.0359737738620171,
          0.0372865843025598,
          0.0365981951290651,
          0.0246181005728416,
          0.0308851272070327,
          0.0417198651869383,
          0.0400670650970323,
          0.0358656714691457,
          0.045443494547936,
          0.0431496081701661,
          0.0888534799155289,
          0.0408171036358748,
          0.0463627770290163,
          0.0405683341129839,
          0.0296087930352196,
          0.0474027063464323,
          0.0391222191022306,
          0.0636077767759212,
          0.0691091329758875,
          0.0460124111431819,
          0.0451226708220296,
          0.0357087127670701,
          0.0582495406500049,
          0.0723971393778226,
          0.0459901319953257,
          0.0682430088264458,
          0.0264556083682008
         ],
         "xaxis": "x4",
         "yaxis": "y4"
        }
       ],
       "layout": {
        "annotations": [
         {
          "font": {
           "size": 16
          },
          "showarrow": false,
          "text": "Usage Hours Distribution",
          "x": 0.225,
          "xanchor": "center",
          "xref": "paper",
          "y": 1,
          "yanchor": "bottom",
          "yref": "paper"
         },
         {
          "font": {
           "size": 16
          },
          "showarrow": false,
          "text": "Login Frequency by Segment",
          "x": 0.775,
          "xanchor": "center",
          "xref": "paper",
          "y": 1,
          "yanchor": "bottom",
          "yref": "paper"
         },
         {
          "font": {
           "size": 16
          },
          "showarrow": false,
          "text": "Support Tickets Analysis",
          "x": 0.225,
          "xanchor": "center",
          "xref": "paper",
          "y": 0.375,
          "yanchor": "bottom",
          "yref": "paper"
         },
         {
          "font": {
           "size": 16
          },
          "showarrow": false,
          "text": "Engagement Score Overview",
          "x": 0.775,
          "xanchor": "center",
          "xref": "paper",
          "y": 0.375,
          "yanchor": "bottom",
          "yref": "paper"
         },
         {
          "showarrow": false,
          "text": "No support ticket data available",
          "x": 0.5,
          "xref": "x3",
          "y": 0.5,
          "yref": "y3"
         }
        ],
        "height": 800,
        "showlegend": false,
        "template": {
         "data": {
          "bar": [
           {
            "error_x": {
             "color": "#2a3f5f"
            },
            "error_y": {
             "color": "#2a3f5f"
            },
            "marker": {
             "line": {
              "color": "#E5ECF6",
              "width": 0.5
             },
             "pattern": {
              "fillmode": "overlay",
              "size": 10,
              "solidity": 0.2
             }
            },
            "type": "bar"
           }
          ],
          "barpolar": [
           {
            "marker": {
             "line": {
              "color": "#E5ECF6",
              "width": 0.5
             },
             "pattern": {
              "fillmode": "overlay",
              "size": 10,
              "solidity": 0.2
             }
            },
            "type": "barpolar"
           }
          ],
          "carpet": [
           {
            "aaxis": {
             "endlinecolor": "#2a3f5f",
             "gridcolor": "white",
             "linecolor": "white",
             "minorgridcolor": "white",
             "startlinecolor": "#2a3f5f"
            },
            "baxis": {
             "endlinecolor": "#2a3f5f",
             "gridcolor": "white",
             "linecolor": "white",
             "minorgridcolor": "white",
             "startlinecolor": "#2a3f5f"
            },
            "type": "carpet"
           }
          ],
          "choropleth": [
           {
            "colorbar": {
             "outlinewidth": 0,
             "ticks": ""
            },
            "type": "choropleth"
           }
          ],
          "contour": [
           {
            "colorbar": {
             "outlinewidth": 0,
             "ticks": ""
            },
            "colorscale": [
             [
              0,
              "#0d0887"
             ],
             [
              0.1111111111111111,
              "#46039f"
             ],
             [
              0.2222222222222222,
              "#7201a8"
             ],
             [
              0.3333333333333333,
              "#9c179e"
             ],
             [
              0.4444444444444444,
              "#bd3786"
             ],
             [
              0.5555555555555556,
              "#d8576b"
             ],
             [
              0.6666666666666666,
              "#ed7953"
             ],
             [
              0.7777777777777778,
              "#fb9f3a"
             ],
             [
              0.8888888888888888,
              "#fdca26"
             ],
             [
              1,
              "#f0f921"
             ]
            ],
            "type": "contour"
           }
          ],
          "contourcarpet": [
           {
            "colorbar": {
             "outlinewidth": 0,
             "ticks": ""
            },
            "type": "contourcarpet"
           }
          ],
          "heatmap": [
           {
            "colorbar": {
             "outlinewidth": 0,
             "ticks": ""
            },
            "colorscale": [
             [
              0,
              "#0d0887"
             ],
             [
              0.1111111111111111,
              "#46039f"
             ],
             [
              0.2222222222222222,
              "#7201a8"
             ],
             [
              0.3333333333333333,
              "#9c179e"
             ],
             [
              0.4444444444444444,
              "#bd3786"
             ],
             [
              0.5555555555555556,
              "#d8576b"
             ],
             [
              0.6666666666666666,
              "#ed7953"
             ],
             [
              0.7777777777777778,
              "#fb9f3a"
             ],
             [
              0.8888888888888888,
              "#fdca26"
             ],
             [
              1,
              "#f0f921"
             ]
            ],
            "type": "heatmap"
           }
          ],
          "heatmapgl": [
           {
            "colorbar": {
             "outlinewidth": 0,
             "ticks": ""
            },
            "colorscale": [
             [
              0,
              "#0d0887"
             ],
             [
              0.1111111111111111,
              "#46039f"
             ],
             [
              0.2222222222222222,
              "#7201a8"
             ],
             [
              0.3333333333333333,
              "#9c179e"
             ],
             [
              0.4444444444444444,
              "#bd3786"
             ],
             [
              0.5555555555555556,
              "#d8576b"
             ],
             [
              0.6666666666666666,
              "#ed7953"
             ],
             [
              0.7777777777777778,
              "#fb9f3a"
             ],
             [
              0.8888888888888888,
              "#fdca26"
             ],
             [
              1,
              "#f0f921"
             ]
            ],
            "type": "heatmapgl"
           }
          ],
          "histogram": [
           {
            "marker": {
             "pattern": {
              "fillmode": "overlay",
              "size": 10,
              "solidity": 0.2
             }
            },
            "type": "histogram"
           }
          ],
          "histogram2d": [
           {
            "colorbar": {
             "outlinewidth": 0,
             "ticks": ""
            },
            "colorscale": [
             [
              0,
              "#0d0887"
             ],
             [
              0.1111111111111111,
              "#46039f"
             ],
             [
              0.2222222222222222,
              "#7201a8"
             ],
             [
              0.3333333333333333,
              "#9c179e"
             ],
             [
              0.4444444444444444,
              "#bd3786"
             ],
             [
              0.5555555555555556,
              "#d8576b"
             ],
             [
              0.6666666666666666,
              "#ed7953"
             ],
             [
              0.7777777777777778,
              "#fb9f3a"
             ],
             [
              0.8888888888888888,
              "#fdca26"
             ],
             [
              1,
              "#f0f921"
             ]
            ],
            "type": "histogram2d"
           }
          ],
          "histogram2dcontour": [
           {
            "colorbar": {
             "outlinewidth": 0,
             "ticks": ""
            },
            "colorscale": [
             [
              0,
              "#0d0887"
             ],
             [
              0.1111111111111111,
              "#46039f"
             ],
             [
              0.2222222222222222,
              "#7201a8"
             ],
             [
              0.3333333333333333,
              "#9c179e"
             ],
             [
              0.4444444444444444,
              "#bd3786"
             ],
             [
              0.5555555555555556,
              "#d8576b"
             ],
             [
              0.6666666666666666,
              "#ed7953"
             ],
             [
              0.7777777777777778,
              "#fb9f3a"
             ],
             [
              0.8888888888888888,
              "#fdca26"
             ],
             [
              1,
              "#f0f921"
             ]
            ],
            "type": "histogram2dcontour"
           }
          ],
          "mesh3d": [
           {
            "colorbar": {
             "outlinewidth": 0,
             "ticks": ""
            },
            "type": "mesh3d"
           }
          ],
          "parcoords": [
           {
            "line": {
             "colorbar": {
              "outlinewidth": 0,
              "ticks": ""
             }
            },
            "type": "parcoords"
           }
          ],
          "pie": [
           {
            "automargin": true,
            "type": "pie"
           }
          ],
          "scatter": [
           {
            "marker": {
             "colorbar": {
              "outlinewidth": 0,
              "ticks": ""
             }
            },
            "type": "scatter"
           }
          ],
          "scatter3d": [
           {
            "line": {
             "colorbar": {
              "outlinewidth": 0,
              "ticks": ""
             }
            },
            "marker": {
             "colorbar": {
              "outlinewidth": 0,
              "ticks": ""
             }
            },
            "type": "scatter3d"
           }
          ],
          "scattercarpet": [
           {
            "marker": {
             "colorbar": {
              "outlinewidth": 0,
              "ticks": ""
             }
            },
            "type": "scattercarpet"
           }
          ],
          "scattergeo": [
           {
            "marker": {
             "colorbar": {
              "outlinewidth": 0,
              "ticks": ""
             }
            },
            "type": "scattergeo"
           }
          ],
          "scattergl": [
           {
            "marker": {
             "colorbar": {
              "outlinewidth": 0,
              "ticks": ""
             }
            },
            "type": "scattergl"
           }
          ],
          "scattermapbox": [
           {
            "marker": {
             "colorbar": {
              "outlinewidth": 0,
              "ticks": ""
             }
            },
            "type": "scattermapbox"
           }
          ],
          "scatterpolar": [
           {
            "marker": {
             "colorbar": {
              "outlinewidth": 0,
              "ticks": ""
             }
            },
            "type": "scatterpolar"
           }
          ],
          "scatterpolargl": [
           {
            "marker": {
             "colorbar": {
              "outlinewidth": 0,
              "ticks": ""
             }
            },
            "type": "scatterpolargl"
           }
          ],
          "scatterternary": [
           {
            "marker": {
             "colorbar": {
              "outlinewidth": 0,
              "ticks": ""
             }
            },
            "type": "scatterternary"
           }
          ],
          "surface": [
           {
            "colorbar": {
             "outlinewidth": 0,
             "ticks": ""
            },
            "colorscale": [
             [
              0,
              "#0d0887"
             ],
             [
              0.1111111111111111,
              "#46039f"
             ],
             [
              0.2222222222222222,
              "#7201a8"
             ],
             [
              0.3333333333333333,
              "#9c179e"
             ],
             [
              0.4444444444444444,
              "#bd3786"
             ],
             [
              0.5555555555555556,
              "#d8576b"
             ],
             [
              0.6666666666666666,
              "#ed7953"
             ],
             [
              0.7777777777777778,
              "#fb9f3a"
             ],
             [
              0.8888888888888888,
              "#fdca26"
             ],
             [
              1,
              "#f0f921"
             ]
            ],
            "type": "surface"
           }
          ],
          "table": [
           {
            "cells": {
             "fill": {
              "color": "#EBF0F8"
             },
             "line": {
              "color": "white"
             }
            },
            "header": {
             "fill": {
              "color": "#C8D4E3"
             },
             "line": {
              "color": "white"
             }
            },
            "type": "table"
           }
          ]
         },
         "layout": {
          "annotationdefaults": {
           "arrowcolor": "#2a3f5f",
           "arrowhead": 0,
           "arrowwidth": 1
          },
          "autotypenumbers": "strict",
          "coloraxis": {
           "colorbar": {
            "outlinewidth": 0,
            "ticks": ""
           }
          },
          "colorscale": {
           "diverging": [
            [
             0,
             "#8e0152"
            ],
            [
             0.1,
             "#c51b7d"
            ],
            [
             0.2,
             "#de77ae"
            ],
            [
             0.3,
             "#f1b6da"
            ],
            [
             0.4,
             "#fde0ef"
            ],
            [
             0.5,
             "#f7f7f7"
            ],
            [
             0.6,
             "#e6f5d0"
            ],
            [
             0.7,
             "#b8e186"
            ],
            [
             0.8,
             "#7fbc41"
            ],
            [
             0.9,
             "#4d9221"
            ],
            [
             1,
             "#276419"
            ]
           ],
           "sequential": [
            [
             0,
             "#0d0887"
            ],
            [
             0.1111111111111111,
             "#46039f"
            ],
            [
             0.2222222222222222,
             "#7201a8"
            ],
            [
             0.3333333333333333,
             "#9c179e"
            ],
            [
             0.4444444444444444,
             "#bd3786"
            ],
            [
             0.5555555555555556,
             "#d8576b"
            ],
            [
             0.6666666666666666,
             "#ed7953"
            ],
            [
             0.7777777777777778,
             "#fb9f3a"
            ],
            [
             0.8888888888888888,
             "#fdca26"
            ],
            [
             1,
             "#f0f921"
            ]
           ],
           "sequentialminus": [
            [
             0,
             "#0d0887"
            ],
            [
             0.1111111111111111,
             "#46039f"
            ],
            [
             0.2222222222222222,
             "#7201a8"
            ],
            [
             0.3333333333333333,
             "#9c179e"
            ],
            [
             0.4444444444444444,
             "#bd3786"
            ],
            [
             0.5555555555555556,
             "#d8576b"
            ],
            [
             0.6666666666666666,
             "#ed7953"
            ],
            [
             0.7777777777777778,
             "#fb9f3a"
            ],
            [
             0.8888888888888888,
             "#fdca26"
            ],
            [
             1,
             "#f0f921"
            ]
           ]
          },
          "colorway": [
           "#636efa",
           "#EF553B",
           "#00cc96",
           "#ab63fa",
           "#FFA15A",
           "#19d3f3",
           "#FF6692",
           "#B6E880",
           "#FF97FF",
           "#FECB52"
          ],
          "font": {
           "color": "#2a3f5f"
          },
          "geo": {
           "bgcolor": "white",
           "lakecolor": "white",
           "landcolor": "#E5ECF6",
           "showlakes": true,
           "showland": true,
           "subunitcolor": "white"
          },
          "hoverlabel": {
           "align": "left"
          },
          "hovermode": "closest",
          "mapbox": {
           "style": "light"
          },
          "paper_bgcolor": "white",
          "plot_bgcolor": "#E5ECF6",
          "polar": {
           "angularaxis": {
            "gridcolor": "white",
            "linecolor": "white",
            "ticks": ""
           },
           "bgcolor": "#E5ECF6",
           "radialaxis": {
            "gridcolor": "white",
            "linecolor": "white",
            "ticks": ""
           }
          },
          "scene": {
           "xaxis": {
            "backgroundcolor": "#E5ECF6",
            "gridcolor": "white",
            "gridwidth": 2,
            "linecolor": "white",
            "showbackground": true,
            "ticks": "",
            "zerolinecolor": "white"
           },
           "yaxis": {
            "backgroundcolor": "#E5ECF6",
            "gridcolor": "white",
            "gridwidth": 2,
            "linecolor": "white",
            "showbackground": true,
            "ticks": "",
            "zerolinecolor": "white"
           },
           "zaxis": {
            "backgroundcolor": "#E5ECF6",
            "gridcolor": "white",
            "gridwidth": 2,
            "linecolor": "white",
            "showbackground": true,
            "ticks": "",
            "zerolinecolor": "white"
           }
          },
          "shapedefaults": {
           "line": {
            "color": "#2a3f5f"
           }
          },
          "ternary": {
           "aaxis": {
            "gridcolor": "white",
            "linecolor": "white",
            "ticks": ""
           },
           "baxis": {
            "gridcolor": "white",
            "linecolor": "white",
            "ticks": ""
           },
           "bgcolor": "#E5ECF6",
           "caxis": {
            "gridcolor": "white",
            "linecolor": "white",
            "ticks": ""
           }
          },
          "title": {
           "x": 0.05
          },
          "xaxis": {
           "automargin": true,
           "gridcolor": "white",
           "linecolor": "white",
           "ticks": "",
           "title": {
            "standoff": 15
           },
           "zerolinecolor": "white",
           "zerolinewidth": 2
          },
          "yaxis": {
           "automargin": true,
           "gridcolor": "white",
           "linecolor": "white",
           "ticks": "",
           "title": {
            "standoff": 15
           },
           "zerolinecolor": "white",
           "zerolinewidth": 2
          }
         }
        },
        "title": {
         "font": {
          "size": 20
         },
         "text": "Customer Engagement Analytics Dashboard"
        },
        "xaxis": {
         "anchor": "y",
         "domain": [
          0,
          0.45
         ]
        },
        "xaxis2": {
         "anchor": "y2",
         "domain": [
          0.55,
          1
         ]
        },
        "xaxis3": {
         "anchor": "y3",
         "domain": [
          0,
          0.45
         ]
        },
        "xaxis4": {
         "anchor": "y4",
         "domain": [
          0.55,
          1
         ]
        },
        "yaxis": {
         "anchor": "x",
         "domain": [
          0.625,
          1
         ]
        },
        "yaxis2": {
         "anchor": "x2",
         "domain": [
          0.625,
          1
         ]
        },
        "yaxis3": {
         "anchor": "x3",
         "domain": [
          0,
          0.375
         ]
        },
        "yaxis4": {
         "anchor": "x4",
         "domain": [
          0,
          0.375
         ]
        }
       }
      },
      "text/html": [
       "<div>                            <div id=\"5408b569-5e15-48f7-ab67-fcd24d9e0758\" class=\"plotly-graph-div\" style=\"height:800px; width:100%;\"></div>            <script type=\"text/javascript\">                require([\"plotly\"], function(Plotly) {                    window.PLOTLYENV=window.PLOTLYENV || {};                                    if (document.getElementById(\"5408b569-5e15-48f7-ab67-fcd24d9e0758\")) {                    Plotly.newPlot(                        \"5408b569-5e15-48f7-ab67-fcd24d9e0758\",                        [{\"marker\":{\"color\":\"lightblue\"},\"name\":\"Usage Distribution\",\"nbinsx\":20,\"x\":[1001,1002,1003,1004,1005,1006,1007,1008,1009,1010,1011,1012,1013,1014,1015,1016,1017,1018,1019,1020,1021,1022,1023,1024,1025,1026,1027,1028,1029,1030,1031,1032,1033,1034,1035,1036,1038,1039,1040,1041,1042,1043,1044,1045,1046,1047,1048,1049,1050,1051,1052,1053,1054,1055,1056,1057,1058,1059,1060,1061,1062,1063,1064,1065,1066,1067,1068,1070,1071,1072,1073,1074,1075,1076,1077,1078,1079,1080,1081,1082,1083,1084,1085,1086,1087,1088,1089,1090,1091,1092,1093,1094,1095,1096,1097,1098,1099,1100,1101],\"type\":\"histogram\",\"xaxis\":\"x\",\"yaxis\":\"y\"},{\"marker\":{\"color\":\"lightgreen\"},\"name\":\"Customer Count by Segment\",\"x\":[\"Loyal Customers\",\"Potential Loyalists\",\"Promising\",\"At Risk\",\"New Customers\",\"Champions\"],\"y\":[40,19,18,9,7,6],\"type\":\"bar\",\"xaxis\":\"x2\",\"yaxis\":\"y2\"},{\"marker\":{\"color\":\"gold\"},\"name\":\"Engagement Score\",\"nbinsx\":15,\"x\":[0.0366247427408656,0.0339530917826292,0.0723199183039376,0.0352059083856353,0.0500054772650975,0.0362327977709684,0.0599869445230141,0.0430463837886251,0.0491059866218116,0.0380349930481235,0.0594698320237441,0.032910934270168,0.0304519414293701,0.0326014234469673,0.0470825452907282,0.0627793691102311,0.0503576607854789,0.0441377569964931,0.0374118459228101,0.0573846089063976,0.0607588845946622,0.0309097506578002,0.0308624628105207,0.0442158696122489,0.0658379356382111,0.0419469417436267,0.0246157091439245,0.0391451999429495,0.0889777632282842,0.0582935099436208,0.053639598242801,0.0430150302028926,0.0515053758940057,0.0321118336210898,0.0531592919810277,0.0492636877332131,0.0326682340014703,0.0836347859580796,0.0268508791017495,0.0388190470109249,0.0215965289879055,0.0453817973064601,0.0658828848389107,0.0674185309859735,0.0606218208371221,0.0431586523495504,0.0281182130256348,0.06923439988987,0.0307384315105985,0.0471527342404635,0.0384774689462527,0.0703790956134413,0.0283567424813858,0.0463864333836161,0.0597776569755353,0.0386933344246236,0.0404594191685694,0.0403853424975664,0.0939342439673791,0.0469184816277928,0.0370167993817827,0.0467307164229369,0.0696629142473437,0.0444598916207389,0.0506493930694635,0.0433554262211067,0.0456108727755271,0.0514609269106453,0.0575938742090227,0.0445871656516571,0.0412117654874346,0.0487226897313511,0.0359737738620171,0.0372865843025598,0.0365981951290651,0.0246181005728416,0.0308851272070327,0.0417198651869383,0.0400670650970323,0.0358656714691457,0.045443494547936,0.0431496081701661,0.0888534799155289,0.0408171036358748,0.0463627770290163,0.0405683341129839,0.0296087930352196,0.0474027063464323,0.0391222191022306,0.0636077767759212,0.0691091329758875,0.0460124111431819,0.0451226708220296,0.0357087127670701,0.0582495406500049,0.0723971393778226,0.0459901319953257,0.0682430088264458,0.0264556083682008],\"type\":\"histogram\",\"xaxis\":\"x4\",\"yaxis\":\"y4\"}],                        {\"template\":{\"data\":{\"bar\":[{\"error_x\":{\"color\":\"#2a3f5f\"},\"error_y\":{\"color\":\"#2a3f5f\"},\"marker\":{\"line\":{\"color\":\"#E5ECF6\",\"width\":0.5},\"pattern\":{\"fillmode\":\"overlay\",\"size\":10,\"solidity\":0.2}},\"type\":\"bar\"}],\"barpolar\":[{\"marker\":{\"line\":{\"color\":\"#E5ECF6\",\"width\":0.5},\"pattern\":{\"fillmode\":\"overlay\",\"size\":10,\"solidity\":0.2}},\"type\":\"barpolar\"}],\"carpet\":[{\"aaxis\":{\"endlinecolor\":\"#2a3f5f\",\"gridcolor\":\"white\",\"linecolor\":\"white\",\"minorgridcolor\":\"white\",\"startlinecolor\":\"#2a3f5f\"},\"baxis\":{\"endlinecolor\":\"#2a3f5f\",\"gridcolor\":\"white\",\"linecolor\":\"white\",\"minorgridcolor\":\"white\",\"startlinecolor\":\"#2a3f5f\"},\"type\":\"carpet\"}],\"choropleth\":[{\"colorbar\":{\"outlinewidth\":0,\"ticks\":\"\"},\"type\":\"choropleth\"}],\"contour\":[{\"colorbar\":{\"outlinewidth\":0,\"ticks\":\"\"},\"colorscale\":[[0.0,\"#0d0887\"],[0.1111111111111111,\"#46039f\"],[0.2222222222222222,\"#7201a8\"],[0.3333333333333333,\"#9c179e\"],[0.4444444444444444,\"#bd3786\"],[0.5555555555555556,\"#d8576b\"],[0.6666666666666666,\"#ed7953\"],[0.7777777777777778,\"#fb9f3a\"],[0.8888888888888888,\"#fdca26\"],[1.0,\"#f0f921\"]],\"type\":\"contour\"}],\"contourcarpet\":[{\"colorbar\":{\"outlinewidth\":0,\"ticks\":\"\"},\"type\":\"contourcarpet\"}],\"heatmap\":[{\"colorbar\":{\"outlinewidth\":0,\"ticks\":\"\"},\"colorscale\":[[0.0,\"#0d0887\"],[0.1111111111111111,\"#46039f\"],[0.2222222222222222,\"#7201a8\"],[0.3333333333333333,\"#9c179e\"],[0.4444444444444444,\"#bd3786\"],[0.5555555555555556,\"#d8576b\"],[0.6666666666666666,\"#ed7953\"],[0.7777777777777778,\"#fb9f3a\"],[0.8888888888888888,\"#fdca26\"],[1.0,\"#f0f921\"]],\"type\":\"heatmap\"}],\"heatmapgl\":[{\"colorbar\":{\"outlinewidth\":0,\"ticks\":\"\"},\"colorscale\":[[0.0,\"#0d0887\"],[0.1111111111111111,\"#46039f\"],[0.2222222222222222,\"#7201a8\"],[0.3333333333333333,\"#9c179e\"],[0.4444444444444444,\"#bd3786\"],[0.5555555555555556,\"#d8576b\"],[0.6666666666666666,\"#ed7953\"],[0.7777777777777778,\"#fb9f3a\"],[0.8888888888888888,\"#fdca26\"],[1.0,\"#f0f921\"]],\"type\":\"heatmapgl\"}],\"histogram\":[{\"marker\":{\"pattern\":{\"fillmode\":\"overlay\",\"size\":10,\"solidity\":0.2}},\"type\":\"histogram\"}],\"histogram2d\":[{\"colorbar\":{\"outlinewidth\":0,\"ticks\":\"\"},\"colorscale\":[[0.0,\"#0d0887\"],[0.1111111111111111,\"#46039f\"],[0.2222222222222222,\"#7201a8\"],[0.3333333333333333,\"#9c179e\"],[0.4444444444444444,\"#bd3786\"],[0.5555555555555556,\"#d8576b\"],[0.6666666666666666,\"#ed7953\"],[0.7777777777777778,\"#fb9f3a\"],[0.8888888888888888,\"#fdca26\"],[1.0,\"#f0f921\"]],\"type\":\"histogram2d\"}],\"histogram2dcontour\":[{\"colorbar\":{\"outlinewidth\":0,\"ticks\":\"\"},\"colorscale\":[[0.0,\"#0d0887\"],[0.1111111111111111,\"#46039f\"],[0.2222222222222222,\"#7201a8\"],[0.3333333333333333,\"#9c179e\"],[0.4444444444444444,\"#bd3786\"],[0.5555555555555556,\"#d8576b\"],[0.6666666666666666,\"#ed7953\"],[0.7777777777777778,\"#fb9f3a\"],[0.8888888888888888,\"#fdca26\"],[1.0,\"#f0f921\"]],\"type\":\"histogram2dcontour\"}],\"mesh3d\":[{\"colorbar\":{\"outlinewidth\":0,\"ticks\":\"\"},\"type\":\"mesh3d\"}],\"parcoords\":[{\"line\":{\"colorbar\":{\"outlinewidth\":0,\"ticks\":\"\"}},\"type\":\"parcoords\"}],\"pie\":[{\"automargin\":true,\"type\":\"pie\"}],\"scatter\":[{\"marker\":{\"colorbar\":{\"outlinewidth\":0,\"ticks\":\"\"}},\"type\":\"scatter\"}],\"scatter3d\":[{\"line\":{\"colorbar\":{\"outlinewidth\":0,\"ticks\":\"\"}},\"marker\":{\"colorbar\":{\"outlinewidth\":0,\"ticks\":\"\"}},\"type\":\"scatter3d\"}],\"scattercarpet\":[{\"marker\":{\"colorbar\":{\"outlinewidth\":0,\"ticks\":\"\"}},\"type\":\"scattercarpet\"}],\"scattergeo\":[{\"marker\":{\"colorbar\":{\"outlinewidth\":0,\"ticks\":\"\"}},\"type\":\"scattergeo\"}],\"scattergl\":[{\"marker\":{\"colorbar\":{\"outlinewidth\":0,\"ticks\":\"\"}},\"type\":\"scattergl\"}],\"scattermapbox\":[{\"marker\":{\"colorbar\":{\"outlinewidth\":0,\"ticks\":\"\"}},\"type\":\"scattermapbox\"}],\"scatterpolar\":[{\"marker\":{\"colorbar\":{\"outlinewidth\":0,\"ticks\":\"\"}},\"type\":\"scatterpolar\"}],\"scatterpolargl\":[{\"marker\":{\"colorbar\":{\"outlinewidth\":0,\"ticks\":\"\"}},\"type\":\"scatterpolargl\"}],\"scatterternary\":[{\"marker\":{\"colorbar\":{\"outlinewidth\":0,\"ticks\":\"\"}},\"type\":\"scatterternary\"}],\"surface\":[{\"colorbar\":{\"outlinewidth\":0,\"ticks\":\"\"},\"colorscale\":[[0.0,\"#0d0887\"],[0.1111111111111111,\"#46039f\"],[0.2222222222222222,\"#7201a8\"],[0.3333333333333333,\"#9c179e\"],[0.4444444444444444,\"#bd3786\"],[0.5555555555555556,\"#d8576b\"],[0.6666666666666666,\"#ed7953\"],[0.7777777777777778,\"#fb9f3a\"],[0.8888888888888888,\"#fdca26\"],[1.0,\"#f0f921\"]],\"type\":\"surface\"}],\"table\":[{\"cells\":{\"fill\":{\"color\":\"#EBF0F8\"},\"line\":{\"color\":\"white\"}},\"header\":{\"fill\":{\"color\":\"#C8D4E3\"},\"line\":{\"color\":\"white\"}},\"type\":\"table\"}]},\"layout\":{\"annotationdefaults\":{\"arrowcolor\":\"#2a3f5f\",\"arrowhead\":0,\"arrowwidth\":1},\"autotypenumbers\":\"strict\",\"coloraxis\":{\"colorbar\":{\"outlinewidth\":0,\"ticks\":\"\"}},\"colorscale\":{\"diverging\":[[0,\"#8e0152\"],[0.1,\"#c51b7d\"],[0.2,\"#de77ae\"],[0.3,\"#f1b6da\"],[0.4,\"#fde0ef\"],[0.5,\"#f7f7f7\"],[0.6,\"#e6f5d0\"],[0.7,\"#b8e186\"],[0.8,\"#7fbc41\"],[0.9,\"#4d9221\"],[1,\"#276419\"]],\"sequential\":[[0.0,\"#0d0887\"],[0.1111111111111111,\"#46039f\"],[0.2222222222222222,\"#7201a8\"],[0.3333333333333333,\"#9c179e\"],[0.4444444444444444,\"#bd3786\"],[0.5555555555555556,\"#d8576b\"],[0.6666666666666666,\"#ed7953\"],[0.7777777777777778,\"#fb9f3a\"],[0.8888888888888888,\"#fdca26\"],[1.0,\"#f0f921\"]],\"sequentialminus\":[[0.0,\"#0d0887\"],[0.1111111111111111,\"#46039f\"],[0.2222222222222222,\"#7201a8\"],[0.3333333333333333,\"#9c179e\"],[0.4444444444444444,\"#bd3786\"],[0.5555555555555556,\"#d8576b\"],[0.6666666666666666,\"#ed7953\"],[0.7777777777777778,\"#fb9f3a\"],[0.8888888888888888,\"#fdca26\"],[1.0,\"#f0f921\"]]},\"colorway\":[\"#636efa\",\"#EF553B\",\"#00cc96\",\"#ab63fa\",\"#FFA15A\",\"#19d3f3\",\"#FF6692\",\"#B6E880\",\"#FF97FF\",\"#FECB52\"],\"font\":{\"color\":\"#2a3f5f\"},\"geo\":{\"bgcolor\":\"white\",\"lakecolor\":\"white\",\"landcolor\":\"#E5ECF6\",\"showlakes\":true,\"showland\":true,\"subunitcolor\":\"white\"},\"hoverlabel\":{\"align\":\"left\"},\"hovermode\":\"closest\",\"mapbox\":{\"style\":\"light\"},\"paper_bgcolor\":\"white\",\"plot_bgcolor\":\"#E5ECF6\",\"polar\":{\"angularaxis\":{\"gridcolor\":\"white\",\"linecolor\":\"white\",\"ticks\":\"\"},\"bgcolor\":\"#E5ECF6\",\"radialaxis\":{\"gridcolor\":\"white\",\"linecolor\":\"white\",\"ticks\":\"\"}},\"scene\":{\"xaxis\":{\"backgroundcolor\":\"#E5ECF6\",\"gridcolor\":\"white\",\"gridwidth\":2,\"linecolor\":\"white\",\"showbackground\":true,\"ticks\":\"\",\"zerolinecolor\":\"white\"},\"yaxis\":{\"backgroundcolor\":\"#E5ECF6\",\"gridcolor\":\"white\",\"gridwidth\":2,\"linecolor\":\"white\",\"showbackground\":true,\"ticks\":\"\",\"zerolinecolor\":\"white\"},\"zaxis\":{\"backgroundcolor\":\"#E5ECF6\",\"gridcolor\":\"white\",\"gridwidth\":2,\"linecolor\":\"white\",\"showbackground\":true,\"ticks\":\"\",\"zerolinecolor\":\"white\"}},\"shapedefaults\":{\"line\":{\"color\":\"#2a3f5f\"}},\"ternary\":{\"aaxis\":{\"gridcolor\":\"white\",\"linecolor\":\"white\",\"ticks\":\"\"},\"baxis\":{\"gridcolor\":\"white\",\"linecolor\":\"white\",\"ticks\":\"\"},\"bgcolor\":\"#E5ECF6\",\"caxis\":{\"gridcolor\":\"white\",\"linecolor\":\"white\",\"ticks\":\"\"}},\"title\":{\"x\":0.05},\"xaxis\":{\"automargin\":true,\"gridcolor\":\"white\",\"linecolor\":\"white\",\"ticks\":\"\",\"title\":{\"standoff\":15},\"zerolinecolor\":\"white\",\"zerolinewidth\":2},\"yaxis\":{\"automargin\":true,\"gridcolor\":\"white\",\"linecolor\":\"white\",\"ticks\":\"\",\"title\":{\"standoff\":15},\"zerolinecolor\":\"white\",\"zerolinewidth\":2}}},\"xaxis\":{\"anchor\":\"y\",\"domain\":[0.0,0.45]},\"yaxis\":{\"anchor\":\"x\",\"domain\":[0.625,1.0]},\"xaxis2\":{\"anchor\":\"y2\",\"domain\":[0.55,1.0]},\"yaxis2\":{\"anchor\":\"x2\",\"domain\":[0.625,1.0]},\"xaxis3\":{\"anchor\":\"y3\",\"domain\":[0.0,0.45]},\"yaxis3\":{\"anchor\":\"x3\",\"domain\":[0.0,0.375]},\"xaxis4\":{\"anchor\":\"y4\",\"domain\":[0.55,1.0]},\"yaxis4\":{\"anchor\":\"x4\",\"domain\":[0.0,0.375]},\"annotations\":[{\"font\":{\"size\":16},\"showarrow\":false,\"text\":\"Usage Hours Distribution\",\"x\":0.225,\"xanchor\":\"center\",\"xref\":\"paper\",\"y\":1.0,\"yanchor\":\"bottom\",\"yref\":\"paper\"},{\"font\":{\"size\":16},\"showarrow\":false,\"text\":\"Login Frequency by Segment\",\"x\":0.775,\"xanchor\":\"center\",\"xref\":\"paper\",\"y\":1.0,\"yanchor\":\"bottom\",\"yref\":\"paper\"},{\"font\":{\"size\":16},\"showarrow\":false,\"text\":\"Support Tickets Analysis\",\"x\":0.225,\"xanchor\":\"center\",\"xref\":\"paper\",\"y\":0.375,\"yanchor\":\"bottom\",\"yref\":\"paper\"},{\"font\":{\"size\":16},\"showarrow\":false,\"text\":\"Engagement Score Overview\",\"x\":0.775,\"xanchor\":\"center\",\"xref\":\"paper\",\"y\":0.375,\"yanchor\":\"bottom\",\"yref\":\"paper\"},{\"showarrow\":false,\"text\":\"No support ticket data available\",\"x\":0.5,\"xref\":\"x3\",\"y\":0.5,\"yref\":\"y3\"}],\"title\":{\"font\":{\"size\":20},\"text\":\"Customer Engagement Analytics Dashboard\"},\"showlegend\":false,\"height\":800},                        {\"responsive\": true}                    ).then(function(){\n",
       "                            \n",
       "var gd = document.getElementById('5408b569-5e15-48f7-ab67-fcd24d9e0758');\n",
       "var x = new MutationObserver(function (mutations, observer) {{\n",
       "        var display = window.getComputedStyle(gd).display;\n",
       "        if (!display || display === 'none') {{\n",
       "            console.log([gd, 'removed!']);\n",
       "            Plotly.purge(gd);\n",
       "            observer.disconnect();\n",
       "        }}\n",
       "}});\n",
       "\n",
       "// Listen for the removal of the full notebook cells\n",
       "var notebookContainer = gd.closest('#notebook-container');\n",
       "if (notebookContainer) {{\n",
       "    x.observe(notebookContainer, {childList: true});\n",
       "}}\n",
       "\n",
       "// Listen for the clearing of the current output cell\n",
       "var outputEl = gd.closest('.output');\n",
       "if (outputEl) {{\n",
       "    x.observe(outputEl, {childList: true});\n",
       "}}\n",
       "\n",
       "                        })                };                });            </script>        </div>"
      ]
     },
     "metadata": {},
     "output_type": "display_data"
    },
    {
     "name": "stdout",
     "output_type": "stream",
     "text": [
      "✓ Customer Engagement Dashboard displayed\n",
      "✗ Business Intelligence Summary Dashboard not available - figure not generated\n",
      "\n",
      "Successfully displayed 2 dashboard(s):\n",
      "  - Revenue Performance Dashboard\n",
      "  - Customer Engagement Dashboard\n"
     ]
    }
   ],
   "source": [
    "print(\"\\n\" + \"=\"*60)\n",
    "print(\"STEP 9: DISPLAYING PERFORMANCE DASHBOARDS\")\n",
    "print(\"=\"*60)\n",
    "\n",
    "# Display all dashboards with error handling\n",
    "print(\"Rendering dashboards...\")\n",
    "\n",
    "# Track successfully displayed dashboards\n",
    "displayed_dashboards = []\n",
    "\n",
    "# Show revenue dashboard\n",
    "try:\n",
    "    if 'revenue_fig' in globals() and revenue_fig is not None:\n",
    "        revenue_fig.show()\n",
    "        print(\"✓ Revenue Performance Dashboard displayed\")\n",
    "        displayed_dashboards.append(\"Revenue Performance Dashboard\")\n",
    "    else:\n",
    "        print(\"✗ Revenue Performance Dashboard not available - figure not generated\")\n",
    "except Exception as e:\n",
    "    print(f\"✗ Error displaying Revenue Performance Dashboard: {e}\")\n",
    "\n",
    "# Show engagement dashboard\n",
    "try:\n",
    "    engagement_fig = create_engagement_dashboard_fixed()\n",
    "    engagement_fig.show()\n",
    "    print(\"✓ Customer Engagement Dashboard displayed\")\n",
    "    displayed_dashboards.append(\"Customer Engagement Dashboard\")\n",
    "except Exception as e:\n",
    "    print(f\"✗ Error displaying Customer Engagement Dashboard: {e}\")\n",
    "\n",
    "# Show BI summary dashboard\n",
    "try:\n",
    "    if 'bi_fig' in globals() and bi_fig is not None:\n",
    "        bi_fig.show()\n",
    "        print(\"✓ Business Intelligence Summary Dashboard displayed\")\n",
    "        displayed_dashboards.append(\"Business Intelligence Summary Dashboard\")\n",
    "    else:\n",
    "        print(\"✗ Business Intelligence Summary Dashboard not available - figure not generated\")\n",
    "except Exception as e:\n",
    "    print(f\"✗ Error displaying Business Intelligence Summary Dashboard: {e}\")\n",
    "\n",
    "# Summary of displayed dashboards\n",
    "if displayed_dashboards:\n",
    "    print(f\"\\nSuccessfully displayed {len(displayed_dashboards)} dashboard(s):\")\n",
    "    for dashboard in displayed_dashboards:\n",
    "        print(f\"  - {dashboard}\")\n",
    "else:\n",
    "    print(\"\\n⚠️  No dashboards were successfully displayed. Please check dashboard generation steps.\")\n",
    "\n"
   ]
  },
  {
   "cell_type": "markdown",
   "metadata": {},
   "source": [
    "### 10: Save Dashboard Data and Configuration"
   ]
  },
  {
   "cell_type": "code",
   "execution_count": 25,
   "metadata": {},
   "outputs": [
    {
     "name": "stdout",
     "output_type": "stream",
     "text": [
      "\n",
      "============================================================\n",
      "STEP 10: SAVING DASHBOARD CONFIGURATION\n",
      "============================================================\n",
      "✓ Enhanced dataset saved to: ../data/results/dashboard_ready_data.csv\n",
      "✓ Performance metrics saved to: ../data/results/performance_metrics.csv\n",
      "✓ Analysis report saved to: ../data/results/analysis_report.json\n",
      "\n",
      "============================================================\n",
      "PERFORMANCE DASHBOARD ANALYSIS COMPLETE\n",
      "============================================================\n",
      "✅ Successfully analyzed 99 customers\n",
      "✅ Generated 6 customer segments\n",
      "✅ Attempted to create 3 comprehensive dashboards\n",
      "✅ Successfully displayed 2 dashboard(s)\n",
      "✅ Identified 2 performance alerts\n",
      "✅ Generated 3 actionable recommendations\n",
      "\n",
      "Data Source: https://www.kaggle.com/datasets/nnthanh101/aws-saas-sales\n",
      "Processing: data_process.py\n",
      "Dashboard: 06_performance_dashboards.ipynb\n",
      "============================================================\n"
     ]
    }
   ],
   "source": [
    "print(\"\\n\" + \"=\"*60)\n",
    "print(\"STEP 10: SAVING DASHBOARD CONFIGURATION\")\n",
    "print(\"=\"*60)\n",
    "\n",
    "# Create directory if it doesn't exist\n",
    "import os\n",
    "os.makedirs('../data/results', exist_ok=True)\n",
    "\n",
    "# Save enhanced dataset with segments and derived metrics\n",
    "enhanced_data_path = '../data/results/dashboard_ready_data.csv'\n",
    "try:\n",
    "    if 'customer_features' in globals() and customer_features is not None:\n",
    "        customer_features.to_csv(enhanced_data_path, index=False)\n",
    "        print(f\"✓ Enhanced dataset saved to: {enhanced_data_path}\")\n",
    "    else:\n",
    "        print(\"✗ Customer features data not available for saving\")\n",
    "except Exception as e:\n",
    "    print(f\"✗ Error saving enhanced dataset: {e}\")\n",
    "\n",
    "# Save performance metrics\n",
    "metrics_path = '../data/results/performance_metrics.csv'\n",
    "try:\n",
    "    if 'kpis' in globals() and kpis is not None:\n",
    "        # Convert KPIs to DataFrame\n",
    "        if isinstance(kpis, dict):\n",
    "            metrics_summary = pd.DataFrame([kpis])\n",
    "        else:\n",
    "            metrics_summary = pd.DataFrame(kpis)\n",
    "        \n",
    "        metrics_summary.to_csv(metrics_path, index=False)\n",
    "        print(f\"✓ Performance metrics saved to: {metrics_path}\")\n",
    "    else:\n",
    "        print(\"✗ Performance metrics not available for saving\")\n",
    "except Exception as e:\n",
    "    print(f\"✗ Error saving performance metrics: {e}\")\n",
    "\n",
    "# Save final report\n",
    "report_path = '../data/results/analysis_report.json'\n",
    "try:\n",
    "    if 'final_report' in globals() and final_report is not None:\n",
    "        import json\n",
    "        with open(report_path, 'w') as f:\n",
    "            json.dump(final_report, f, indent=2, default=str)\n",
    "        print(f\"✓ Analysis report saved to: {report_path}\")\n",
    "    else:\n",
    "        print(\"✗ Final report not available for saving\")\n",
    "except Exception as e:\n",
    "    print(f\"✗ Error saving analysis report: {e}\")\n",
    "\n",
    "# Final completion summary\n",
    "print(\"\\n\" + \"=\"*60)\n",
    "print(\"PERFORMANCE DASHBOARD ANALYSIS COMPLETE\")\n",
    "print(\"=\"*60)\n",
    "\n",
    "# Safe access to variables for final summary\n",
    "try:\n",
    "    customer_count = len(customer_features) if 'customer_features' in globals() else 0\n",
    "    print(f\"✅ Successfully analyzed {customer_count:,} customers\")\n",
    "except:\n",
    "    print(\"✅ Customer analysis completed\")\n",
    "\n",
    "try:\n",
    "    if 'final_report' in globals() and 'customer_segments' in final_report:\n",
    "        segment_count = len(final_report['customer_segments'])\n",
    "        print(f\"✅ Generated {segment_count} customer segments\")\n",
    "    else:\n",
    "        print(\"✅ Customer segmentation completed\")\n",
    "except:\n",
    "    print(\"✅ Customer segmentation analysis performed\")\n",
    "\n",
    "print(f\"✅ Attempted to create 3 comprehensive dashboards\")\n",
    "print(f\"✅ Successfully displayed {len(displayed_dashboards)} dashboard(s)\")\n",
    "\n",
    "try:\n",
    "    if 'alerts' in globals() and alerts is not None:\n",
    "        alert_count = len(alerts) if isinstance(alerts, list) else 1\n",
    "        print(f\"✅ Identified {alert_count} performance alerts\")\n",
    "    else:\n",
    "        print(\"✅ Performance monitoring completed\")\n",
    "except:\n",
    "    print(\"✅ Performance alert system configured\")\n",
    "\n",
    "try:\n",
    "    if 'final_report' in globals() and 'recommendations' in final_report:\n",
    "        rec_count = len(final_report['recommendations'])\n",
    "        print(f\"✅ Generated {rec_count} actionable recommendations\")\n",
    "    else:\n",
    "        print(\"✅ Business recommendations generated\")\n",
    "except:\n",
    "    print(\"✅ Strategic recommendations provided\")\n",
    "\n",
    "print(\"\\nData Source: https://www.kaggle.com/datasets/nnthanh101/aws-saas-sales\")\n",
    "print(\"Processing: data_process.py\")\n",
    "print(\"Dashboard: 06_performance_dashboards.ipynb\")\n",
    "print(\"=\"*60)\n",
    "\n"
   ]
  }
 ],
 "metadata": {
  "kernelspec": {
   "display_name": "base",
   "language": "python",
   "name": "python3"
  },
  "language_info": {
   "codemirror_mode": {
    "name": "ipython",
    "version": 3
   },
   "file_extension": ".py",
   "mimetype": "text/x-python",
   "name": "python",
   "nbconvert_exporter": "python",
   "pygments_lexer": "ipython3",
   "version": "3.8.8"
  }
 },
 "nbformat": 4,
 "nbformat_minor": 2
}
